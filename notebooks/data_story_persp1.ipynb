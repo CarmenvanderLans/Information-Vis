{
 "cells": [
  {
   "attachments": {},
   "cell_type": "markdown",
   "id": "860fd4ef",
   "metadata": {},
   "source": [
    "# Verschillen in milieubeleid verklaren verschillen in landbouwuitstoot\n",
    "\n",
    "De uitstoot van de landbouwsector verschilt sterk tussen landen. In dit perspectief onderzoeken we hoe beleidskeuzes zoals milieuregels en landbouwsubsidies bijdragen aan die verschillen. We gebruiken internationale data om te analyseren welke landen efficiënt produceren en welke landen vervuilende landbouw blijven stimuleren.\n"
   ]
  },
  {
   "attachments": {},
   "cell_type": "markdown",
   "id": "1547d891",
   "metadata": {},
   "source": [
    "### Landen met strenger milieubeleid stoten gemiddeld minder CO₂ uit per ton landbouwproductie.\n",
    "\n",
    "In veel gesprekken over landbouw en klimaat gaat de aandacht uit naar de totale uitstoot per land. Maar het zegt veel meer als je kijkt naar hoe efficiënt die uitstoot is in verhouding tot wat er wordt geproduceerd. Door CO₂-uitstoot te koppelen aan de hoeveelheid landbouwproducten krijgen we een eerlijker beeld van hoe vervuilend of juist duurzaam een landbouwsysteem echt is. Zo kunnen landen op een eerlijke manier met elkaar worden vergeleken, ongeacht hun grootte of landbouwproductie, en wordt duidelijker welke landen daadwerkelijk inzetten op een duurzamere landbouw.\n"
   ]
  },
  {
   "cell_type": "code",
   "execution_count": 23,
   "id": "de0aa968",
   "metadata": {},
   "outputs": [
    {
     "data": {
      "application/vnd.plotly.v1+json": {
       "config": {
        "plotlyServerURL": "https://plot.ly"
       },
       "data": [
        {
         "colorbar": {
          "len": 0.6,
          "title": {
           "text": "EPI Score"
          },
          "x": 1.01
         },
         "colorscale": [
          [
           0,
           "rgb(255,255,229)"
          ],
          [
           0.125,
           "rgb(247,252,185)"
          ],
          [
           0.25,
           "rgb(217,240,163)"
          ],
          [
           0.375,
           "rgb(173,221,142)"
          ],
          [
           0.5,
           "rgb(120,198,121)"
          ],
          [
           0.625,
           "rgb(65,171,93)"
          ],
          [
           0.75,
           "rgb(35,132,67)"
          ],
          [
           0.875,
           "rgb(0,104,55)"
          ],
          [
           1,
           "rgb(0,69,41)"
          ]
         ],
         "locationmode": "country names",
         "locations": [
          "Afghanistan",
          "Albania",
          "Algeria",
          "Angola",
          "Argentina",
          "Australia",
          "Austria",
          "Azerbaijan",
          "Bangladesh",
          "Belarus",
          "Belgium",
          "Benin",
          "Brazil",
          "Bulgaria",
          "Burkina Faso",
          "Burundi",
          "Cambodia",
          "Cameroon",
          "Canada",
          "Chad",
          "Chile",
          "China",
          "Colombia",
          "Costa Rica",
          "Croatia",
          "Cuba",
          "Denmark",
          "Dominican Republic",
          "Ecuador",
          "Egypt",
          "El Salvador",
          "Eswatini",
          "Ethiopia",
          "Finland",
          "France",
          "Germany",
          "Ghana",
          "Greece",
          "Guatemala",
          "Guinea",
          "Honduras",
          "Hungary",
          "India",
          "Indonesia",
          "Iraq",
          "Ireland",
          "Israel",
          "Italy",
          "Japan",
          "Kazakhstan",
          "Kenya",
          "Kyrgyzstan",
          "Latvia",
          "Lithuania",
          "Madagascar",
          "Malawi",
          "Malaysia",
          "Mali",
          "Mexico",
          "Morocco",
          "Mozambique",
          "Myanmar",
          "Nepal",
          "New Zealand",
          "Nicaragua",
          "Niger",
          "Nigeria",
          "Norway",
          "Pakistan",
          "Panama",
          "Papua New Guinea",
          "Paraguay",
          "Peru",
          "Philippines",
          "Poland",
          "Portugal",
          "Romania",
          "Rwanda",
          "Saudi Arabia",
          "Senegal",
          "Serbia",
          "Sierra Leone",
          "Slovakia",
          "South Africa",
          "Spain",
          "Sri Lanka",
          "Sudan",
          "Sweden",
          "Switzerland",
          "Tajikistan",
          "Thailand",
          "Togo",
          "Tunisia",
          "Turkmenistan",
          "Uganda",
          "Ukraine",
          "United States of America",
          "Uruguay",
          "Uzbekistan",
          "Viet Nam",
          "Zambia",
          "Zimbabwe"
         ],
         "showscale": true,
         "type": "choropleth",
         "z": {
          "bdata": "zczMzMzMRUDNzMzMzIxHQJqZmZmZmT1AAAAAAACAPkDNzMzMzIxEQM3MzMzMDE5AAAAAAACgUEDNzMzMzExDQJqZmZmZGTdAAAAAAABASECamZmZmRlNQJqZmZmZmT1AzczMzMzMRUAzMzMzM/NJQAAAAAAAwEFAAAAAAACAPkCamZmZmRk+QDMzMzMzMz5AAAAAAAAASUCamZmZmRk8QJqZmZmZWUdAZmZmZmZmPEAzMzMzMzNFQGZmZmZmJkdAmpmZmZkZTkAAAAAAAMBHQJqZmZmZeVNAmpmZmZkZRUAAAAAAAEBHQAAAAAAAwEFAZmZmZmZmREAzMzMzM3NGQM3MzMzMzD9AAAAAAAAgU0AAAAAAAEBPQDMzMzMzM09AMzMzMzOzO0CamZmZmRlMQAAAAAAAADxAmpmZmZmZP0AAAAAAAEBCQM3MzMzMjEtAZmZmZmbmMkAzMzMzMzM8QM3MzMzMzDtAMzMzMzOzTECamZmZmRlIQJqZmZmZ2UxAmpmZmZmZTEAzMzMzM3NEQM3MzMzMzD5AmpmZmZnZQUDNzMzMzIxOQDMzMzMz80tAAAAAAAAAPEDNzMzMzExEQAAAAAAAgEFAAAAAAACAPEAAAAAAAMBGQGZmZmZmZjxAMzMzMzOzP0BmZmZmZmYzQM3MzMzMTDxAmpmZmZlZTECamZmZmdlCQJqZmZmZ2UJAzczMzMxMPEBmZmZmZqZNQJqZmZmZmThAAAAAAABASUDNzMzMzMw4QDMzMzMzc0RAZmZmZmbmQ0BmZmZmZuY8QM3MzMzMTElAMzMzMzMzSUAAAAAAAABMQGZmZmZmZkBAMzMzMzPzQkAzMzMzM/NAQDMzMzMz80VAmpmZmZlZQEAAAAAAAABOQJqZmZmZmUJAzczMzMxMTECamZmZmVlBQJqZmZmZmTtAzczMzMwsUkCamZmZmXlQQM3MzMzMjEJAzczMzMwMQ0AAAAAAAABBQJqZmZmZWURAAAAAAACAQkBmZmZmZuZBQM3MzMzMzEhAzczMzMyMSUAzMzMzM7NCQJqZmZmZGUNAmpmZmZkZNEAzMzMzMzNDQJqZmZmZGUdA",
          "dtype": "f8"
         },
         "zmax": 100,
         "zmin": 0
        },
        {
         "locationmode": "country names",
         "locations": [
          "Afghanistan",
          "Albania",
          "Algeria",
          "Angola",
          "Argentina",
          "Australia",
          "Austria",
          "Azerbaijan",
          "Bangladesh",
          "Belarus",
          "Belgium",
          "Benin",
          "Brazil",
          "Bulgaria",
          "Burkina Faso",
          "Burundi",
          "Cambodia",
          "Cameroon",
          "Canada",
          "Chad",
          "Chile",
          "China",
          "Colombia",
          "Costa Rica",
          "Croatia",
          "Cuba",
          "Denmark",
          "Dominican Republic",
          "Ecuador",
          "Egypt",
          "El Salvador",
          "Eswatini",
          "Ethiopia",
          "Finland",
          "France",
          "Germany",
          "Ghana",
          "Greece",
          "Guatemala",
          "Guinea",
          "Honduras",
          "Hungary",
          "India",
          "Indonesia",
          "Iraq",
          "Ireland",
          "Israel",
          "Italy",
          "Japan",
          "Kazakhstan",
          "Kenya",
          "Kyrgyzstan",
          "Latvia",
          "Lithuania",
          "Madagascar",
          "Malawi",
          "Malaysia",
          "Mali",
          "Mexico",
          "Morocco",
          "Mozambique",
          "Myanmar",
          "Nepal",
          "New Zealand",
          "Nicaragua",
          "Niger",
          "Nigeria",
          "Norway",
          "Pakistan",
          "Panama",
          "Papua New Guinea",
          "Paraguay",
          "Peru",
          "Philippines",
          "Poland",
          "Portugal",
          "Romania",
          "Rwanda",
          "Saudi Arabia",
          "Senegal",
          "Serbia",
          "Sierra Leone",
          "Slovakia",
          "South Africa",
          "Spain",
          "Sri Lanka",
          "Sudan",
          "Sweden",
          "Switzerland",
          "Tajikistan",
          "Thailand",
          "Togo",
          "Tunisia",
          "Turkmenistan",
          "Uganda",
          "Ukraine",
          "United States of America",
          "Uruguay",
          "Uzbekistan",
          "Viet Nam",
          "Zambia",
          "Zimbabwe"
         ],
         "marker": {
          "cmax": 2.700368256616462,
          "cmin": 0.7632761720877571,
          "color": {
           "bdata": "JIFbInlr+D8XVU1PQ1LpP/NDC4Oq8Pk/BsfsEvnfBUBdZWVQt8vyPzA+IGzXsfY/iAYApCjf6T+uEQSuG5jyPxk/9BgiHfI/SSVOYLMgAkCPh3wLl0zpP3BP0KZhH/Q/QZikakTC8T/Ks8WQ/hzpP4+9UH53mQJAzNPU+Ehy6j9nGuj4tfn9Pxf8H499Gfk/S/S8lsd5/z/tFr0Fgr8sQPUSB/LkVPQ/qV603H1F6j/VirDVBCD+P/Rd2wHgOt8/paxocmbL8T+rHu00gAjxP9OXMFK7JeU/aea2IYYI8D8FyQbR3az5P1wUcpS1+OY/AiTvZU+/4T8Uf9Ic7nzWP/15gWohiQpAg8oWVnsHBEBdmtIa8GfrP6zn2k5Tw+4/v0u8Rrn31T/5xQawPsb2P8opSXfu/No/ue+++6wIA0DtLna8H/nyPwIfUUDbg/M/9OJTGzlq6D8VZMzufzbzP1ynmpEvvAdAz7RFbhrV/j93HFe9+2P9P/bvMP4ZmPo/g4BPq8Ew+j8gT4OrP0nzP08HOIvUKPo/EKiQ/8vc7D9N0cJRW2H7P3qZ+IMdz/8/wfeT3AOAAkDXIcnbkOfiP2T4LQ6bleo/rB6wlZrD/j+VPx5lwnruP4vWE0auP/Y/z9TmhjSrEEBBy93ed7cFQDbGqgIo8/I/doeK4abx9T8x5iRbsLQDQHMKi01zeAJAScM2n2xJ7D/wXbEo0SsDQLAKWnqC4fA/MgQWoNcq/j8k3ixJHlQJQJF252CTVwlAAYt9Yih2A0Bi+fwk5JLsPwk6oCJ0GfI/prFVGOV9+D+xv1s7B5TsPygimBQJc+k/GjYYQnEXDkBOAcUm1AL6P/NcCPlr2PE/gg8XriHi9j+LkzeMk4PoP6HrBgFgkfI/hdyrD/Ri7D/M+3L6CIvtPyBTfiNHigpADsvd41OUBEBZlwqj2uP3P2DK6qLNPO8/M+F7qSlf5z/y2KC9ebTzPy89x0CnfvM/mQf4cwG8/z/YrJZUqZb4Pzrt8Yw1PuQ/825kKBYb8D9sEJTcZUQBQCH5nbWtm/E/nrIemA4a8j8X6pMiLD8TQKaswTUlz/s/",
           "dtype": "f8"
          },
          "colorbar": {
           "len": 1,
           "orientation": "h",
           "thickness": 15,
           "tickangle": 0,
           "tickvals": [
            0.763,
            1.732,
            2.7
           ],
           "x": 0.5,
           "xanchor": "center",
           "y": -0.2,
           "yanchor": "bottom"
          },
          "colorscale": [
           [
            0,
            "#ffffcc"
           ],
           [
            0.25,
            "#ffcc66"
           ],
           [
            0.5,
            "#ff9933"
           ],
           [
            0.75,
            "#cc3300"
           ],
           [
            1,
            "#660000"
           ]
          ],
          "size": 5
         },
         "name": "Uitstoot per ton",
         "text": [
          "Afghanistan",
          "Albania",
          "Algeria",
          "Angola",
          "Argentina",
          "Australia",
          "Austria",
          "Azerbaijan",
          "Bangladesh",
          "Belarus",
          "Belgium",
          "Benin",
          "Brazil",
          "Bulgaria",
          "Burkina Faso",
          "Burundi",
          "Cambodia",
          "Cameroon",
          "Canada",
          "Chad",
          "Chile",
          "China",
          "Colombia",
          "Costa Rica",
          "Croatia",
          "Cuba",
          "Denmark",
          "Dominican Republic",
          "Ecuador",
          "Egypt",
          "El Salvador",
          "Eswatini",
          "Ethiopia",
          "Finland",
          "France",
          "Germany",
          "Ghana",
          "Greece",
          "Guatemala",
          "Guinea",
          "Honduras",
          "Hungary",
          "India",
          "Indonesia",
          "Iraq",
          "Ireland",
          "Israel",
          "Italy",
          "Japan",
          "Kazakhstan",
          "Kenya",
          "Kyrgyzstan",
          "Latvia",
          "Lithuania",
          "Madagascar",
          "Malawi",
          "Malaysia",
          "Mali",
          "Mexico",
          "Morocco",
          "Mozambique",
          "Myanmar",
          "Nepal",
          "New Zealand",
          "Nicaragua",
          "Niger",
          "Nigeria",
          "Norway",
          "Pakistan",
          "Panama",
          "Papua New Guinea",
          "Paraguay",
          "Peru",
          "Philippines",
          "Poland",
          "Portugal",
          "Romania",
          "Rwanda",
          "Saudi Arabia",
          "Senegal",
          "Serbia",
          "Sierra Leone",
          "Slovakia",
          "South Africa",
          "Spain",
          "Sri Lanka",
          "Sudan",
          "Sweden",
          "Switzerland",
          "Tajikistan",
          "Thailand",
          "Togo",
          "Tunisia",
          "Turkmenistan",
          "Uganda",
          "Ukraine",
          "United States of America",
          "Uruguay",
          "Uzbekistan",
          "Viet Nam",
          "Zambia",
          "Zimbabwe"
         ],
         "type": "scattergeo"
        }
       ],
       "layout": {
        "annotations": [
         {
          "font": {
           "size": 13
          },
          "showarrow": false,
          "text": "CO₂-uitstoot per ton landbouwproductie",
          "x": 0.5,
          "xanchor": "center",
          "xref": "paper",
          "y": -0.15,
          "yanchor": "bottom",
          "yref": "paper"
         }
        ],
        "geo": {
         "center": {
          "lat": 10,
          "lon": 10
         },
         "projection": {
          "scale": 1.3,
          "type": "equirectangular"
         },
         "showcoastlines": true,
         "showframe": false
        },
        "height": 710,
        "margin": {
         "b": 220,
         "l": 60,
         "r": 60,
         "t": 60
        },
        "template": {
         "data": {
          "bar": [
           {
            "error_x": {
             "color": "#2a3f5f"
            },
            "error_y": {
             "color": "#2a3f5f"
            },
            "marker": {
             "line": {
              "color": "#E5ECF6",
              "width": 0.5
             },
             "pattern": {
              "fillmode": "overlay",
              "size": 10,
              "solidity": 0.2
             }
            },
            "type": "bar"
           }
          ],
          "barpolar": [
           {
            "marker": {
             "line": {
              "color": "#E5ECF6",
              "width": 0.5
             },
             "pattern": {
              "fillmode": "overlay",
              "size": 10,
              "solidity": 0.2
             }
            },
            "type": "barpolar"
           }
          ],
          "carpet": [
           {
            "aaxis": {
             "endlinecolor": "#2a3f5f",
             "gridcolor": "white",
             "linecolor": "white",
             "minorgridcolor": "white",
             "startlinecolor": "#2a3f5f"
            },
            "baxis": {
             "endlinecolor": "#2a3f5f",
             "gridcolor": "white",
             "linecolor": "white",
             "minorgridcolor": "white",
             "startlinecolor": "#2a3f5f"
            },
            "type": "carpet"
           }
          ],
          "choropleth": [
           {
            "colorbar": {
             "outlinewidth": 0,
             "ticks": ""
            },
            "type": "choropleth"
           }
          ],
          "contour": [
           {
            "colorbar": {
             "outlinewidth": 0,
             "ticks": ""
            },
            "colorscale": [
             [
              0,
              "#0d0887"
             ],
             [
              0.1111111111111111,
              "#46039f"
             ],
             [
              0.2222222222222222,
              "#7201a8"
             ],
             [
              0.3333333333333333,
              "#9c179e"
             ],
             [
              0.4444444444444444,
              "#bd3786"
             ],
             [
              0.5555555555555556,
              "#d8576b"
             ],
             [
              0.6666666666666666,
              "#ed7953"
             ],
             [
              0.7777777777777778,
              "#fb9f3a"
             ],
             [
              0.8888888888888888,
              "#fdca26"
             ],
             [
              1,
              "#f0f921"
             ]
            ],
            "type": "contour"
           }
          ],
          "contourcarpet": [
           {
            "colorbar": {
             "outlinewidth": 0,
             "ticks": ""
            },
            "type": "contourcarpet"
           }
          ],
          "heatmap": [
           {
            "colorbar": {
             "outlinewidth": 0,
             "ticks": ""
            },
            "colorscale": [
             [
              0,
              "#0d0887"
             ],
             [
              0.1111111111111111,
              "#46039f"
             ],
             [
              0.2222222222222222,
              "#7201a8"
             ],
             [
              0.3333333333333333,
              "#9c179e"
             ],
             [
              0.4444444444444444,
              "#bd3786"
             ],
             [
              0.5555555555555556,
              "#d8576b"
             ],
             [
              0.6666666666666666,
              "#ed7953"
             ],
             [
              0.7777777777777778,
              "#fb9f3a"
             ],
             [
              0.8888888888888888,
              "#fdca26"
             ],
             [
              1,
              "#f0f921"
             ]
            ],
            "type": "heatmap"
           }
          ],
          "histogram": [
           {
            "marker": {
             "pattern": {
              "fillmode": "overlay",
              "size": 10,
              "solidity": 0.2
             }
            },
            "type": "histogram"
           }
          ],
          "histogram2d": [
           {
            "colorbar": {
             "outlinewidth": 0,
             "ticks": ""
            },
            "colorscale": [
             [
              0,
              "#0d0887"
             ],
             [
              0.1111111111111111,
              "#46039f"
             ],
             [
              0.2222222222222222,
              "#7201a8"
             ],
             [
              0.3333333333333333,
              "#9c179e"
             ],
             [
              0.4444444444444444,
              "#bd3786"
             ],
             [
              0.5555555555555556,
              "#d8576b"
             ],
             [
              0.6666666666666666,
              "#ed7953"
             ],
             [
              0.7777777777777778,
              "#fb9f3a"
             ],
             [
              0.8888888888888888,
              "#fdca26"
             ],
             [
              1,
              "#f0f921"
             ]
            ],
            "type": "histogram2d"
           }
          ],
          "histogram2dcontour": [
           {
            "colorbar": {
             "outlinewidth": 0,
             "ticks": ""
            },
            "colorscale": [
             [
              0,
              "#0d0887"
             ],
             [
              0.1111111111111111,
              "#46039f"
             ],
             [
              0.2222222222222222,
              "#7201a8"
             ],
             [
              0.3333333333333333,
              "#9c179e"
             ],
             [
              0.4444444444444444,
              "#bd3786"
             ],
             [
              0.5555555555555556,
              "#d8576b"
             ],
             [
              0.6666666666666666,
              "#ed7953"
             ],
             [
              0.7777777777777778,
              "#fb9f3a"
             ],
             [
              0.8888888888888888,
              "#fdca26"
             ],
             [
              1,
              "#f0f921"
             ]
            ],
            "type": "histogram2dcontour"
           }
          ],
          "mesh3d": [
           {
            "colorbar": {
             "outlinewidth": 0,
             "ticks": ""
            },
            "type": "mesh3d"
           }
          ],
          "parcoords": [
           {
            "line": {
             "colorbar": {
              "outlinewidth": 0,
              "ticks": ""
             }
            },
            "type": "parcoords"
           }
          ],
          "pie": [
           {
            "automargin": true,
            "type": "pie"
           }
          ],
          "scatter": [
           {
            "fillpattern": {
             "fillmode": "overlay",
             "size": 10,
             "solidity": 0.2
            },
            "type": "scatter"
           }
          ],
          "scatter3d": [
           {
            "line": {
             "colorbar": {
              "outlinewidth": 0,
              "ticks": ""
             }
            },
            "marker": {
             "colorbar": {
              "outlinewidth": 0,
              "ticks": ""
             }
            },
            "type": "scatter3d"
           }
          ],
          "scattercarpet": [
           {
            "marker": {
             "colorbar": {
              "outlinewidth": 0,
              "ticks": ""
             }
            },
            "type": "scattercarpet"
           }
          ],
          "scattergeo": [
           {
            "marker": {
             "colorbar": {
              "outlinewidth": 0,
              "ticks": ""
             }
            },
            "type": "scattergeo"
           }
          ],
          "scattergl": [
           {
            "marker": {
             "colorbar": {
              "outlinewidth": 0,
              "ticks": ""
             }
            },
            "type": "scattergl"
           }
          ],
          "scattermap": [
           {
            "marker": {
             "colorbar": {
              "outlinewidth": 0,
              "ticks": ""
             }
            },
            "type": "scattermap"
           }
          ],
          "scattermapbox": [
           {
            "marker": {
             "colorbar": {
              "outlinewidth": 0,
              "ticks": ""
             }
            },
            "type": "scattermapbox"
           }
          ],
          "scatterpolar": [
           {
            "marker": {
             "colorbar": {
              "outlinewidth": 0,
              "ticks": ""
             }
            },
            "type": "scatterpolar"
           }
          ],
          "scatterpolargl": [
           {
            "marker": {
             "colorbar": {
              "outlinewidth": 0,
              "ticks": ""
             }
            },
            "type": "scatterpolargl"
           }
          ],
          "scatterternary": [
           {
            "marker": {
             "colorbar": {
              "outlinewidth": 0,
              "ticks": ""
             }
            },
            "type": "scatterternary"
           }
          ],
          "surface": [
           {
            "colorbar": {
             "outlinewidth": 0,
             "ticks": ""
            },
            "colorscale": [
             [
              0,
              "#0d0887"
             ],
             [
              0.1111111111111111,
              "#46039f"
             ],
             [
              0.2222222222222222,
              "#7201a8"
             ],
             [
              0.3333333333333333,
              "#9c179e"
             ],
             [
              0.4444444444444444,
              "#bd3786"
             ],
             [
              0.5555555555555556,
              "#d8576b"
             ],
             [
              0.6666666666666666,
              "#ed7953"
             ],
             [
              0.7777777777777778,
              "#fb9f3a"
             ],
             [
              0.8888888888888888,
              "#fdca26"
             ],
             [
              1,
              "#f0f921"
             ]
            ],
            "type": "surface"
           }
          ],
          "table": [
           {
            "cells": {
             "fill": {
              "color": "#EBF0F8"
             },
             "line": {
              "color": "white"
             }
            },
            "header": {
             "fill": {
              "color": "#C8D4E3"
             },
             "line": {
              "color": "white"
             }
            },
            "type": "table"
           }
          ]
         },
         "layout": {
          "annotationdefaults": {
           "arrowcolor": "#2a3f5f",
           "arrowhead": 0,
           "arrowwidth": 1
          },
          "autotypenumbers": "strict",
          "coloraxis": {
           "colorbar": {
            "outlinewidth": 0,
            "ticks": ""
           }
          },
          "colorscale": {
           "diverging": [
            [
             0,
             "#8e0152"
            ],
            [
             0.1,
             "#c51b7d"
            ],
            [
             0.2,
             "#de77ae"
            ],
            [
             0.3,
             "#f1b6da"
            ],
            [
             0.4,
             "#fde0ef"
            ],
            [
             0.5,
             "#f7f7f7"
            ],
            [
             0.6,
             "#e6f5d0"
            ],
            [
             0.7,
             "#b8e186"
            ],
            [
             0.8,
             "#7fbc41"
            ],
            [
             0.9,
             "#4d9221"
            ],
            [
             1,
             "#276419"
            ]
           ],
           "sequential": [
            [
             0,
             "#0d0887"
            ],
            [
             0.1111111111111111,
             "#46039f"
            ],
            [
             0.2222222222222222,
             "#7201a8"
            ],
            [
             0.3333333333333333,
             "#9c179e"
            ],
            [
             0.4444444444444444,
             "#bd3786"
            ],
            [
             0.5555555555555556,
             "#d8576b"
            ],
            [
             0.6666666666666666,
             "#ed7953"
            ],
            [
             0.7777777777777778,
             "#fb9f3a"
            ],
            [
             0.8888888888888888,
             "#fdca26"
            ],
            [
             1,
             "#f0f921"
            ]
           ],
           "sequentialminus": [
            [
             0,
             "#0d0887"
            ],
            [
             0.1111111111111111,
             "#46039f"
            ],
            [
             0.2222222222222222,
             "#7201a8"
            ],
            [
             0.3333333333333333,
             "#9c179e"
            ],
            [
             0.4444444444444444,
             "#bd3786"
            ],
            [
             0.5555555555555556,
             "#d8576b"
            ],
            [
             0.6666666666666666,
             "#ed7953"
            ],
            [
             0.7777777777777778,
             "#fb9f3a"
            ],
            [
             0.8888888888888888,
             "#fdca26"
            ],
            [
             1,
             "#f0f921"
            ]
           ]
          },
          "colorway": [
           "#636efa",
           "#EF553B",
           "#00cc96",
           "#ab63fa",
           "#FFA15A",
           "#19d3f3",
           "#FF6692",
           "#B6E880",
           "#FF97FF",
           "#FECB52"
          ],
          "font": {
           "color": "#2a3f5f"
          },
          "geo": {
           "bgcolor": "white",
           "lakecolor": "white",
           "landcolor": "#E5ECF6",
           "showlakes": true,
           "showland": true,
           "subunitcolor": "white"
          },
          "hoverlabel": {
           "align": "left"
          },
          "hovermode": "closest",
          "mapbox": {
           "style": "light"
          },
          "paper_bgcolor": "white",
          "plot_bgcolor": "#E5ECF6",
          "polar": {
           "angularaxis": {
            "gridcolor": "white",
            "linecolor": "white",
            "ticks": ""
           },
           "bgcolor": "#E5ECF6",
           "radialaxis": {
            "gridcolor": "white",
            "linecolor": "white",
            "ticks": ""
           }
          },
          "scene": {
           "xaxis": {
            "backgroundcolor": "#E5ECF6",
            "gridcolor": "white",
            "gridwidth": 2,
            "linecolor": "white",
            "showbackground": true,
            "ticks": "",
            "zerolinecolor": "white"
           },
           "yaxis": {
            "backgroundcolor": "#E5ECF6",
            "gridcolor": "white",
            "gridwidth": 2,
            "linecolor": "white",
            "showbackground": true,
            "ticks": "",
            "zerolinecolor": "white"
           },
           "zaxis": {
            "backgroundcolor": "#E5ECF6",
            "gridcolor": "white",
            "gridwidth": 2,
            "linecolor": "white",
            "showbackground": true,
            "ticks": "",
            "zerolinecolor": "white"
           }
          },
          "shapedefaults": {
           "line": {
            "color": "#2a3f5f"
           }
          },
          "ternary": {
           "aaxis": {
            "gridcolor": "white",
            "linecolor": "white",
            "ticks": ""
           },
           "baxis": {
            "gridcolor": "white",
            "linecolor": "white",
            "ticks": ""
           },
           "bgcolor": "#E5ECF6",
           "caxis": {
            "gridcolor": "white",
            "linecolor": "white",
            "ticks": ""
           }
          },
          "title": {
           "x": 0.05
          },
          "xaxis": {
           "automargin": true,
           "gridcolor": "white",
           "linecolor": "white",
           "ticks": "",
           "title": {
            "standoff": 15
           },
           "zerolinecolor": "white",
           "zerolinewidth": 2
          },
          "yaxis": {
           "automargin": true,
           "gridcolor": "white",
           "linecolor": "white",
           "ticks": "",
           "title": {
            "standoff": 15
           },
           "zerolinecolor": "white",
           "zerolinewidth": 2
          }
         }
        },
        "title": {
         "font": {
          "size": 16
         },
         "text": "CO₂-uitstoot per ton landbouwproductie en milieubeleid (EPI-score) per land (2022)"
        },
        "width": 1100
       }
      }
     },
     "metadata": {},
     "output_type": "display_data"
    }
   ],
   "source": [
    "import pandas as pd\n",
    "import plotly.graph_objects as go\n",
    "\n",
    "# Data inladen\n",
    "emissies = pd.read_csv(\"FAOSTAT_landbouw_emissies_2022.csv\")\n",
    "productie = pd.read_csv(\"FAOSTAT_landbouw_productie_2022.csv\")\n",
    "epi      = pd.read_csv(\"epi2022results05302022.csv\")\n",
    "\n",
    "# Emissies per land (in kiloton)\n",
    "emissie_per_land = emissies.groupby(\"Area\")[\"Value\"].sum().reset_index()\n",
    "emissie_per_land.columns = [\"Country\", \"Emissions_kt\"]\n",
    "\n",
    "# Productie per land (in ton omzetten naar kiloton)\n",
    "productie_per_land = productie.groupby(\"Area\")[\"Value\"].sum().reset_index()\n",
    "productie_per_land.columns = [\"Country\", \"Production_ton\"]\n",
    "productie_per_land[\"Production_kt\"] = productie_per_land[\"Production_ton\"] / 1000\n",
    "\n",
    "# Combineren en uitstoot per ton berekenen\n",
    "combined = pd.merge(emissie_per_land, productie_per_land, on=\"Country\")\n",
    "combined[\"Emissions_per_ton\"] = combined[\"Emissions_kt\"] / combined[\"Production_kt\"]\n",
    "\n",
    "# EPI-score koppelen\n",
    "epi = epi.rename(columns={\"country\": \"Country\", \"EPI.new\": \"EPI_Score\"})\n",
    "final = pd.merge(combined, epi[[\"Country\", \"EPI_Score\"]], on=\"Country\")\n",
    "\n",
    "# Filter landen met voldoende landbouwactiviteit\n",
    "final = final[(final[\"Production_kt\"] > 5000) & (final[\"Emissions_kt\"] > 50)]\n",
    "\n",
    "# Percentielen voor kleurcontrast\n",
    "p10 = final[\"Emissions_per_ton\"].quantile(0.10)\n",
    "p90 = final[\"Emissions_per_ton\"].quantile(0.90)\n",
    "\n",
    "# Achtergrondkaart: EPI-score\n",
    "choropleth = go.Choropleth(\n",
    "    locations=final[\"Country\"],\n",
    "    locationmode=\"country names\",\n",
    "    z=final[\"EPI_Score\"],\n",
    "    colorscale=\"YlGn\",\n",
    "    zmin=0,\n",
    "    zmax=100,\n",
    "    showscale=True,\n",
    "    colorbar=dict(\n",
    "        title=\"EPI Score\",\n",
    "        x=1.01,\n",
    "        len=0.6\n",
    "    )\n",
    ")\n",
    "\n",
    "# Puntenkaart: CO₂-uitstoot per ton landbouwproductie\n",
    "scatter = go.Scattergeo(\n",
    "    locationmode='country names',\n",
    "    locations=final[\"Country\"],\n",
    "    text=final[\"Country\"],\n",
    "    marker=dict(\n",
    "        size=5,\n",
    "        color=final[\"Emissions_per_ton\"],\n",
    "        colorscale=[\"#ffffcc\", \"#ffcc66\", \"#ff9933\", \"#cc3300\", \"#660000\"],\n",
    "        cmin=p10,\n",
    "        cmax=p90,\n",
    "        colorbar=dict(\n",
    "            title=None,\n",
    "            orientation='h',\n",
    "            x=0.5,\n",
    "            xanchor=\"center\",\n",
    "            y=-0.2,\n",
    "            yanchor=\"bottom\",\n",
    "            len=1.0,\n",
    "            thickness=15,\n",
    "            tickangle=0,\n",
    "            tickvals=[\n",
    "                round(p10, 3),\n",
    "                round((p10 + p90) / 2, 3),\n",
    "                round(p90, 3)\n",
    "            ]\n",
    "        )\n",
    "    ),\n",
    "    name=\"Uitstoot per ton\"\n",
    ")\n",
    "\n",
    "# Visualisatie samenstellen\n",
    "fig = go.Figure(data=[choropleth, scatter])\n",
    "fig.update_layout(\n",
    "    title=\"CO₂-uitstoot per ton landbouwproductie en milieubeleid (EPI-score) per land (2022)\",\n",
    "    title_font=dict(size=16),\n",
    "    geo=dict(\n",
    "        showframe=False,\n",
    "        showcoastlines=True,\n",
    "        projection_type='equirectangular',\n",
    "        projection_scale=1.3,\n",
    "        center=dict(lat=10, lon=10)\n",
    "    ),\n",
    "    height=710,\n",
    "    width=1100,\n",
    "    margin=dict(t=60, b=220, r=60, l=60),\n",
    "    annotations=[\n",
    "        # Titel boven de kleurenschaal\n",
    "        dict(\n",
    "            text=\"CO₂-uitstoot per ton landbouwproductie\",\n",
    "            showarrow=False,\n",
    "            xref='paper',\n",
    "            yref='paper',\n",
    "            x=0.5,\n",
    "            y=-0.15,\n",
    "            xanchor='center',\n",
    "            yanchor='bottom',\n",
    "            font=dict(size=13)\n",
    "        ),\n",
    "    ]\n",
    ")\n",
    "\n",
    "fig.show()\n"
   ]
  },
  {
   "attachments": {},
   "cell_type": "markdown",
   "id": "6e1104f5",
   "metadata": {},
   "source": [
    "<span style=\"font-size: 60%;\"> Deze visualisatie toont de CO₂-uitstoot per ton landbouwproductie en relateert dit aan het milieubeleid van landen zoals gemeten via de EPI-score. Alleen landen met voldoende landbouwproductie zijn meegenomen (meer dan 5.000 kiloton productie en meer dan 50 kiloton uitstoot), om vertekende resultaten door kleine landbouwlanden zoals Qatar te voorkomen. </span>\n"
   ]
  },
  {
   "attachments": {},
   "cell_type": "markdown",
   "id": "0737d42a",
   "metadata": {},
   "source": [
    "De visualisatie laat duidelijk zien dat landen met een hoge EPI-score, wat wijst op sterker milieubeleid, gemiddeld minder CO₂ uitstoten per ton landbouwproductie. Dit is goed te zien bij landen als Zwitserland, Duitsland en Nieuw-Zeeland. Deze landen zijn donkergroen gekleurd, wat duidt op een hoog milieubeleidsscore, en hebben lichtere stippen, wat betekent dat hun uitstoot per ton landbouwproductie relatief laag is.\n",
    "\n",
    "Landen met lage EPI-scores, zoals India, Pakistan, Nigeria en Kenya, vallen juist op door hun lichtere achtergrondkleur in combinatie met donkergekleurde stippen. Dit betekent dat deze landen minder streng milieubeleid voeren en tegelijkertijd relatief veel uitstoten per ton landbouwproductie. Dit patroon ondersteunt sterk het idee dat strenger milieubeleid samenhangt met duurzamere landbouw.\n",
    "\n",
    "Een opvallende uitzondering vormen sommige Scandinavische landen, zoals Zweden en Finland. Zij scoren hoog op milieubeleid en zijn dus donkergroen op de kaart, maar hebben toch relatief donkere stippen. Dat betekent dat hun uitstoot per ton landbouwproductie hoger ligt dan je op basis van hun EPI-score zou verwachten. Toch zijn dit uitzonderingen op een veel duidelijker en bredere trend: landen met beter milieubeleid produceren landbouw gemiddeld op een schonere en efficiëntere manier."
   ]
  },
  {
   "attachments": {},
   "cell_type": "markdown",
   "id": "33bdd664",
   "metadata": {},
   "source": [
    "### Landen die duurzaamheid belonen via subsidies, stoten relatief minder CO₂ uit binnen hun landbouwsector\n",
    "\n",
    "Niet alleen milieuregels zijn van belang. Financiële prikkels spelen namelijk ook een grote rol. Overheden beïnvloeden landbouwgedrag niet alleen met wetten, maar ook via subsidies. Die subsidies kunnen duurzame praktijken stimuleren, zoals het beschermen van ecosystemen of het terugdringen van uitstoot. Maar ze kunnen ook onbedoeld vervuilende landbouw ondersteunen, bijvoorbeeld door intensieve veehouderij of het overmatig gebruik van kunstmest aantrekkelijk te maken.\n",
    "\n",
    "\n",
    "**Twee vormen van landbouwsubsidies:**\n",
    "\n",
    "| Subsidie | Volledige naam | Inhoud | Duurzaamheidswaarde |\n",
    "|----------|----------------|--------|----------------------|\n",
    "| **_GSSE_** | _General Services Support Estimate_ | Overheidsuitgaven voor publieke goederen en langetermijnvoorzieningen in de landbouw (onderzoek, kennisoverdracht, infrastructuur, milieuherstel). Boeren ontvangen deze steun niet direct. |  Wordt algemeen beschouwd als duurzame, niet-productiegebonden steun. |\n",
    "| **_PSE_**  | _Producer Support Estimate_ | Directe betalingen aan boeren, vaak gekoppeld aan hoeveel ze produceren of exporteren. Dit kan leiden tot intensivering en overproductie. |  Wordt vaak gezien als minder duurzaam of zelfs schadelijk voor het milieu. |\n",
    "\n",
    "De _TSE_ (_Total Support Estimate_) omvat álle subsidies (dus _TSE_ = _GSSE_ + _PSE_ + andere steunvormen van de originele OECD dataset).\n",
    "\n",
    "*Bron: [_OECD Glossary on Agricultural Support Indicators_](https://www.oecd.org/agriculture/topics/agricultural-policy-monitoring-and-evaluation/)*"
   ]
  },
  {
   "cell_type": "code",
   "execution_count": 21,
   "id": "9d29a6eb",
   "metadata": {},
   "outputs": [
    {
     "data": {
      "application/vnd.plotly.v1+json": {
       "config": {
        "plotlyServerURL": "https://plot.ly"
       },
       "data": [
        {
         "marker": {
          "color": "#C7EEF9"
         },
         "name": "Duurzame subsidies (GSSE/TSE) – Australië",
         "type": "bar",
         "visible": true,
         "x": {
          "bdata": "wgfDB8QHxQfGB8cHyAfJB8oHywfMB80HzgfPB9AH0QfSB9MH1AfVB9YH1wfYB9kH2gfbB9wH3QfeB98H4AfhB+IH4wfkB+UH5gc=",
          "dtype": "i2"
         },
         "y": {
          "bdata": "VCVVPJALrj/EbUV6ZwuzP79ribFxMbA/CIIyPA0HuD8hyBHsC0i5PwsDp0LYzcA/zpdpGjB5vD/46jhmDsq9P68lrm6sBsA/ztVzcPOwzz/K3Ytp8c3MP6R60/7+edg/LAqgRzDb1T8FVDxqKJ/XP38yFuUnrdg/tDnyrtUb2D8MB+N+MK/VP2IQVT+lmts/cRrYXJL23z8FSBF/0+3ePxM9PduDUt0/IqoBGiHo1j8lVNZWlgHZPwAEJoGsU+A/fY7hqKi62z+Ti/CbJ3zcP1cbsDJuPeI/nw6oRPyU4D8qAyJ0TgnjP0IdZrLfJ+I/Le6+owhK4z+uZdm677nhP37zeMdKIOI/OQsW4NaM3T/MYIH9aLPiPxGLYoR8F+I/WT+JsEcc3D8=",
          "dtype": "f8"
         },
         "yaxis": "y"
        },
        {
         "marker": {
          "color": "#EF8C60"
         },
         "mode": "lines+markers",
         "name": "CO₂-uitstoot – Australië",
         "type": "scatter",
         "visible": true,
         "x": {
          "bdata": "wgfDB8QHxQfGB8cHyAfJB8oHywfMB80HzgfPB9AH0QfSB9MH1AfVB9YH1wfYB9kH2gfbB9wH3QfeB98H4AfhB+IH4wfkB+UH5gc=",
          "dtype": "i2"
         },
         "y": {
          "bdata": "g8DKoXBV30B91g/E34XeQFVVVVVt8d5AffXehQgd4EBR8Fj/DynuQFonFJua2e1AXqascXLN7ECK9YjQhn3sQCiVGbHqiexA1QloIkL060BfbNIOc9zrQPlyTcQqCOxAdgeH0ves7EAAsOgZoD7vQBjY2we+RvBAo+5u313B8EDGPsoc8HnwQDBQ5tu3q+tAQvegCn9r7kBBV7g1pDbsQMJsKgOUFe9AUGuad4qn7kCf80QcumvsQJbgJmDOQu1AqVKXcUB660AA0uUQpifuQIlG8Coxye1Ao2/tldAc6EBhWjLhEDvpQDLBZE3ylOhAnkBspZoT50Bhs3ZiY/fpQHEbDeBx8ulAfzmyKMw26EBAm1CJ/ermQCpt9AyWwu5AdzPS19da70A=",
          "dtype": "f8"
         },
         "yaxis": "y2"
        },
        {
         "marker": {
          "color": "#C7EEF9"
         },
         "name": "Duurzame subsidies (GSSE/TSE) – Brazilië",
         "type": "bar",
         "visible": false,
         "x": {
          "bdata": "ywfMB80HzgfPB9AH0QfSB9MH1AfVB9YH1wfYB9kH2gfbB9wH3QfeB98H4AfhB+IH4wfkB+UH5gc=",
          "dtype": "i2"
         },
         "y": {
          "bdata": "KIW855qh5L/v81QrgtNAwMwI49fniRNAOWGXH+7Q5j9EIh8K7d8WwGXtzCkB4tE/TfB5K5xL2D9MXmtmiw/QPw791uyDDMQ/NG1fly370T88U8VfigDPPyjc2S4nh9A/DMU17UP0zT9QQWDEE+bRPzxSNzqP+M0/WfFghQRozz92ToZU6VDLP3HF6OySZ88/Of/jSjPY1D+7wreWKoDWP2F3Q4jiL9M/epf4aupp0D/86by1+u3TP+wtDOWibtc/jWnNn27K2D8zCjEaaqLTP8sMLEU7GMQ/FJs81L+Mwj8=",
          "dtype": "f8"
         },
         "yaxis": "y"
        },
        {
         "marker": {
          "color": "#EF8C60"
         },
         "mode": "lines+markers",
         "name": "CO₂-uitstoot – Brazilië",
         "type": "scatter",
         "visible": false,
         "x": {
          "bdata": "ywfMB80HzgfPB9AH0QfSB9MH1AfVB9YH1wfYB9kH2gfbB9wH3QfeB98H4AfhB+IH4wfkB+UH5gc=",
          "dtype": "i2"
         },
         "y": {
          "bdata": "H1oDj5QtFEHZzYx+iRAUQWitaBMd8BNBQdE84CSMFEEB9Pu+nJQUQS4LMLZbvhNBya60jPr0FUGPUglPARsXQTxLkNHRfBhB0/iF92YrGUGyklbcqOQXQf/r3HTggRZBXtvbLdt0FkG3m+B745UWQZ/HKC9hYBVBDb0vmH/YFEHDLLQzXY0NQQEqhpVJFQtBCAJk6AJBDkElea5vc3YOQUoMAit0VQxB875omQOHD0GbqxOd/+UPQch+ZugPNA9B9Ir/D1S2D0GHUM7fZwgQQTkUD2McaxBB5WlJH7KgEEE=",
          "dtype": "f8"
         },
         "yaxis": "y2"
        },
        {
         "marker": {
          "color": "#C7EEF9"
         },
         "name": "Duurzame subsidies (GSSE/TSE) – China",
         "type": "bar",
         "visible": false,
         "x": {
          "bdata": "ywfMB80HzgfPB9AH0QfSB9MH1AfVB9YH1wfYB9kH2gfbB9wH3QfeB98H4AfhB+IH4wfkB+UH5gc=",
          "dtype": "i2"
         },
         "y": {
          "bdata": "jOgWFSDY0D9CJp6LKtfnP9k0O1W0qeM/PjXqO03q5j+2506tQXD3P/iDIyoZtuE/Xz+UOoaI3z/5c2EpSjfWP9Vn0RWOctQ//YlPmME91z/v3JBqJK/SP9O+N9FwIM0/s/NV2CGtyz8xikgRFrXXP+4SK51+/co/Nrs8plXiwz/QLKTizQLHP83VENQpJ8E/OCLnz3XYwD9wZMsVzpnCP2y9V3F8vcU/iKdCZFBmwz8J4I4iNUbEPzMMS7Z+ssQ/Vb1YXYrXwD/QrsmrI4i/P5kIL7REl7k/fZPf+n04uj8=",
          "dtype": "f8"
         },
         "yaxis": "y"
        },
        {
         "marker": {
          "color": "#EF8C60"
         },
         "mode": "lines+markers",
         "name": "CO₂-uitstoot – China",
         "type": "scatter",
         "visible": false,
         "x": {
          "bdata": "ywfMB80HzgfPB9AH0QfSB9MH1AfVB9YH1wfYB9kH2gfbB9wH3QfeB98H4AfhB+IH4wfkB+UH5gc=",
          "dtype": "i2"
         },
         "y": {
          "bdata": "vdpXG9T7HUHxxTz8/TYfQZjoejs9kx5BV9H49e5CHkF6Zbkbk14fQVY/ZUFI4h9BJXPY54s7IEFGXCtoWikhQYRw1IaUKiNBqAFWYQmrJEEAQhFYQJolQdBCrp68TyhBEC1/G0ebKUFS64DmCMoqQVs4OYsD3StBqvn7jfv/K0G/IBaXsDgvQejizVFiXC5B6pxFzHNaMEG624Lk5fkuQVRP6GSoYDBB0ZWwEr5ZMEGETK39U6cwQbIDtAobEjFB6ea9sIx3MUGru/6emNAxQdquJH+EZTJBbSmZcxBxMkE=",
          "dtype": "f8"
         },
         "yaxis": "y2"
        },
        {
         "marker": {
          "color": "#C7EEF9"
         },
         "name": "Duurzame subsidies (GSSE/TSE) – Verenigde Staten",
         "type": "bar",
         "visible": false,
         "x": {
          "bdata": "wgfDB8QHxQfGB8cHyAfJB8oHywfMB80HzgfPB9AH0QfSB9MH1AfVB9YH1wfYB9kH2gfbB9wH3QfeB98H4AfhB+IH4wfkB+UH5gc=",
          "dtype": "i2"
         },
         "y": {
          "bdata": "u/m6OlKNrz9PWwcF6/+vP4VmrUiWHrM/Wnbgu/dxsj9WbfThLfW0P9cCCfOCv7U/jrZNvDJRtT8APSh8wLy0P3mHl8Zyi7Y/ywiLRrlbuj/bDC4Mke21PxLVbQfvXrY/lTTYGwhYsj9VjdEDMpKxP49Xhba277I/cTX8UOT9tj/MMtuAYsu6P5193xVBZr0/hK8rdhOluT9XCARD9se4P7SrGl3Ier4/W2JxNxSYuD9mW61iHNLCP9bz8rZ/w7w/0tNejBsKwD/rIdADgQuyPxqAfk3P/rE/0qdL/XxAvj/KyFkJplu1PzIGkgc9org/9GavusRfvD/je7xpWnjAPx9wGKW8kr0/Yidjp9DKvT8Jri6H0Cq4P9SAKXy2aLc/CeGeqEuquT8=",
          "dtype": "f8"
         },
         "yaxis": "y"
        },
        {
         "marker": {
          "color": "#EF8C60"
         },
         "mode": "lines+markers",
         "name": "CO₂-uitstoot – Verenigde Staten",
         "type": "scatter",
         "visible": false,
         "x": {
          "bdata": "wgfDB8QHxQfGB8cHyAfJB8oHywfMB80HzgfPB9AH0QfSB9MH1AfVB9YH1wfYB9kH2gfbB9wH3QfeB98H4AfhB+IH4wfkB+UH5gc=",
          "dtype": "i2"
         },
         "y": {
          "bdata": "DCdWcyff+EA3GsCbkEX4QDSl4myb7fdA9d4Fd6IA+EAQbnb3FOYUQQehT1an1xRBXBkRw8U9FUHP8XPp0bQVQdAVbs3vERZB1ZmWaV50FkHXuF2M3fAWQR8hNxFbZhdBdXhLuwF1F0G5aBmcf7IXQWSlc4oWShhB52l+/drKF0Gu8yy/V+MXQRGkbQ3IBRhBnWapbVaFGEGWH+7MBX8YQb58cP9VPxhBgJ3DLQiwGEFBXkWonBgYQTYKY9Jv2BZBkGpeIPxJF0EkL646UL0WQZImZHJN8RVBQOT2H9huFkEUm/r6JKEWQWtrDfm2bRZBXGBYkv3HFkFii5mxSc8WQYFNrIeeZhdB/v2lTjg2F0EUK26oMY0WQcObYMaSrh5BwzaxvP/LHkE=",
          "dtype": "f8"
         },
         "yaxis": "y2"
        },
        {
         "marker": {
          "color": "#C7EEF9"
         },
         "name": "Duurzame subsidies (GSSE/TSE) – Zuid-Afrika",
         "type": "bar",
         "visible": false,
         "x": {
          "bdata": "ywfMB80HzgfPB9AH0QfSB9MH1AfVB9YH1wfYB9kH2gfbB9wH3QfeB98H4AfhB+IH4wfkB+UH5gc=",
          "dtype": "i2"
         },
         "y": {
          "bdata": "sQd7Be9u0z+eUY/iZ1nWPyC53RNGd84/FXwSpC4f0j84XhFZWAbUP3iys4OV1to/DQW3ySyD3j/1QdVhh1/PP94o+p5Bctk/KpsX/HPS0z9aKgzi2PfXP/9xhhAkw84/zTMrJlKV0D+E+yljlnjTPymt37302c4/rOODFs2D1T9CTHJAo1fRP5EBSd0Tf88/gAXUtylH1z8GtgIBMunXPx1d7gdNHdI/t/zE1Uof2j/WZ+DGpjDTP+TbGGLr78o/aqsEWBHK1T8yrM55Vo/SP6t0e7jLkNU/sVY/93Dqzz8=",
          "dtype": "f8"
         },
         "yaxis": "y"
        },
        {
         "marker": {
          "color": "#EF8C60"
         },
         "mode": "lines+markers",
         "name": "CO₂-uitstoot – Zuid-Afrika",
         "type": "scatter",
         "visible": false,
         "x": {
          "bdata": "ywfMB80HzgfPB9AH0QfSB9MH1AfVB9YH1wfYB9kH2gfbB9wH3QfeB98H4AfhB+IH4wfkB+UH5gc=",
          "dtype": "i2"
         },
         "y": {
          "bdata": "YtmL5rM45kDz+qbDbJTmQLezGvsWj+dAttkuBltx50ClYcoYekXnQEM+6NlzY+dAjAp3XcbQ5kAto2IXy5PmQLnqDfFkSuhAANDc6ZsZ6kCe9SUd7G3pQDR7TqNQcepA9/g4eVRd60AA/tWNUobsQGcWcMuvsetAWqOnXj4P6kBfWgPgH5vqQBzdyihcC+pAkukoW/C06kCn79s9MEPrQJTCdy7chOhA3odCSRPo6kBLiGroPLfpQIjaDAkEiOpAiaJXV4CL60A3LGECj+LpQEyqIVpAGOpAFYxK6p9F6UA=",
          "dtype": "f8"
         },
         "yaxis": "y2"
        },
        {
         "marker": {
          "color": "#C7EEF9"
         },
         "name": "Duurzame subsidies (GSSE/TSE) – Zuid-Korea",
         "type": "bar",
         "visible": false,
         "x": {
          "bdata": "wgfDB8QHxQfGB8cHyAfJB8oHywfMB80HzgfPB9AH0QfSB9MH1AfVB9YH1wfYB9kH2gfbB9wH3QfeB98H4AfhB+IH4wfkB+UH5gc=",
          "dtype": "i2"
         },
         "y": {
          "bdata": "LT1KsaFctD8Q1626KPCzP1i0mx2p7Lo/9R+NiFOhwj/5Si5LgXTAP8zcyXCql74/sQ0Czz6vvT9v81B3Xaq8P50ZH2trJbs/di8FEL4avT/XNtU1MlG/P8JrGM080sU/21tYj5Xwxz+9Hlqjad6/P/f7cgYxMME/4bMlx/JfxT/PcKxPmM/FPwiTGcwuG8g/IMiZ/MKlwD+VhbHE1f7AP0+UTIv8tcE/hjPdNvqSwj8T+/58QJPAP3BrSy8Jmr8/rucj0deewT+8BRmu4e27P7h4Vm40+r8/uNCzWsDVwD8u99JcrzvAP+Hf+lI5u78/YySFsCGTxD9Ahzm6R2bDP/XGYbBT+8I/AucicIP9xD+2vjb385TAP4YQ2BooJL4/L8JWTzUewj8=",
          "dtype": "f8"
         },
         "yaxis": "y"
        },
        {
         "marker": {
          "color": "#EF8C60"
         },
         "mode": "lines+markers",
         "name": "CO₂-uitstoot – Zuid-Korea",
         "type": "scatter",
         "visible": false,
         "x": {
          "bdata": "wgfDB8QHxQfGB8cHyAfJB8oHywfMB80HzgfPB9AH0QfSB9MH1AfVB9YH1wfYB9kH2gfbB9wH3QfeB98H4AfhB+IH4wfkB+UH5gc=",
          "dtype": "i2"
         },
         "y": {
          "bdata": "o/6NUHofsUCf8tV7O76wQLMPn2GPRrBAE16VHhyhsECO2wfUi83TQMk5n5jSWNVA4lUe81zW1kDj29/kUEnZQAxA0sApFttABaOSOolZ3UCh6GuznIvfQB5h3vU34+BAwIz6CzuO3EANZN8cqureQBvKzp5+CeFAPW10mCZr4EDGkLmpcvDgQLDtLtLw0eBAyQLTRZ9P4UCwzaJsaubgQJUPuN1S++BAnzfCftr64UC0TyEPAFPiQNScV680auJA7pRogbGK5ECsubxvXa/lQNZFPZ641+VABR/hrScJ5kBO9BaG4f/lQPQY94inLeZApquKUyQ650CbsqasCbPqQH//jlT3JetArRtFq1aa6kCnbct8pQLqQHBS9meg2+pAdF13l0OW6kA=",
          "dtype": "f8"
         },
         "yaxis": "y2"
        }
       ],
       "layout": {
        "annotations": [
         {
          "align": "left",
          "borderpad": 4,
          "font": {
           "size": 12
          },
          "showarrow": false,
          "text": " Met het dropdownmenu rechtsboven kun je wisselen tussen landen. <br> Beweeg met je muis over de grafiek om de exacte waarden per jaar te bekijken. <br> De grafiek helpt inzicht te krijgen in hoe subsidiebeleid mogelijk samenhangt met de uitstoot uit de landbouwsector.",
          "x": 0,
          "xref": "paper",
          "y": -0.25,
          "yref": "paper"
         }
        ],
        "barmode": "group",
        "height": 750,
        "legend": {
         "x": 0.01,
         "y": 1
        },
        "margin": {
         "b": 150
        },
        "template": {
         "data": {
          "bar": [
           {
            "error_x": {
             "color": "#2a3f5f"
            },
            "error_y": {
             "color": "#2a3f5f"
            },
            "marker": {
             "line": {
              "color": "white",
              "width": 0.5
             },
             "pattern": {
              "fillmode": "overlay",
              "size": 10,
              "solidity": 0.2
             }
            },
            "type": "bar"
           }
          ],
          "barpolar": [
           {
            "marker": {
             "line": {
              "color": "white",
              "width": 0.5
             },
             "pattern": {
              "fillmode": "overlay",
              "size": 10,
              "solidity": 0.2
             }
            },
            "type": "barpolar"
           }
          ],
          "carpet": [
           {
            "aaxis": {
             "endlinecolor": "#2a3f5f",
             "gridcolor": "#C8D4E3",
             "linecolor": "#C8D4E3",
             "minorgridcolor": "#C8D4E3",
             "startlinecolor": "#2a3f5f"
            },
            "baxis": {
             "endlinecolor": "#2a3f5f",
             "gridcolor": "#C8D4E3",
             "linecolor": "#C8D4E3",
             "minorgridcolor": "#C8D4E3",
             "startlinecolor": "#2a3f5f"
            },
            "type": "carpet"
           }
          ],
          "choropleth": [
           {
            "colorbar": {
             "outlinewidth": 0,
             "ticks": ""
            },
            "type": "choropleth"
           }
          ],
          "contour": [
           {
            "colorbar": {
             "outlinewidth": 0,
             "ticks": ""
            },
            "colorscale": [
             [
              0,
              "#0d0887"
             ],
             [
              0.1111111111111111,
              "#46039f"
             ],
             [
              0.2222222222222222,
              "#7201a8"
             ],
             [
              0.3333333333333333,
              "#9c179e"
             ],
             [
              0.4444444444444444,
              "#bd3786"
             ],
             [
              0.5555555555555556,
              "#d8576b"
             ],
             [
              0.6666666666666666,
              "#ed7953"
             ],
             [
              0.7777777777777778,
              "#fb9f3a"
             ],
             [
              0.8888888888888888,
              "#fdca26"
             ],
             [
              1,
              "#f0f921"
             ]
            ],
            "type": "contour"
           }
          ],
          "contourcarpet": [
           {
            "colorbar": {
             "outlinewidth": 0,
             "ticks": ""
            },
            "type": "contourcarpet"
           }
          ],
          "heatmap": [
           {
            "colorbar": {
             "outlinewidth": 0,
             "ticks": ""
            },
            "colorscale": [
             [
              0,
              "#0d0887"
             ],
             [
              0.1111111111111111,
              "#46039f"
             ],
             [
              0.2222222222222222,
              "#7201a8"
             ],
             [
              0.3333333333333333,
              "#9c179e"
             ],
             [
              0.4444444444444444,
              "#bd3786"
             ],
             [
              0.5555555555555556,
              "#d8576b"
             ],
             [
              0.6666666666666666,
              "#ed7953"
             ],
             [
              0.7777777777777778,
              "#fb9f3a"
             ],
             [
              0.8888888888888888,
              "#fdca26"
             ],
             [
              1,
              "#f0f921"
             ]
            ],
            "type": "heatmap"
           }
          ],
          "histogram": [
           {
            "marker": {
             "pattern": {
              "fillmode": "overlay",
              "size": 10,
              "solidity": 0.2
             }
            },
            "type": "histogram"
           }
          ],
          "histogram2d": [
           {
            "colorbar": {
             "outlinewidth": 0,
             "ticks": ""
            },
            "colorscale": [
             [
              0,
              "#0d0887"
             ],
             [
              0.1111111111111111,
              "#46039f"
             ],
             [
              0.2222222222222222,
              "#7201a8"
             ],
             [
              0.3333333333333333,
              "#9c179e"
             ],
             [
              0.4444444444444444,
              "#bd3786"
             ],
             [
              0.5555555555555556,
              "#d8576b"
             ],
             [
              0.6666666666666666,
              "#ed7953"
             ],
             [
              0.7777777777777778,
              "#fb9f3a"
             ],
             [
              0.8888888888888888,
              "#fdca26"
             ],
             [
              1,
              "#f0f921"
             ]
            ],
            "type": "histogram2d"
           }
          ],
          "histogram2dcontour": [
           {
            "colorbar": {
             "outlinewidth": 0,
             "ticks": ""
            },
            "colorscale": [
             [
              0,
              "#0d0887"
             ],
             [
              0.1111111111111111,
              "#46039f"
             ],
             [
              0.2222222222222222,
              "#7201a8"
             ],
             [
              0.3333333333333333,
              "#9c179e"
             ],
             [
              0.4444444444444444,
              "#bd3786"
             ],
             [
              0.5555555555555556,
              "#d8576b"
             ],
             [
              0.6666666666666666,
              "#ed7953"
             ],
             [
              0.7777777777777778,
              "#fb9f3a"
             ],
             [
              0.8888888888888888,
              "#fdca26"
             ],
             [
              1,
              "#f0f921"
             ]
            ],
            "type": "histogram2dcontour"
           }
          ],
          "mesh3d": [
           {
            "colorbar": {
             "outlinewidth": 0,
             "ticks": ""
            },
            "type": "mesh3d"
           }
          ],
          "parcoords": [
           {
            "line": {
             "colorbar": {
              "outlinewidth": 0,
              "ticks": ""
             }
            },
            "type": "parcoords"
           }
          ],
          "pie": [
           {
            "automargin": true,
            "type": "pie"
           }
          ],
          "scatter": [
           {
            "fillpattern": {
             "fillmode": "overlay",
             "size": 10,
             "solidity": 0.2
            },
            "type": "scatter"
           }
          ],
          "scatter3d": [
           {
            "line": {
             "colorbar": {
              "outlinewidth": 0,
              "ticks": ""
             }
            },
            "marker": {
             "colorbar": {
              "outlinewidth": 0,
              "ticks": ""
             }
            },
            "type": "scatter3d"
           }
          ],
          "scattercarpet": [
           {
            "marker": {
             "colorbar": {
              "outlinewidth": 0,
              "ticks": ""
             }
            },
            "type": "scattercarpet"
           }
          ],
          "scattergeo": [
           {
            "marker": {
             "colorbar": {
              "outlinewidth": 0,
              "ticks": ""
             }
            },
            "type": "scattergeo"
           }
          ],
          "scattergl": [
           {
            "marker": {
             "colorbar": {
              "outlinewidth": 0,
              "ticks": ""
             }
            },
            "type": "scattergl"
           }
          ],
          "scattermap": [
           {
            "marker": {
             "colorbar": {
              "outlinewidth": 0,
              "ticks": ""
             }
            },
            "type": "scattermap"
           }
          ],
          "scattermapbox": [
           {
            "marker": {
             "colorbar": {
              "outlinewidth": 0,
              "ticks": ""
             }
            },
            "type": "scattermapbox"
           }
          ],
          "scatterpolar": [
           {
            "marker": {
             "colorbar": {
              "outlinewidth": 0,
              "ticks": ""
             }
            },
            "type": "scatterpolar"
           }
          ],
          "scatterpolargl": [
           {
            "marker": {
             "colorbar": {
              "outlinewidth": 0,
              "ticks": ""
             }
            },
            "type": "scatterpolargl"
           }
          ],
          "scatterternary": [
           {
            "marker": {
             "colorbar": {
              "outlinewidth": 0,
              "ticks": ""
             }
            },
            "type": "scatterternary"
           }
          ],
          "surface": [
           {
            "colorbar": {
             "outlinewidth": 0,
             "ticks": ""
            },
            "colorscale": [
             [
              0,
              "#0d0887"
             ],
             [
              0.1111111111111111,
              "#46039f"
             ],
             [
              0.2222222222222222,
              "#7201a8"
             ],
             [
              0.3333333333333333,
              "#9c179e"
             ],
             [
              0.4444444444444444,
              "#bd3786"
             ],
             [
              0.5555555555555556,
              "#d8576b"
             ],
             [
              0.6666666666666666,
              "#ed7953"
             ],
             [
              0.7777777777777778,
              "#fb9f3a"
             ],
             [
              0.8888888888888888,
              "#fdca26"
             ],
             [
              1,
              "#f0f921"
             ]
            ],
            "type": "surface"
           }
          ],
          "table": [
           {
            "cells": {
             "fill": {
              "color": "#EBF0F8"
             },
             "line": {
              "color": "white"
             }
            },
            "header": {
             "fill": {
              "color": "#C8D4E3"
             },
             "line": {
              "color": "white"
             }
            },
            "type": "table"
           }
          ]
         },
         "layout": {
          "annotationdefaults": {
           "arrowcolor": "#2a3f5f",
           "arrowhead": 0,
           "arrowwidth": 1
          },
          "autotypenumbers": "strict",
          "coloraxis": {
           "colorbar": {
            "outlinewidth": 0,
            "ticks": ""
           }
          },
          "colorscale": {
           "diverging": [
            [
             0,
             "#8e0152"
            ],
            [
             0.1,
             "#c51b7d"
            ],
            [
             0.2,
             "#de77ae"
            ],
            [
             0.3,
             "#f1b6da"
            ],
            [
             0.4,
             "#fde0ef"
            ],
            [
             0.5,
             "#f7f7f7"
            ],
            [
             0.6,
             "#e6f5d0"
            ],
            [
             0.7,
             "#b8e186"
            ],
            [
             0.8,
             "#7fbc41"
            ],
            [
             0.9,
             "#4d9221"
            ],
            [
             1,
             "#276419"
            ]
           ],
           "sequential": [
            [
             0,
             "#0d0887"
            ],
            [
             0.1111111111111111,
             "#46039f"
            ],
            [
             0.2222222222222222,
             "#7201a8"
            ],
            [
             0.3333333333333333,
             "#9c179e"
            ],
            [
             0.4444444444444444,
             "#bd3786"
            ],
            [
             0.5555555555555556,
             "#d8576b"
            ],
            [
             0.6666666666666666,
             "#ed7953"
            ],
            [
             0.7777777777777778,
             "#fb9f3a"
            ],
            [
             0.8888888888888888,
             "#fdca26"
            ],
            [
             1,
             "#f0f921"
            ]
           ],
           "sequentialminus": [
            [
             0,
             "#0d0887"
            ],
            [
             0.1111111111111111,
             "#46039f"
            ],
            [
             0.2222222222222222,
             "#7201a8"
            ],
            [
             0.3333333333333333,
             "#9c179e"
            ],
            [
             0.4444444444444444,
             "#bd3786"
            ],
            [
             0.5555555555555556,
             "#d8576b"
            ],
            [
             0.6666666666666666,
             "#ed7953"
            ],
            [
             0.7777777777777778,
             "#fb9f3a"
            ],
            [
             0.8888888888888888,
             "#fdca26"
            ],
            [
             1,
             "#f0f921"
            ]
           ]
          },
          "colorway": [
           "#636efa",
           "#EF553B",
           "#00cc96",
           "#ab63fa",
           "#FFA15A",
           "#19d3f3",
           "#FF6692",
           "#B6E880",
           "#FF97FF",
           "#FECB52"
          ],
          "font": {
           "color": "#2a3f5f"
          },
          "geo": {
           "bgcolor": "white",
           "lakecolor": "white",
           "landcolor": "white",
           "showlakes": true,
           "showland": true,
           "subunitcolor": "#C8D4E3"
          },
          "hoverlabel": {
           "align": "left"
          },
          "hovermode": "closest",
          "mapbox": {
           "style": "light"
          },
          "paper_bgcolor": "white",
          "plot_bgcolor": "white",
          "polar": {
           "angularaxis": {
            "gridcolor": "#EBF0F8",
            "linecolor": "#EBF0F8",
            "ticks": ""
           },
           "bgcolor": "white",
           "radialaxis": {
            "gridcolor": "#EBF0F8",
            "linecolor": "#EBF0F8",
            "ticks": ""
           }
          },
          "scene": {
           "xaxis": {
            "backgroundcolor": "white",
            "gridcolor": "#DFE8F3",
            "gridwidth": 2,
            "linecolor": "#EBF0F8",
            "showbackground": true,
            "ticks": "",
            "zerolinecolor": "#EBF0F8"
           },
           "yaxis": {
            "backgroundcolor": "white",
            "gridcolor": "#DFE8F3",
            "gridwidth": 2,
            "linecolor": "#EBF0F8",
            "showbackground": true,
            "ticks": "",
            "zerolinecolor": "#EBF0F8"
           },
           "zaxis": {
            "backgroundcolor": "white",
            "gridcolor": "#DFE8F3",
            "gridwidth": 2,
            "linecolor": "#EBF0F8",
            "showbackground": true,
            "ticks": "",
            "zerolinecolor": "#EBF0F8"
           }
          },
          "shapedefaults": {
           "line": {
            "color": "#2a3f5f"
           }
          },
          "ternary": {
           "aaxis": {
            "gridcolor": "#DFE8F3",
            "linecolor": "#A2B1C6",
            "ticks": ""
           },
           "baxis": {
            "gridcolor": "#DFE8F3",
            "linecolor": "#A2B1C6",
            "ticks": ""
           },
           "bgcolor": "white",
           "caxis": {
            "gridcolor": "#DFE8F3",
            "linecolor": "#A2B1C6",
            "ticks": ""
           }
          },
          "title": {
           "x": 0.05
          },
          "xaxis": {
           "automargin": true,
           "gridcolor": "#EBF0F8",
           "linecolor": "#EBF0F8",
           "ticks": "",
           "title": {
            "standoff": 15
           },
           "zerolinecolor": "#EBF0F8",
           "zerolinewidth": 2
          },
          "yaxis": {
           "automargin": true,
           "gridcolor": "#EBF0F8",
           "linecolor": "#EBF0F8",
           "ticks": "",
           "title": {
            "standoff": 15
           },
           "zerolinecolor": "#EBF0F8",
           "zerolinewidth": 2
          }
         }
        },
        "title": {
         "text": "Duurzame subsidies en CO₂-uitstoot – Australië"
        },
        "updatemenus": [
         {
          "buttons": [
           {
            "args": [
             {
              "visible": [
               true,
               true,
               false,
               false,
               false,
               false,
               false,
               false,
               false,
               false,
               false,
               false
              ]
             },
             {
              "title": "Duurzame subsidies en CO₂-uitstoot – Australië"
             }
            ],
            "label": "Australië",
            "method": "update"
           },
           {
            "args": [
             {
              "visible": [
               false,
               false,
               true,
               true,
               false,
               false,
               false,
               false,
               false,
               false,
               false,
               false
              ]
             },
             {
              "title": "Duurzame subsidies en CO₂-uitstoot – Brazilië"
             }
            ],
            "label": "Brazilië",
            "method": "update"
           },
           {
            "args": [
             {
              "visible": [
               false,
               false,
               false,
               false,
               true,
               true,
               false,
               false,
               false,
               false,
               false,
               false
              ]
             },
             {
              "title": "Duurzame subsidies en CO₂-uitstoot – China"
             }
            ],
            "label": "China",
            "method": "update"
           },
           {
            "args": [
             {
              "visible": [
               false,
               false,
               false,
               false,
               false,
               false,
               true,
               true,
               false,
               false,
               false,
               false
              ]
             },
             {
              "title": "Duurzame subsidies en CO₂-uitstoot – Verenigde Staten"
             }
            ],
            "label": "Verenigde Staten",
            "method": "update"
           },
           {
            "args": [
             {
              "visible": [
               false,
               false,
               false,
               false,
               false,
               false,
               false,
               false,
               true,
               true,
               false,
               false
              ]
             },
             {
              "title": "Duurzame subsidies en CO₂-uitstoot – Zuid-Afrika"
             }
            ],
            "label": "Zuid-Afrika",
            "method": "update"
           },
           {
            "args": [
             {
              "visible": [
               false,
               false,
               false,
               false,
               false,
               false,
               false,
               false,
               false,
               false,
               true,
               true
              ]
             },
             {
              "title": "Duurzame subsidies en CO₂-uitstoot – Zuid-Korea"
             }
            ],
            "label": "Zuid-Korea",
            "method": "update"
           }
          ],
          "direction": "down",
          "showactive": true,
          "x": 1.03,
          "xanchor": "left",
          "y": 1.15,
          "yanchor": "top"
         }
        ],
        "xaxis": {
         "title": {
          "text": "Jaar"
         }
        },
        "yaxis": {
         "range": [
          0,
          1
         ],
         "title": {
          "text": "GSSE / TSE (duurzaamheidsratio)"
         }
        },
        "yaxis2": {
         "overlaying": "y",
         "side": "right",
         "title": {
          "text": "CO₂-uitstoot (ton CO₂eq)"
         }
        }
       }
      }
     },
     "metadata": {},
     "output_type": "display_data"
    }
   ],
   "source": [
    "import pandas as pd\n",
    "import plotly.graph_objects as go\n",
    "\n",
    "\n",
    "df = pd.read_csv(\"CO2.csv\")\n",
    "\n",
    "\n",
    "landnaam_vertaling = {\n",
    "    'Australia': 'Australië',\n",
    "    'China': 'China',\n",
    "    'Brazil': 'Brazilië',\n",
    "    'South Africa': 'Zuid-Afrika',\n",
    "    'United States of America': 'Verenigde Staten',\n",
    "    'Republic of Korea': 'Zuid-Korea'\n",
    "}\n",
    "\n",
    "\n",
    "df['Land_NL'] = df['Mapped_Country'].map(landnaam_vertaling)\n",
    "\n",
    "\n",
    "df = df.dropna(subset=['GSSE_Subsidy', 'TSE_Subsidy', 'CO2_Emission'])\n",
    "df = df[df['TSE_Subsidy'] != 0]\n",
    "df['Duurzaamheidsratio'] = df['GSSE_Subsidy'] / df['TSE_Subsidy']\n",
    "\n",
    "\n",
    "gewilde_landen = list(landnaam_vertaling.keys())\n",
    "df = df[df['Mapped_Country'].isin(gewilde_landen)]\n",
    "\n",
    "\n",
    "df = df.sort_values(by=['Land_NL', 'Year'])\n",
    "landen = df['Land_NL'].unique()\n",
    "\n",
    "\n",
    "fig = go.Figure()\n",
    "dropdown_buttons = []\n",
    "\n",
    "for i, land in enumerate(landen):\n",
    "    data = df[df['Land_NL'] == land]\n",
    "    visible = [False] * (2 * len(landen))\n",
    "\n",
    "    \n",
    "    fig.add_trace(go.Bar(\n",
    "        x=data['Year'],\n",
    "        y=data['Duurzaamheidsratio'],\n",
    "        name=f\"Duurzame subsidies (GSSE/TSE) – {land}\",\n",
    "        marker_color='#C7EEF9',\n",
    "        yaxis='y1',\n",
    "        visible=(i == 0)\n",
    "    ))\n",
    "    visible[i * 2] = True\n",
    "\n",
    "    \n",
    "    fig.add_trace(go.Scatter(\n",
    "        x=data['Year'],\n",
    "        y=data['CO2_Emission'],\n",
    "        name=f\"CO₂-uitstoot – {land}\",\n",
    "        mode='lines+markers',\n",
    "        marker_color='#EF8C60',\n",
    "        yaxis='y2',\n",
    "        visible=(i == 0)\n",
    "    ))\n",
    "    visible[i * 2 + 1] = True\n",
    "\n",
    "    \n",
    "    dropdown_buttons.append(dict(\n",
    "        label=land,\n",
    "        method='update',\n",
    "        args=[{'visible': visible},\n",
    "              {'title': f\"Duurzame subsidies en CO₂-uitstoot – {land}\"}]\n",
    "    ))\n",
    "\n",
    "\n",
    "fig.update_layout(\n",
    "    title=\"Duurzame subsidies en CO₂-uitstoot – \" + landen[0],\n",
    "    xaxis=dict(title=\"Jaar\"),\n",
    "    yaxis=dict(title=\"GSSE / TSE (duurzaamheidsratio)\", range=[0, 1]),\n",
    "    yaxis2=dict(title=\"CO₂-uitstoot (ton CO₂eq)\", overlaying=\"y\", side=\"right\"),\n",
    "    updatemenus=[dict(\n",
    "        buttons=dropdown_buttons,\n",
    "        direction='down',\n",
    "        x=1.03,\n",
    "        xanchor=\"left\",\n",
    "        y=1.15,\n",
    "        yanchor=\"top\",\n",
    "        showactive=True\n",
    "    )],\n",
    "    legend=dict(x=0.01, y=1),\n",
    "    barmode='group',\n",
    "    height=600,\n",
    "    template='plotly_white'\n",
    ")\n",
    "\n",
    "fig.update_layout(\n",
    "    height=750,\n",
    "    margin=dict(b=150) \n",
    ")\n",
    "\n",
    "\n",
    "fig.add_annotation(\n",
    "    text=(\n",
    "        \" Met het dropdownmenu rechtsboven kun je wisselen tussen landen. <br>\" \n",
    "        \" Beweeg met je muis over de grafiek om de exacte waarden per jaar te bekijken. <br>\"\n",
    "        \" De grafiek helpt inzicht te krijgen in hoe subsidiebeleid mogelijk samenhangt met de uitstoot uit de landbouwsector.\"\n",
    "    ),\n",
    "    xref=\"paper\", yref=\"paper\",\n",
    "    x=0, y=-0.25,\n",
    "    showarrow=False,\n",
    "    align=\"left\",\n",
    "    font=dict(size=12),\n",
    "    borderpad=4\n",
    ")\n",
    "\n",
    "\n",
    "fig.show()"
   ]
  },
  {
   "attachments": {},
   "cell_type": "markdown",
   "id": "6c52ea16",
   "metadata": {},
   "source": [
    "\n",
    "<span style=\"font-size: 60%;\"> * Let op: de schaalverdeling van de assen wisselt per land bij Grafiek 2.\n",
    "Dit is bewust zo gekozen om zowel hoge als lage waarden goed te laten uitkomen. Bij een uniforme asschaal zouden voor sommige landen de weergave van kleinere waarden (grotendeels) verborgen worden. </span>\n"
   ]
  },
  {
   "attachments": {},
   "cell_type": "markdown",
   "id": "fae05f84",
   "metadata": {},
   "source": [
    "\n",
    "##### Waarom deze landen?\n",
    "De zes gevisualiseerde landen Australië, Brazilië, China, Zuid-Afrika, Verenigde Staten en Zuid-Korea zijn geselecteerd vanwege hun variatie in duurzaamheidsratio’s. Zo konden zowel landen met een relatief hoge als lage inzet op duurzame landbouwsubsidies worden geanalyseerd, wat waardevol is om verschillen in CO₂-uitstoot beter te begrijpen.\n",
    "\n",
    "##### Analyse\n",
    "Uit de visualisaties van zes landen blijkt een opvallende samenhang tussen de mate van duurzame landbouwsubsidies en CO₂-uitstoot. Hoewel we geen causale conclusies kunnen trekken, zijn er wel patronen zichtbaar die het argument ondersteunen dat landen die duurzaamheid belonen via subsidies, stoten relatief minder CO₂ uit binnen hun landbouwsector.\n",
    "\n",
    "\n",
    "Australië laat een stijgende duurzaamheidsratio zien vanaf de jaren 2000, samen met een licht dalende of stabiele CO₂-uitstoot in recente jaren. Dit wijst op een mogelijke effectiviteit van duurzaam beleid.\n",
    "  \n",
    "Brazilië laat zien dat tussen 1995 en 2005 een daling van duurzame subsidies samen gaat met een stijging in CO₂-uitstoot. Wat wel tegenstrijdig lijkt te zijn is dat in 2010 de uitstoot sterk daalt ondanks een lage duurzaamheidsratio.\n",
    "\n",
    "China De grafiek laat zien dat China tussen 1995 en 2005 een relatief hoge duurzaamheidsratio had. In die periode bleef de CO₂-uitstoot nog relatief laag en groeide slechts langzaam. Maar na 2005 daalt de duurzaamheidsratio flink, terwijl de CO₂-uitstoot juist versneld begint te stijgen. Dat suggereert dat het afbouwen van duurzame subsidies mogelijk heeft bijgedragen aan een snellere stijging van de uitstoot in de landbouwsector\n",
    "\n",
    "Zuid-Afrika De grafiek van Zuid-Afrika toont een grillig patroon met meerdere pieken en dalen in zowel de duurzaamheidsratio als de CO₂-uitstoot. Opvallend is dat deze schommelingen vaak ongeveer gelijktijdig optreden, wat kan wijzen op een samenhang.\n",
    "\n",
    "Verenigde Staten hebben langdurig een lage duurzaamheidsratio, namelijk rond 0.1 – 0.2, en de CO₂-uitstoot blijft ook relatief hoog, met recente pieken. De verhouding tussen GSSE en TSE is hier opvallend laag vergeleken met andere landen.\n",
    "\n",
    "Zuid-Korea In Zuid-Korea blijft de duurzaamheidsratio structureel laag, terwijl de CO₂-uitstoot van de landbouwsector sterk blijft stijgen. Dit ondersteunt het argument dat een gebrek aan gerichte duurzame subsidies samenhangt met een gestage toename van emissies.\n",
    "\n",
    "\n",
    "De gevisualiseerde grafieken suggereren dat een hogere duurzaamheidratio kan leiden naar relatief lagere CO₂-uitstoot in de landbouwsector.  \n",
    "De duurzaamheid van subsidies lijkt dus een relevante factor in het klimaatbeleid. De interactieve grafiek maakt dit visueel duidelijk, vooral door het contrast tussen landen met lage en hoge duurzame subsidieratio’s.\n"
   ]
  }
 ],
 "metadata": {
  "kernelspec": {
   "display_name": "base",
   "language": "python",
   "name": "python3"
  },
  "language_info": {
   "codemirror_mode": {
    "name": "ipython",
    "version": 3
   },
   "file_extension": ".py",
   "mimetype": "text/x-python",
   "name": "python",
   "nbconvert_exporter": "python",
   "pygments_lexer": "ipython3",
   "version": "3.12.2"
  }
 },
 "nbformat": 4,
 "nbformat_minor": 5
}
