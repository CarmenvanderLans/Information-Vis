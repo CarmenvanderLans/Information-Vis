{
 "cells": [
  {
   "attachments": {},
   "cell_type": "markdown",
   "id": "860fd4ef",
   "metadata": {},
   "source": [
    "# Perspectief 1: Verschillen in milieubeleid verklaren verschillen in landbouwuitstoot\n",
    "\n",
    "De uitstoot van de landbouwsector verschilt sterk tussen landen. In dit perspectief onderzoeken we hoe beleidskeuzes zoals milieuregels en landbouwsubsidies bijdragen aan die verschillen. We gebruiken internationale data om te analyseren welke landen efficiënt produceren en welke landen vervuilende landbouw blijven stimuleren.\n"
   ]
  },
  {
   "attachments": {},
   "cell_type": "markdown",
   "id": "1547d891",
   "metadata": {},
   "source": [
    "### Argument 1: Landen met strenger milieubeleid stoten gemiddeld minder CO₂ uit per ton landbouwproductie.\n",
    "\n",
    "In veel gesprekken over landbouw en klimaat gaat de aandacht uit naar de totale uitstoot per land. Maar het zegt veel meer als je kijkt naar hoe efficiënt die uitstoot is in verhouding tot wat er wordt geproduceerd. Door CO₂-uitstoot te koppelen aan de hoeveelheid landbouwproducten krijgen we een eerlijker beeld van hoe vervuilend of juist duurzaam een landbouwsysteem echt is. Zo kunnen landen op een eerlijke manier met elkaar worden vergeleken, ongeacht hun grootte of landbouwproductie, en wordt duidelijker welke landen daadwerkelijk inzetten op een duurzamere landbouw.\n"
   ]
  },
  {
   "cell_type": "code",
   "execution_count": 9,
   "id": "9c25de1d",
   "metadata": {},
   "outputs": [
    {
     "name": "stdout",
     "output_type": "stream",
     "text": [
      "cwd = /Users/carmenvanderlans/Information-Vis\n"
     ]
    }
   ],
   "source": [
    "# Cell 1\n",
    "import os\n",
    "# make sure we're in /Users/carmenvanderlans/Information-Vis\n",
    "os.chdir(os.path.expanduser(\"~/Information-Vis\"))\n",
    "print(\"cwd =\", os.getcwd())"
   ]
  },
  {
   "cell_type": "code",
   "execution_count": 10,
   "id": "de0aa968",
   "metadata": {},
   "outputs": [
    {
     "data": {
      "application/vnd.plotly.v1+json": {
       "config": {
        "plotlyServerURL": "https://plot.ly"
       },
       "data": [
        {
         "colorbar": {
          "len": 0.6,
          "title": {
           "text": "EPI Score"
          },
          "x": 1.02
         },
         "colorscale": [
          [
           0,
           "rgb(255,255,229)"
          ],
          [
           0.125,
           "rgb(247,252,185)"
          ],
          [
           0.25,
           "rgb(217,240,163)"
          ],
          [
           0.375,
           "rgb(173,221,142)"
          ],
          [
           0.5,
           "rgb(120,198,121)"
          ],
          [
           0.625,
           "rgb(65,171,93)"
          ],
          [
           0.75,
           "rgb(35,132,67)"
          ],
          [
           0.875,
           "rgb(0,104,55)"
          ],
          [
           1,
           "rgb(0,69,41)"
          ]
         ],
         "locationmode": "country names",
         "locations": [
          "Afghanistan",
          "Albania",
          "Algeria",
          "Angola",
          "Argentina",
          "Australia",
          "Austria",
          "Azerbaijan",
          "Bangladesh",
          "Belarus",
          "Belgium",
          "Benin",
          "Bolivia (Plurinational State of)",
          "Brazil",
          "Bulgaria",
          "Burkina Faso",
          "Burundi",
          "Cambodia",
          "Cameroon",
          "Canada",
          "Chad",
          "Chile",
          "China",
          "China, Taiwan Province of",
          "China, mainland",
          "Colombia",
          "Costa Rica",
          "Croatia",
          "Cuba",
          "Czechia",
          "Côte d'Ivoire",
          "Democratic People's Republic of Korea",
          "Democratic Republic of the Congo",
          "Denmark",
          "Dominican Republic",
          "Ecuador",
          "Egypt",
          "El Salvador",
          "Eswatini",
          "Ethiopia",
          "Finland",
          "France",
          "Germany",
          "Ghana",
          "Greece",
          "Guatemala",
          "Guinea",
          "Honduras",
          "Hungary",
          "India",
          "Indonesia",
          "Iran (Islamic Republic of)",
          "Iraq",
          "Ireland",
          "Israel",
          "Italy",
          "Japan",
          "Kazakhstan",
          "Kenya",
          "Kyrgyzstan",
          "Lao People's Democratic Republic",
          "Latvia",
          "Lithuania",
          "Madagascar",
          "Malawi",
          "Malaysia",
          "Mali",
          "Mexico",
          "Morocco",
          "Mozambique",
          "Myanmar",
          "Nepal",
          "Netherlands (Kingdom of the)",
          "New Zealand",
          "Nicaragua",
          "Niger",
          "Nigeria",
          "Norway",
          "Pakistan",
          "Panama",
          "Papua New Guinea",
          "Paraguay",
          "Peru",
          "Philippines",
          "Poland",
          "Portugal",
          "Republic of Korea",
          "Republic of Moldova",
          "Romania",
          "Russian Federation",
          "Rwanda",
          "Saudi Arabia",
          "Senegal",
          "Serbia",
          "Sierra Leone",
          "Slovakia",
          "South Africa",
          "South Sudan",
          "Spain",
          "Sri Lanka",
          "Sudan",
          "Sweden",
          "Switzerland",
          "Syrian Arab Republic",
          "Tajikistan",
          "Thailand",
          "Togo",
          "Tunisia",
          "Turkmenistan",
          "Türkiye",
          "Uganda",
          "Ukraine",
          "United Kingdom of Great Britain and Northern Ireland",
          "United Republic of Tanzania",
          "United States of America",
          "Uruguay",
          "Uzbekistan",
          "Venezuela (Bolivarian Republic of)",
          "Viet Nam",
          "Yemen",
          "Zambia",
          "Zimbabwe"
         ],
         "showscale": true,
         "type": "choropleth",
         "z": {
          "bdata": "zczMzMzMRUDNzMzMzIxHQJqZmZmZmT1AAAAAAACAPkDNzMzMzIxEQM3MzMzMDE5AAAAAAACgUEDNzMzMzExDQJqZmZmZGTdAAAAAAABASECamZmZmRlNQJqZmZmZmT1AAAAAAAAA+H/NzMzMzMxFQDMzMzMz80lAAAAAAADAQUAAAAAAAIA+QJqZmZmZGT5AMzMzMzMzPkAAAAAAAABJQJqZmZmZGTxAmpmZmZlZR0BmZmZmZmY8QAAAAAAAAPh/AAAAAAAA+H8zMzMzMzNFQGZmZmZmJkdAmpmZmZkZTkAAAAAAAMBHQAAAAAAAAPh/AAAAAAAA+H8AAAAAAAD4fwAAAAAAAPh/mpmZmZl5U0CamZmZmRlFQAAAAAAAQEdAAAAAAADAQUBmZmZmZmZEQDMzMzMzc0ZAzczMzMzMP0AAAAAAACBTQAAAAAAAQE9AMzMzMzMzT0AzMzMzM7M7QJqZmZmZGUxAAAAAAAAAPECamZmZmZk/QAAAAAAAQEJAzczMzMyMS0BmZmZmZuYyQDMzMzMzMzxAAAAAAAAA+H/NzMzMzMw7QDMzMzMzs0xAmpmZmZkZSECamZmZmdlMQJqZmZmZmUxAMzMzMzNzREDNzMzMzMw+QJqZmZmZ2UFAAAAAAAAA+H/NzMzMzIxOQDMzMzMz80tAAAAAAAAAPEDNzMzMzExEQAAAAAAAgEFAAAAAAACAPEAAAAAAAMBGQGZmZmZmZjxAMzMzMzOzP0BmZmZmZmYzQM3MzMzMTDxAAAAAAAAA+H+amZmZmVlMQJqZmZmZ2UJAmpmZmZnZQkDNzMzMzEw8QGZmZmZmpk1AmpmZmZmZOEAAAAAAAEBJQM3MzMzMzDhAMzMzMzNzREBmZmZmZuZDQGZmZmZm5jxAzczMzMxMSUAzMzMzMzNJQAAAAAAAAPh/AAAAAAAA+H8AAAAAAABMQAAAAAAAAPh/ZmZmZmZmQEAzMzMzM/NCQDMzMzMz80BAMzMzMzPzRUCamZmZmVlAQAAAAAAAAE5AmpmZmZmZQkAAAAAAAAD4f83MzMzMTExAmpmZmZlZQUCamZmZmZk7QM3MzMzMLFJAmpmZmZl5UEAAAAAAAAD4f83MzMzMjEJAzczMzMwMQ0AAAAAAAABBQJqZmZmZWURAAAAAAACAQkAAAAAAAAD4f2ZmZmZm5kFAzczMzMzMSEAAAAAAAAD4fwAAAAAAAPh/zczMzMyMSUAzMzMzM7NCQJqZmZmZGUNAAAAAAAAA+H+amZmZmRk0QAAAAAAAAPh/MzMzMzMzQ0CamZmZmRlHQA==",
          "dtype": "f8"
         },
         "zmax": 100,
         "zmin": 0
        },
        {
         "locationmode": "country names",
         "locations": [
          "Afghanistan",
          "Albania",
          "Algeria",
          "Angola",
          "Argentina",
          "Australia",
          "Austria",
          "Azerbaijan",
          "Bangladesh",
          "Belarus",
          "Belgium",
          "Benin",
          "Bolivia (Plurinational State of)",
          "Brazil",
          "Bulgaria",
          "Burkina Faso",
          "Burundi",
          "Cambodia",
          "Cameroon",
          "Canada",
          "Chad",
          "Chile",
          "China",
          "China, Taiwan Province of",
          "China, mainland",
          "Colombia",
          "Costa Rica",
          "Croatia",
          "Cuba",
          "Czechia",
          "Côte d'Ivoire",
          "Democratic People's Republic of Korea",
          "Democratic Republic of the Congo",
          "Denmark",
          "Dominican Republic",
          "Ecuador",
          "Egypt",
          "El Salvador",
          "Eswatini",
          "Ethiopia",
          "Finland",
          "France",
          "Germany",
          "Ghana",
          "Greece",
          "Guatemala",
          "Guinea",
          "Honduras",
          "Hungary",
          "India",
          "Indonesia",
          "Iran (Islamic Republic of)",
          "Iraq",
          "Ireland",
          "Israel",
          "Italy",
          "Japan",
          "Kazakhstan",
          "Kenya",
          "Kyrgyzstan",
          "Lao People's Democratic Republic",
          "Latvia",
          "Lithuania",
          "Madagascar",
          "Malawi",
          "Malaysia",
          "Mali",
          "Mexico",
          "Morocco",
          "Mozambique",
          "Myanmar",
          "Nepal",
          "Netherlands (Kingdom of the)",
          "New Zealand",
          "Nicaragua",
          "Niger",
          "Nigeria",
          "Norway",
          "Pakistan",
          "Panama",
          "Papua New Guinea",
          "Paraguay",
          "Peru",
          "Philippines",
          "Poland",
          "Portugal",
          "Republic of Korea",
          "Republic of Moldova",
          "Romania",
          "Russian Federation",
          "Rwanda",
          "Saudi Arabia",
          "Senegal",
          "Serbia",
          "Sierra Leone",
          "Slovakia",
          "South Africa",
          "South Sudan",
          "Spain",
          "Sri Lanka",
          "Sudan",
          "Sweden",
          "Switzerland",
          "Syrian Arab Republic",
          "Tajikistan",
          "Thailand",
          "Togo",
          "Tunisia",
          "Turkmenistan",
          "Türkiye",
          "Uganda",
          "Ukraine",
          "United Kingdom of Great Britain and Northern Ireland",
          "United Republic of Tanzania",
          "United States of America",
          "Uruguay",
          "Uzbekistan",
          "Venezuela (Bolivarian Republic of)",
          "Viet Nam",
          "Yemen",
          "Zambia",
          "Zimbabwe"
         ],
         "marker": {
          "cmax": 3.1446560115852287,
          "cmin": 0.7848085044191038,
          "color": {
           "bdata": "JIFbInlr+D8XVU1PQ1LpP/NDC4Oq8Pk/BsfsEvnfBUBdZWVQt8vyPzA+IGzXsfY/iAYApCjf6T+uEQSuG5jyPxk/9BgiHfI/SSVOYLMgAkCPh3wLl0zpP3BP0KZhH/Q/OCCeCkIXEkBBmKRqRMLxP8qzxZD+HOk/j71QfneZAkDM09T4SHLqP2ca6Pi1+f0/F/wfj30Z+T9L9LyWx3n/P+0WvQWCvyxA9RIH8uRU9D+pXrTcfUXqP6tz6AXk8/4/zGJCeG/i6T/VirDVBCD+P/Rd2wHgOt8/paxocmbL8T+rHu00gAjxP6l1HkGUDOw/a037/q488j+jDWPCOJLpPwMRVHq7oiRA05cwUrsl5T9p5rYhhgjwPwXJBtHdrPk/XBRylLX45j8CJO9lT7/hPxR/0hzufNY//XmBaiGJCkCDyhZWewcEQF2a0hrwZ+s/rOfaTlPD7j+/S7xGuffVP/nFBrA+xvY/yilJd+782j+57777rAgDQO0udrwf+fI/Ah9RQNuD8z/04lMbOWroPxVkzO5/NvM/s93IvldJ9z9cp5qRL7wHQM+0RW4a1f4/dxxXvftj/T/27zD+GZj6P4OAT6vBMPo/IE+Dqz9J8z9PBziL1Cj6PxCokP/L3Ow/5kdx+8Ms9z9N0cJRW2H7P3qZ+IMdz/8/wfeT3AOAAkDXIcnbkOfiP2T4LQ6bleo/rB6wlZrD/j+VPx5lwnruP4vWE0auP/Y/z9TmhjSrEEBBy93ed7cFQDbGqgIo8/I/JICQuPuP8j92h4rhpvH1PzHmJFuwtANAcwqLTXN4AkBJwzafbEnsP/BdsSjRKwNAsApaeoLh8D8yBBag1yr+PyTeLEkeVAlAkXbnYJNXCUABi31iKHYDQGL5/CTkkuw/CTqgInQZ8j+msVUY5X34P9xvg/d71QJApkRkwAgu7D+xv1s7B5TsPxfNm6uphPE/KCKYFAlz6T8aNhhCcRcOQE4BxSbUAvo/81wI+WvY8T+CDxeuIeL2P4uTN4yTg+g/oesGAWCR8j/BJRdSFcQcQIXcqw/0Yuw/zPty+giL7T8gU34jR4oKQA7L3eNTlARAWZcKo9rj9z81Ve/zKcn2P2DK6qLNPO8/M+F7qSlf5z/y2KC9ebTzPy89x0CnfvM/mQf4cwG8/z/ijC0okB7pP9isllSplvg/Ou3xjDU+5D9RuBeILQ34PyR10ZZQTQZA825kKBYb8D9sEJTcZUQBQCH5nbWtm/E/xv6UqKfhFUCesh6YDhryP3kR1yu1UAlAF+qTIiw/E0CmrME1Jc/7Pw==",
           "dtype": "f8"
          },
          "colorbar": {
           "len": 1,
           "orientation": "h",
           "thickness": 15,
           "tickvals": [
            0.785,
            1.965,
            3.145
           ],
           "title": {
            "text": "CO₂ per ton"
           },
           "x": 0.5,
           "xanchor": "center",
           "y": -0.18,
           "yanchor": "bottom"
          },
          "colorscale": [
           [
            0,
            "#ffffcc"
           ],
           [
            0.25,
            "#ffcc66"
           ],
           [
            0.5,
            "#ff9933"
           ],
           [
            0.75,
            "#cc3300"
           ],
           [
            1,
            "#660000"
           ]
          ],
          "size": 6
         },
         "name": "Uitstoot per ton",
         "text": [
          "Afghanistan",
          "Albania",
          "Algeria",
          "Angola",
          "Argentina",
          "Australia",
          "Austria",
          "Azerbaijan",
          "Bangladesh",
          "Belarus",
          "Belgium",
          "Benin",
          "Bolivia (Plurinational State of)",
          "Brazil",
          "Bulgaria",
          "Burkina Faso",
          "Burundi",
          "Cambodia",
          "Cameroon",
          "Canada",
          "Chad",
          "Chile",
          "China",
          "China, Taiwan Province of",
          "China, mainland",
          "Colombia",
          "Costa Rica",
          "Croatia",
          "Cuba",
          "Czechia",
          "Côte d'Ivoire",
          "Democratic People's Republic of Korea",
          "Democratic Republic of the Congo",
          "Denmark",
          "Dominican Republic",
          "Ecuador",
          "Egypt",
          "El Salvador",
          "Eswatini",
          "Ethiopia",
          "Finland",
          "France",
          "Germany",
          "Ghana",
          "Greece",
          "Guatemala",
          "Guinea",
          "Honduras",
          "Hungary",
          "India",
          "Indonesia",
          "Iran (Islamic Republic of)",
          "Iraq",
          "Ireland",
          "Israel",
          "Italy",
          "Japan",
          "Kazakhstan",
          "Kenya",
          "Kyrgyzstan",
          "Lao People's Democratic Republic",
          "Latvia",
          "Lithuania",
          "Madagascar",
          "Malawi",
          "Malaysia",
          "Mali",
          "Mexico",
          "Morocco",
          "Mozambique",
          "Myanmar",
          "Nepal",
          "Netherlands (Kingdom of the)",
          "New Zealand",
          "Nicaragua",
          "Niger",
          "Nigeria",
          "Norway",
          "Pakistan",
          "Panama",
          "Papua New Guinea",
          "Paraguay",
          "Peru",
          "Philippines",
          "Poland",
          "Portugal",
          "Republic of Korea",
          "Republic of Moldova",
          "Romania",
          "Russian Federation",
          "Rwanda",
          "Saudi Arabia",
          "Senegal",
          "Serbia",
          "Sierra Leone",
          "Slovakia",
          "South Africa",
          "South Sudan",
          "Spain",
          "Sri Lanka",
          "Sudan",
          "Sweden",
          "Switzerland",
          "Syrian Arab Republic",
          "Tajikistan",
          "Thailand",
          "Togo",
          "Tunisia",
          "Turkmenistan",
          "Türkiye",
          "Uganda",
          "Ukraine",
          "United Kingdom of Great Britain and Northern Ireland",
          "United Republic of Tanzania",
          "United States of America",
          "Uruguay",
          "Uzbekistan",
          "Venezuela (Bolivarian Republic of)",
          "Viet Nam",
          "Yemen",
          "Zambia",
          "Zimbabwe"
         ],
         "type": "scattergeo"
        }
       ],
       "layout": {
        "annotations": [
         {
          "font": {
           "size": 13
          },
          "showarrow": false,
          "text": "CO₂-uitstoot per ton landbouwproductie",
          "x": 0.5,
          "xanchor": "center",
          "xref": "paper",
          "y": -0.15,
          "yanchor": "bottom",
          "yref": "paper"
         },
         {
          "align": "center",
          "font": {
           "size": 12
          },
          "showarrow": false,
          "text": "Deze visualisatie toont de CO₂-uitstoot per ton landbouwproductie en relateert dit aan het milieubeleid van landen<br>zoals gemeten via de EPI-score. Alleen landen met voldoende landbouwproductie zijn meegenomen<br>(meer dan 5.000 kiloton productie en meer dan 50 kiloton uitstoot),<br>om vertekende resultaten door kleine landbouwlanden zoals Qatar te voorkomen.",
          "x": 0.5,
          "xanchor": "center",
          "xref": "paper",
          "y": -0.36,
          "yanchor": "bottom",
          "yref": "paper"
         }
        ],
        "geo": {
         "center": {
          "lat": 10,
          "lon": 10
         },
         "projection": {
          "scale": 1.3,
          "type": "equirectangular"
         },
         "showcoastlines": true,
         "showframe": false
        },
        "height": 710,
        "margin": {
         "b": 220,
         "l": 60,
         "r": 60,
         "t": 60
        },
        "template": {
         "data": {
          "bar": [
           {
            "error_x": {
             "color": "#2a3f5f"
            },
            "error_y": {
             "color": "#2a3f5f"
            },
            "marker": {
             "line": {
              "color": "#E5ECF6",
              "width": 0.5
             },
             "pattern": {
              "fillmode": "overlay",
              "size": 10,
              "solidity": 0.2
             }
            },
            "type": "bar"
           }
          ],
          "barpolar": [
           {
            "marker": {
             "line": {
              "color": "#E5ECF6",
              "width": 0.5
             },
             "pattern": {
              "fillmode": "overlay",
              "size": 10,
              "solidity": 0.2
             }
            },
            "type": "barpolar"
           }
          ],
          "carpet": [
           {
            "aaxis": {
             "endlinecolor": "#2a3f5f",
             "gridcolor": "white",
             "linecolor": "white",
             "minorgridcolor": "white",
             "startlinecolor": "#2a3f5f"
            },
            "baxis": {
             "endlinecolor": "#2a3f5f",
             "gridcolor": "white",
             "linecolor": "white",
             "minorgridcolor": "white",
             "startlinecolor": "#2a3f5f"
            },
            "type": "carpet"
           }
          ],
          "choropleth": [
           {
            "colorbar": {
             "outlinewidth": 0,
             "ticks": ""
            },
            "type": "choropleth"
           }
          ],
          "contour": [
           {
            "colorbar": {
             "outlinewidth": 0,
             "ticks": ""
            },
            "colorscale": [
             [
              0,
              "#0d0887"
             ],
             [
              0.1111111111111111,
              "#46039f"
             ],
             [
              0.2222222222222222,
              "#7201a8"
             ],
             [
              0.3333333333333333,
              "#9c179e"
             ],
             [
              0.4444444444444444,
              "#bd3786"
             ],
             [
              0.5555555555555556,
              "#d8576b"
             ],
             [
              0.6666666666666666,
              "#ed7953"
             ],
             [
              0.7777777777777778,
              "#fb9f3a"
             ],
             [
              0.8888888888888888,
              "#fdca26"
             ],
             [
              1,
              "#f0f921"
             ]
            ],
            "type": "contour"
           }
          ],
          "contourcarpet": [
           {
            "colorbar": {
             "outlinewidth": 0,
             "ticks": ""
            },
            "type": "contourcarpet"
           }
          ],
          "heatmap": [
           {
            "colorbar": {
             "outlinewidth": 0,
             "ticks": ""
            },
            "colorscale": [
             [
              0,
              "#0d0887"
             ],
             [
              0.1111111111111111,
              "#46039f"
             ],
             [
              0.2222222222222222,
              "#7201a8"
             ],
             [
              0.3333333333333333,
              "#9c179e"
             ],
             [
              0.4444444444444444,
              "#bd3786"
             ],
             [
              0.5555555555555556,
              "#d8576b"
             ],
             [
              0.6666666666666666,
              "#ed7953"
             ],
             [
              0.7777777777777778,
              "#fb9f3a"
             ],
             [
              0.8888888888888888,
              "#fdca26"
             ],
             [
              1,
              "#f0f921"
             ]
            ],
            "type": "heatmap"
           }
          ],
          "histogram": [
           {
            "marker": {
             "pattern": {
              "fillmode": "overlay",
              "size": 10,
              "solidity": 0.2
             }
            },
            "type": "histogram"
           }
          ],
          "histogram2d": [
           {
            "colorbar": {
             "outlinewidth": 0,
             "ticks": ""
            },
            "colorscale": [
             [
              0,
              "#0d0887"
             ],
             [
              0.1111111111111111,
              "#46039f"
             ],
             [
              0.2222222222222222,
              "#7201a8"
             ],
             [
              0.3333333333333333,
              "#9c179e"
             ],
             [
              0.4444444444444444,
              "#bd3786"
             ],
             [
              0.5555555555555556,
              "#d8576b"
             ],
             [
              0.6666666666666666,
              "#ed7953"
             ],
             [
              0.7777777777777778,
              "#fb9f3a"
             ],
             [
              0.8888888888888888,
              "#fdca26"
             ],
             [
              1,
              "#f0f921"
             ]
            ],
            "type": "histogram2d"
           }
          ],
          "histogram2dcontour": [
           {
            "colorbar": {
             "outlinewidth": 0,
             "ticks": ""
            },
            "colorscale": [
             [
              0,
              "#0d0887"
             ],
             [
              0.1111111111111111,
              "#46039f"
             ],
             [
              0.2222222222222222,
              "#7201a8"
             ],
             [
              0.3333333333333333,
              "#9c179e"
             ],
             [
              0.4444444444444444,
              "#bd3786"
             ],
             [
              0.5555555555555556,
              "#d8576b"
             ],
             [
              0.6666666666666666,
              "#ed7953"
             ],
             [
              0.7777777777777778,
              "#fb9f3a"
             ],
             [
              0.8888888888888888,
              "#fdca26"
             ],
             [
              1,
              "#f0f921"
             ]
            ],
            "type": "histogram2dcontour"
           }
          ],
          "mesh3d": [
           {
            "colorbar": {
             "outlinewidth": 0,
             "ticks": ""
            },
            "type": "mesh3d"
           }
          ],
          "parcoords": [
           {
            "line": {
             "colorbar": {
              "outlinewidth": 0,
              "ticks": ""
             }
            },
            "type": "parcoords"
           }
          ],
          "pie": [
           {
            "automargin": true,
            "type": "pie"
           }
          ],
          "scatter": [
           {
            "fillpattern": {
             "fillmode": "overlay",
             "size": 10,
             "solidity": 0.2
            },
            "type": "scatter"
           }
          ],
          "scatter3d": [
           {
            "line": {
             "colorbar": {
              "outlinewidth": 0,
              "ticks": ""
             }
            },
            "marker": {
             "colorbar": {
              "outlinewidth": 0,
              "ticks": ""
             }
            },
            "type": "scatter3d"
           }
          ],
          "scattercarpet": [
           {
            "marker": {
             "colorbar": {
              "outlinewidth": 0,
              "ticks": ""
             }
            },
            "type": "scattercarpet"
           }
          ],
          "scattergeo": [
           {
            "marker": {
             "colorbar": {
              "outlinewidth": 0,
              "ticks": ""
             }
            },
            "type": "scattergeo"
           }
          ],
          "scattergl": [
           {
            "marker": {
             "colorbar": {
              "outlinewidth": 0,
              "ticks": ""
             }
            },
            "type": "scattergl"
           }
          ],
          "scattermap": [
           {
            "marker": {
             "colorbar": {
              "outlinewidth": 0,
              "ticks": ""
             }
            },
            "type": "scattermap"
           }
          ],
          "scattermapbox": [
           {
            "marker": {
             "colorbar": {
              "outlinewidth": 0,
              "ticks": ""
             }
            },
            "type": "scattermapbox"
           }
          ],
          "scatterpolar": [
           {
            "marker": {
             "colorbar": {
              "outlinewidth": 0,
              "ticks": ""
             }
            },
            "type": "scatterpolar"
           }
          ],
          "scatterpolargl": [
           {
            "marker": {
             "colorbar": {
              "outlinewidth": 0,
              "ticks": ""
             }
            },
            "type": "scatterpolargl"
           }
          ],
          "scatterternary": [
           {
            "marker": {
             "colorbar": {
              "outlinewidth": 0,
              "ticks": ""
             }
            },
            "type": "scatterternary"
           }
          ],
          "surface": [
           {
            "colorbar": {
             "outlinewidth": 0,
             "ticks": ""
            },
            "colorscale": [
             [
              0,
              "#0d0887"
             ],
             [
              0.1111111111111111,
              "#46039f"
             ],
             [
              0.2222222222222222,
              "#7201a8"
             ],
             [
              0.3333333333333333,
              "#9c179e"
             ],
             [
              0.4444444444444444,
              "#bd3786"
             ],
             [
              0.5555555555555556,
              "#d8576b"
             ],
             [
              0.6666666666666666,
              "#ed7953"
             ],
             [
              0.7777777777777778,
              "#fb9f3a"
             ],
             [
              0.8888888888888888,
              "#fdca26"
             ],
             [
              1,
              "#f0f921"
             ]
            ],
            "type": "surface"
           }
          ],
          "table": [
           {
            "cells": {
             "fill": {
              "color": "#EBF0F8"
             },
             "line": {
              "color": "white"
             }
            },
            "header": {
             "fill": {
              "color": "#C8D4E3"
             },
             "line": {
              "color": "white"
             }
            },
            "type": "table"
           }
          ]
         },
         "layout": {
          "annotationdefaults": {
           "arrowcolor": "#2a3f5f",
           "arrowhead": 0,
           "arrowwidth": 1
          },
          "autotypenumbers": "strict",
          "coloraxis": {
           "colorbar": {
            "outlinewidth": 0,
            "ticks": ""
           }
          },
          "colorscale": {
           "diverging": [
            [
             0,
             "#8e0152"
            ],
            [
             0.1,
             "#c51b7d"
            ],
            [
             0.2,
             "#de77ae"
            ],
            [
             0.3,
             "#f1b6da"
            ],
            [
             0.4,
             "#fde0ef"
            ],
            [
             0.5,
             "#f7f7f7"
            ],
            [
             0.6,
             "#e6f5d0"
            ],
            [
             0.7,
             "#b8e186"
            ],
            [
             0.8,
             "#7fbc41"
            ],
            [
             0.9,
             "#4d9221"
            ],
            [
             1,
             "#276419"
            ]
           ],
           "sequential": [
            [
             0,
             "#0d0887"
            ],
            [
             0.1111111111111111,
             "#46039f"
            ],
            [
             0.2222222222222222,
             "#7201a8"
            ],
            [
             0.3333333333333333,
             "#9c179e"
            ],
            [
             0.4444444444444444,
             "#bd3786"
            ],
            [
             0.5555555555555556,
             "#d8576b"
            ],
            [
             0.6666666666666666,
             "#ed7953"
            ],
            [
             0.7777777777777778,
             "#fb9f3a"
            ],
            [
             0.8888888888888888,
             "#fdca26"
            ],
            [
             1,
             "#f0f921"
            ]
           ],
           "sequentialminus": [
            [
             0,
             "#0d0887"
            ],
            [
             0.1111111111111111,
             "#46039f"
            ],
            [
             0.2222222222222222,
             "#7201a8"
            ],
            [
             0.3333333333333333,
             "#9c179e"
            ],
            [
             0.4444444444444444,
             "#bd3786"
            ],
            [
             0.5555555555555556,
             "#d8576b"
            ],
            [
             0.6666666666666666,
             "#ed7953"
            ],
            [
             0.7777777777777778,
             "#fb9f3a"
            ],
            [
             0.8888888888888888,
             "#fdca26"
            ],
            [
             1,
             "#f0f921"
            ]
           ]
          },
          "colorway": [
           "#636efa",
           "#EF553B",
           "#00cc96",
           "#ab63fa",
           "#FFA15A",
           "#19d3f3",
           "#FF6692",
           "#B6E880",
           "#FF97FF",
           "#FECB52"
          ],
          "font": {
           "color": "#2a3f5f"
          },
          "geo": {
           "bgcolor": "white",
           "lakecolor": "white",
           "landcolor": "#E5ECF6",
           "showlakes": true,
           "showland": true,
           "subunitcolor": "white"
          },
          "hoverlabel": {
           "align": "left"
          },
          "hovermode": "closest",
          "mapbox": {
           "style": "light"
          },
          "paper_bgcolor": "white",
          "plot_bgcolor": "#E5ECF6",
          "polar": {
           "angularaxis": {
            "gridcolor": "white",
            "linecolor": "white",
            "ticks": ""
           },
           "bgcolor": "#E5ECF6",
           "radialaxis": {
            "gridcolor": "white",
            "linecolor": "white",
            "ticks": ""
           }
          },
          "scene": {
           "xaxis": {
            "backgroundcolor": "#E5ECF6",
            "gridcolor": "white",
            "gridwidth": 2,
            "linecolor": "white",
            "showbackground": true,
            "ticks": "",
            "zerolinecolor": "white"
           },
           "yaxis": {
            "backgroundcolor": "#E5ECF6",
            "gridcolor": "white",
            "gridwidth": 2,
            "linecolor": "white",
            "showbackground": true,
            "ticks": "",
            "zerolinecolor": "white"
           },
           "zaxis": {
            "backgroundcolor": "#E5ECF6",
            "gridcolor": "white",
            "gridwidth": 2,
            "linecolor": "white",
            "showbackground": true,
            "ticks": "",
            "zerolinecolor": "white"
           }
          },
          "shapedefaults": {
           "line": {
            "color": "#2a3f5f"
           }
          },
          "ternary": {
           "aaxis": {
            "gridcolor": "white",
            "linecolor": "white",
            "ticks": ""
           },
           "baxis": {
            "gridcolor": "white",
            "linecolor": "white",
            "ticks": ""
           },
           "bgcolor": "#E5ECF6",
           "caxis": {
            "gridcolor": "white",
            "linecolor": "white",
            "ticks": ""
           }
          },
          "title": {
           "x": 0.05
          },
          "xaxis": {
           "automargin": true,
           "gridcolor": "white",
           "linecolor": "white",
           "ticks": "",
           "title": {
            "standoff": 15
           },
           "zerolinecolor": "white",
           "zerolinewidth": 2
          },
          "yaxis": {
           "automargin": true,
           "gridcolor": "white",
           "linecolor": "white",
           "ticks": "",
           "title": {
            "standoff": 15
           },
           "zerolinecolor": "white",
           "zerolinewidth": 2
          }
         }
        },
        "title": {
         "font": {
          "size": 16
         },
         "text": "CO₂-uitstoot per ton landbouwproductie en milieubeleid (EPI-score) per land (2022)"
        },
        "width": 1100
       }
      }
     },
     "metadata": {},
     "output_type": "display_data"
    }
   ],
   "source": [
    "# — Cell 2: load, process, and draw the figure —\n",
    "\n",
    "import pandas as pd\n",
    "import plotly.graph_objects as go\n",
    "\n",
    "# 1) Load raw data from data1/\n",
    "emissies  = pd.read_csv(\"data1/FAOSTAT_landbouw_emissies_2022.csv\")\n",
    "productie = pd.read_csv(\"data1/FAOSTAT_landbouw_productie_2022.csv\")\n",
    "epi       = pd.read_csv(\"data1/epi2022results05302022.csv\")\n",
    "\n",
    "# 2) Aggregate to per‐country\n",
    "em_land = emissies.groupby(\"Area\")[\"Value\"].sum().reset_index()\n",
    "em_land.columns = [\"Country\", \"Emissions_kt\"]\n",
    "pr_land = productie.groupby(\"Area\")[\"Value\"].sum().reset_index()\n",
    "pr_land.columns = [\"Country\", \"Production_ton\"]\n",
    "pr_land[\"Production_kt\"] = pr_land[\"Production_ton\"] / 1_000\n",
    "\n",
    "# 3) Merge and compute per‐ton emissions\n",
    "df = pd.merge(em_land, pr_land, on=\"Country\")\n",
    "df[\"Emissions_per_ton\"] = df[\"Emissions_kt\"] / df[\"Production_kt\"]\n",
    "\n",
    "# 4) Attach EPI score\n",
    "epi = epi.rename(columns={\"country\":\"Country\", \"EPI.new\":\"EPI_Score\"})\n",
    "df = pd.merge(df, epi[[\"Country\",\"EPI_Score\"]], on=\"Country\", how=\"left\")\n",
    "\n",
    "# 5) Filter out very small producers\n",
    "df = df[(df[\"Production_kt\"] > 5_000) & (df[\"Emissions_kt\"] > 50)]\n",
    "\n",
    "# 6) Build the two layers\n",
    "p10, p90 = df[\"Emissions_per_ton\"].quantile([0.1, 0.9])\n",
    "\n",
    "choropleth = go.Choropleth(\n",
    "    locations=df[\"Country\"], locationmode=\"country names\",\n",
    "    z=df[\"EPI_Score\"], colorscale=\"YlGn\", zmin=0, zmax=100,\n",
    "    showscale=True, colorbar=dict(title=\"EPI Score\", x=1.02, len=0.6)\n",
    ")\n",
    "scatter = go.Scattergeo(\n",
    "    locations=df[\"Country\"], locationmode=\"country names\",\n",
    "    text=df[\"Country\"],\n",
    "    marker=dict(\n",
    "        size=6,\n",
    "        color=df[\"Emissions_per_ton\"],\n",
    "        colorscale=[\"#ffffcc\",\"#ffcc66\",\"#ff9933\",\"#cc3300\",\"#660000\"],\n",
    "        cmin=p10, cmax=p90,\n",
    "        colorbar=dict(\n",
    "            title=\"CO₂ per ton\",\n",
    "            orientation=\"h\",\n",
    "            x=0.5, xanchor=\"center\",\n",
    "            y=-0.18, yanchor=\"bottom\",\n",
    "            len=1.0, thickness=15,\n",
    "            tickvals=[round(p10,3), round((p10+p90)/2,3), round(p90,3)]\n",
    "        )\n",
    "    ),\n",
    "    name=\"Uitstoot per ton\"\n",
    ")\n",
    "\n",
    "# 7) Layout and annotations\n",
    "fig = go.Figure([choropleth, scatter])\n",
    "fig.update_layout(\n",
    "    title=\"CO₂-uitstoot per ton landbouwproductie en milieubeleid (EPI-score) per land (2022)\",\n",
    "    title_font=dict(size=16),\n",
    "    geo=dict(\n",
    "        showframe=False, showcoastlines=True,\n",
    "        projection_type=\"equirectangular\", projection_scale=1.3,\n",
    "        center=dict(lat=10, lon=10)\n",
    "    ),\n",
    "    margin=dict(t=60, b=220, l=60, r=60),\n",
    "    height=710, width=1100,\n",
    "    annotations=[\n",
    "      dict(\n",
    "        text=\"CO₂-uitstoot per ton landbouwproductie\",\n",
    "        showarrow=False, xref=\"paper\", yref=\"paper\",\n",
    "        x=0.5, y=-0.15, xanchor=\"center\", yanchor=\"bottom\",\n",
    "        font=dict(size=13)\n",
    "      ),\n",
    "      dict(\n",
    "        text=(\n",
    "          \"Deze visualisatie toont de CO₂-uitstoot per ton landbouwproductie en relateert dit aan het milieubeleid van landen<br>\"\n",
    "          \"zoals gemeten via de EPI-score. Alleen landen met voldoende landbouwproductie zijn meegenomen<br>\"\n",
    "          \"(meer dan 5.000 kiloton productie en meer dan 50 kiloton uitstoot),<br>\"\n",
    "          \"om vertekende resultaten door kleine landbouwlanden zoals Qatar te voorkomen.\"\n",
    "        ),\n",
    "        showarrow=False, xref=\"paper\", yref=\"paper\",\n",
    "        x=0.5, y=-0.36, xanchor=\"center\", yanchor=\"bottom\",\n",
    "        align=\"center\", font=dict(size=12)\n",
    "      )\n",
    "    ]\n",
    ")\n",
    "\n",
    "# 8) Render\n",
    "fig.show()\n"
   ]
  },
  {
   "attachments": {},
   "cell_type": "markdown",
   "id": "0737d42a",
   "metadata": {},
   "source": [
    "De visualisatie laat duidelijk zien dat landen met een hoge EPI-score, wat wijst op sterker milieubeleid, gemiddeld minder CO₂ uitstoten per ton landbouwproductie. Dit is goed te zien bij landen als Zwitserland, Duitsland en Nieuw-Zeeland. Deze landen zijn donkergroen gekleurd, wat duidt op een hoog milieubeleidsscore, en hebben lichtere stippen, wat betekent dat hun uitstoot per ton landbouwproductie relatief laag is.\n",
    "\n",
    "Landen met lage EPI-scores, zoals India, Pakistan, Nigeria en Kenya, vallen juist op door hun lichtere achtergrondkleur in combinatie met donkergekleurde stippen. Dit betekent dat deze landen minder streng milieubeleid voeren en tegelijkertijd relatief veel uitstoten per ton landbouwproductie. Dit patroon ondersteunt sterk het idee dat strenger milieubeleid samenhangt met duurzamere landbouw.\n",
    "\n",
    "Een opvallende uitzondering vormen sommige Scandinavische landen, zoals Zweden en Finland. Zij scoren hoog op milieubeleid en zijn dus donkergroen op de kaart, maar hebben toch relatief donkere stippen. Dat betekent dat hun uitstoot per ton landbouwproductie hoger ligt dan je op basis van hun EPI-score zou verwachten. Toch zijn dit uitzonderingen op een veel duidelijker en bredere trend: landen met beter milieubeleid produceren landbouw gemiddeld op een schonere en efficiëntere manier."
   ]
  },
  {
   "attachments": {},
   "cell_type": "markdown",
   "id": "33bdd664",
   "metadata": {},
   "source": [
    "### Argument 2: Landen die duurzaamheid belonen via subsidies, stoten relatief minder CO₂ uit binnen hun landbouwsector\n",
    "\n",
    "Niet alleen milieuregels zijn van belang. Financiële prikkels spelen namelijk ook een grote rol. Overheden beïnvloeden landbouwgedrag niet alleen met wetten, maar ook via subsidies. Die subsidies kunnen duurzame praktijken stimuleren, zoals het beschermen van ecosystemen of het terugdringen van uitstoot. Maar ze kunnen ook onbedoeld vervuilende landbouw ondersteunen, bijvoorbeeld door intensieve veehouderij of het overmatig gebruik van kunstmest aantrekkelijk te maken.\n",
    "\n",
    "\n",
    "**Twee vormen van landbouwsubsidies:**\n",
    "\n",
    "| Subsidie | Volledige naam | Inhoud | Duurzaamheidswaarde |\n",
    "|----------|----------------|--------|----------------------|\n",
    "| **_GSSE_** | _General Services Support Estimate_ | Overheidsuitgaven voor publieke goederen en langetermijnvoorzieningen in de landbouw (onderzoek, kennisoverdracht, infrastructuur, milieuherstel). Boeren ontvangen deze steun niet direct. |  Wordt algemeen beschouwd als duurzame, niet-productiegebonden steun. |\n",
    "| **_PSE_**  | _Producer Support Estimate_ | Directe betalingen aan boeren, vaak gekoppeld aan hoeveel ze produceren of exporteren. Dit kan leiden tot intensivering en overproductie. |  Wordt vaak gezien als minder duurzaam of zelfs schadelijk voor het milieu. |\n",
    "\n",
    "De _TSE_ (_Total Support Estimate_) omvat álle subsidies (dus _TSE_ = _GSSE_ + _PSE_ + andere steunvormen van de originele OECD dataset).\n",
    "\n",
    "*Bron: [_OECD Glossary on Agricultural Support Indicators_](https://www.oecd.org/agriculture/topics/agricultural-policy-monitoring-and-evaluation/)*"
   ]
  },
  {
   "cell_type": "code",
   "execution_count": null,
   "id": "9d29a6eb",
   "metadata": {},
   "outputs": [
    {
     "ename": "FileNotFoundError",
     "evalue": "[Errno 2] No such file or directory: '../data1/CO2.csv'",
     "output_type": "error",
     "traceback": [
      "\u001b[0;31m---------------------------------------------------------------------------\u001b[0m",
      "\u001b[0;31mFileNotFoundError\u001b[0m                         Traceback (most recent call last)",
      "Cell \u001b[0;32mIn[3], line 5\u001b[0m\n\u001b[1;32m      1\u001b[0m \u001b[39mimport\u001b[39;00m \u001b[39mpandas\u001b[39;00m \u001b[39mas\u001b[39;00m \u001b[39mpd\u001b[39;00m\n\u001b[1;32m      2\u001b[0m \u001b[39mimport\u001b[39;00m \u001b[39mplotly\u001b[39;00m\u001b[39m.\u001b[39;00m\u001b[39mgraph_objects\u001b[39;00m \u001b[39mas\u001b[39;00m \u001b[39mgo\u001b[39;00m\n\u001b[0;32m----> 5\u001b[0m df \u001b[39m=\u001b[39m pd\u001b[39m.\u001b[39mread_csv(\u001b[39m\"\u001b[39m\u001b[39m../data1/CO2.csv\u001b[39m\u001b[39m\"\u001b[39m)\n\u001b[1;32m      8\u001b[0m landnaam_vertaling \u001b[39m=\u001b[39m {\n\u001b[1;32m      9\u001b[0m     \u001b[39m'\u001b[39m\u001b[39mAustralia\u001b[39m\u001b[39m'\u001b[39m: \u001b[39m'\u001b[39m\u001b[39mAustralië\u001b[39m\u001b[39m'\u001b[39m,\n\u001b[1;32m     10\u001b[0m     \u001b[39m'\u001b[39m\u001b[39mChina\u001b[39m\u001b[39m'\u001b[39m: \u001b[39m'\u001b[39m\u001b[39mChina\u001b[39m\u001b[39m'\u001b[39m,\n\u001b[0;32m   (...)\u001b[0m\n\u001b[1;32m     14\u001b[0m     \u001b[39m'\u001b[39m\u001b[39mRepublic of Korea\u001b[39m\u001b[39m'\u001b[39m: \u001b[39m'\u001b[39m\u001b[39mZuid-Korea\u001b[39m\u001b[39m'\u001b[39m\n\u001b[1;32m     15\u001b[0m }\n\u001b[1;32m     18\u001b[0m df[\u001b[39m'\u001b[39m\u001b[39mLand_NL\u001b[39m\u001b[39m'\u001b[39m] \u001b[39m=\u001b[39m df[\u001b[39m'\u001b[39m\u001b[39mMapped_Country\u001b[39m\u001b[39m'\u001b[39m]\u001b[39m.\u001b[39mmap(landnaam_vertaling)\n",
      "File \u001b[0;32m/opt/anaconda3/lib/python3.12/site-packages/pandas/io/parsers/readers.py:1026\u001b[0m, in \u001b[0;36mread_csv\u001b[0;34m(filepath_or_buffer, sep, delimiter, header, names, index_col, usecols, dtype, engine, converters, true_values, false_values, skipinitialspace, skiprows, skipfooter, nrows, na_values, keep_default_na, na_filter, verbose, skip_blank_lines, parse_dates, infer_datetime_format, keep_date_col, date_parser, date_format, dayfirst, cache_dates, iterator, chunksize, compression, thousands, decimal, lineterminator, quotechar, quoting, doublequote, escapechar, comment, encoding, encoding_errors, dialect, on_bad_lines, delim_whitespace, low_memory, memory_map, float_precision, storage_options, dtype_backend)\u001b[0m\n\u001b[1;32m   1013\u001b[0m kwds_defaults \u001b[39m=\u001b[39m _refine_defaults_read(\n\u001b[1;32m   1014\u001b[0m     dialect,\n\u001b[1;32m   1015\u001b[0m     delimiter,\n\u001b[0;32m   (...)\u001b[0m\n\u001b[1;32m   1022\u001b[0m     dtype_backend\u001b[39m=\u001b[39mdtype_backend,\n\u001b[1;32m   1023\u001b[0m )\n\u001b[1;32m   1024\u001b[0m kwds\u001b[39m.\u001b[39mupdate(kwds_defaults)\n\u001b[0;32m-> 1026\u001b[0m \u001b[39mreturn\u001b[39;00m _read(filepath_or_buffer, kwds)\n",
      "File \u001b[0;32m/opt/anaconda3/lib/python3.12/site-packages/pandas/io/parsers/readers.py:620\u001b[0m, in \u001b[0;36m_read\u001b[0;34m(filepath_or_buffer, kwds)\u001b[0m\n\u001b[1;32m    617\u001b[0m _validate_names(kwds\u001b[39m.\u001b[39mget(\u001b[39m\"\u001b[39m\u001b[39mnames\u001b[39m\u001b[39m\"\u001b[39m, \u001b[39mNone\u001b[39;00m))\n\u001b[1;32m    619\u001b[0m \u001b[39m# Create the parser.\u001b[39;00m\n\u001b[0;32m--> 620\u001b[0m parser \u001b[39m=\u001b[39m TextFileReader(filepath_or_buffer, \u001b[39m*\u001b[39m\u001b[39m*\u001b[39mkwds)\n\u001b[1;32m    622\u001b[0m \u001b[39mif\u001b[39;00m chunksize \u001b[39mor\u001b[39;00m iterator:\n\u001b[1;32m    623\u001b[0m     \u001b[39mreturn\u001b[39;00m parser\n",
      "File \u001b[0;32m/opt/anaconda3/lib/python3.12/site-packages/pandas/io/parsers/readers.py:1620\u001b[0m, in \u001b[0;36mTextFileReader.__init__\u001b[0;34m(self, f, engine, **kwds)\u001b[0m\n\u001b[1;32m   1617\u001b[0m     \u001b[39mself\u001b[39m\u001b[39m.\u001b[39moptions[\u001b[39m\"\u001b[39m\u001b[39mhas_index_names\u001b[39m\u001b[39m\"\u001b[39m] \u001b[39m=\u001b[39m kwds[\u001b[39m\"\u001b[39m\u001b[39mhas_index_names\u001b[39m\u001b[39m\"\u001b[39m]\n\u001b[1;32m   1619\u001b[0m \u001b[39mself\u001b[39m\u001b[39m.\u001b[39mhandles: IOHandles \u001b[39m|\u001b[39m \u001b[39mNone\u001b[39;00m \u001b[39m=\u001b[39m \u001b[39mNone\u001b[39;00m\n\u001b[0;32m-> 1620\u001b[0m \u001b[39mself\u001b[39m\u001b[39m.\u001b[39m_engine \u001b[39m=\u001b[39m \u001b[39mself\u001b[39m\u001b[39m.\u001b[39m_make_engine(f, \u001b[39mself\u001b[39m\u001b[39m.\u001b[39mengine)\n",
      "File \u001b[0;32m/opt/anaconda3/lib/python3.12/site-packages/pandas/io/parsers/readers.py:1880\u001b[0m, in \u001b[0;36mTextFileReader._make_engine\u001b[0;34m(self, f, engine)\u001b[0m\n\u001b[1;32m   1878\u001b[0m     \u001b[39mif\u001b[39;00m \u001b[39m\"\u001b[39m\u001b[39mb\u001b[39m\u001b[39m\"\u001b[39m \u001b[39mnot\u001b[39;00m \u001b[39min\u001b[39;00m mode:\n\u001b[1;32m   1879\u001b[0m         mode \u001b[39m+\u001b[39m\u001b[39m=\u001b[39m \u001b[39m\"\u001b[39m\u001b[39mb\u001b[39m\u001b[39m\"\u001b[39m\n\u001b[0;32m-> 1880\u001b[0m \u001b[39mself\u001b[39m\u001b[39m.\u001b[39mhandles \u001b[39m=\u001b[39m get_handle(\n\u001b[1;32m   1881\u001b[0m     f,\n\u001b[1;32m   1882\u001b[0m     mode,\n\u001b[1;32m   1883\u001b[0m     encoding\u001b[39m=\u001b[39m\u001b[39mself\u001b[39m\u001b[39m.\u001b[39moptions\u001b[39m.\u001b[39mget(\u001b[39m\"\u001b[39m\u001b[39mencoding\u001b[39m\u001b[39m\"\u001b[39m, \u001b[39mNone\u001b[39;00m),\n\u001b[1;32m   1884\u001b[0m     compression\u001b[39m=\u001b[39m\u001b[39mself\u001b[39m\u001b[39m.\u001b[39moptions\u001b[39m.\u001b[39mget(\u001b[39m\"\u001b[39m\u001b[39mcompression\u001b[39m\u001b[39m\"\u001b[39m, \u001b[39mNone\u001b[39;00m),\n\u001b[1;32m   1885\u001b[0m     memory_map\u001b[39m=\u001b[39m\u001b[39mself\u001b[39m\u001b[39m.\u001b[39moptions\u001b[39m.\u001b[39mget(\u001b[39m\"\u001b[39m\u001b[39mmemory_map\u001b[39m\u001b[39m\"\u001b[39m, \u001b[39mFalse\u001b[39;00m),\n\u001b[1;32m   1886\u001b[0m     is_text\u001b[39m=\u001b[39mis_text,\n\u001b[1;32m   1887\u001b[0m     errors\u001b[39m=\u001b[39m\u001b[39mself\u001b[39m\u001b[39m.\u001b[39moptions\u001b[39m.\u001b[39mget(\u001b[39m\"\u001b[39m\u001b[39mencoding_errors\u001b[39m\u001b[39m\"\u001b[39m, \u001b[39m\"\u001b[39m\u001b[39mstrict\u001b[39m\u001b[39m\"\u001b[39m),\n\u001b[1;32m   1888\u001b[0m     storage_options\u001b[39m=\u001b[39m\u001b[39mself\u001b[39m\u001b[39m.\u001b[39moptions\u001b[39m.\u001b[39mget(\u001b[39m\"\u001b[39m\u001b[39mstorage_options\u001b[39m\u001b[39m\"\u001b[39m, \u001b[39mNone\u001b[39;00m),\n\u001b[1;32m   1889\u001b[0m )\n\u001b[1;32m   1890\u001b[0m \u001b[39massert\u001b[39;00m \u001b[39mself\u001b[39m\u001b[39m.\u001b[39mhandles \u001b[39mis\u001b[39;00m \u001b[39mnot\u001b[39;00m \u001b[39mNone\u001b[39;00m\n\u001b[1;32m   1891\u001b[0m f \u001b[39m=\u001b[39m \u001b[39mself\u001b[39m\u001b[39m.\u001b[39mhandles\u001b[39m.\u001b[39mhandle\n",
      "File \u001b[0;32m/opt/anaconda3/lib/python3.12/site-packages/pandas/io/common.py:873\u001b[0m, in \u001b[0;36mget_handle\u001b[0;34m(path_or_buf, mode, encoding, compression, memory_map, is_text, errors, storage_options)\u001b[0m\n\u001b[1;32m    868\u001b[0m \u001b[39melif\u001b[39;00m \u001b[39misinstance\u001b[39m(handle, \u001b[39mstr\u001b[39m):\n\u001b[1;32m    869\u001b[0m     \u001b[39m# Check whether the filename is to be opened in binary mode.\u001b[39;00m\n\u001b[1;32m    870\u001b[0m     \u001b[39m# Binary mode does not support 'encoding' and 'newline'.\u001b[39;00m\n\u001b[1;32m    871\u001b[0m     \u001b[39mif\u001b[39;00m ioargs\u001b[39m.\u001b[39mencoding \u001b[39mand\u001b[39;00m \u001b[39m\"\u001b[39m\u001b[39mb\u001b[39m\u001b[39m\"\u001b[39m \u001b[39mnot\u001b[39;00m \u001b[39min\u001b[39;00m ioargs\u001b[39m.\u001b[39mmode:\n\u001b[1;32m    872\u001b[0m         \u001b[39m# Encoding\u001b[39;00m\n\u001b[0;32m--> 873\u001b[0m         handle \u001b[39m=\u001b[39m \u001b[39mopen\u001b[39m(\n\u001b[1;32m    874\u001b[0m             handle,\n\u001b[1;32m    875\u001b[0m             ioargs\u001b[39m.\u001b[39mmode,\n\u001b[1;32m    876\u001b[0m             encoding\u001b[39m=\u001b[39mioargs\u001b[39m.\u001b[39mencoding,\n\u001b[1;32m    877\u001b[0m             errors\u001b[39m=\u001b[39merrors,\n\u001b[1;32m    878\u001b[0m             newline\u001b[39m=\u001b[39m\u001b[39m\"\u001b[39m\u001b[39m\"\u001b[39m,\n\u001b[1;32m    879\u001b[0m         )\n\u001b[1;32m    880\u001b[0m     \u001b[39melse\u001b[39;00m:\n\u001b[1;32m    881\u001b[0m         \u001b[39m# Binary mode\u001b[39;00m\n\u001b[1;32m    882\u001b[0m         handle \u001b[39m=\u001b[39m \u001b[39mopen\u001b[39m(handle, ioargs\u001b[39m.\u001b[39mmode)\n",
      "\u001b[0;31mFileNotFoundError\u001b[0m: [Errno 2] No such file or directory: '../data1/CO2.csv'"
     ]
    }
   ],
   "source": [
    "import pandas as pd\n",
    "import plotly.graph_objects as go\n",
    "\n",
    "\n",
    "df = pd.read_csv(\"../data1/CO2.csv\")\n",
    "\n",
    "\n",
    "landnaam_vertaling = {\n",
    "    'Australia': 'Australië',\n",
    "    'China': 'China',\n",
    "    'Brazil': 'Brazilië',\n",
    "    'South Africa': 'Zuid-Afrika',\n",
    "    'United States of America': 'Verenigde Staten',\n",
    "    'Republic of Korea': 'Zuid-Korea'\n",
    "}\n",
    "\n",
    "\n",
    "df['Land_NL'] = df['Mapped_Country'].map(landnaam_vertaling)\n",
    "\n",
    "\n",
    "df = df.dropna(subset=['GSSE_Subsidy', 'TSE_Subsidy', 'CO2_Emission'])\n",
    "df = df[df['TSE_Subsidy'] != 0]\n",
    "df['Duurzaamheidsratio'] = df['GSSE_Subsidy'] / df['TSE_Subsidy']\n",
    "\n",
    "\n",
    "gewilde_landen = list(landnaam_vertaling.keys())\n",
    "df = df[df['Mapped_Country'].isin(gewilde_landen)]\n",
    "\n",
    "\n",
    "df = df.sort_values(by=['Land_NL', 'Year'])\n",
    "landen = df['Land_NL'].unique()\n",
    "\n",
    "\n",
    "fig = go.Figure()\n",
    "dropdown_buttons = []\n",
    "\n",
    "for i, land in enumerate(landen):\n",
    "    data = df[df['Land_NL'] == land]\n",
    "    visible = [False] * (2 * len(landen))\n",
    "\n",
    "    \n",
    "    fig.add_trace(go.Bar(\n",
    "        x=data['Year'],\n",
    "        y=data['Duurzaamheidsratio'],\n",
    "        name=f\"Duurzame subsidies (GSSE/TSE) – {land}\",\n",
    "        marker_color='#C7EEF9',\n",
    "        yaxis='y1',\n",
    "        visible=(i == 0)\n",
    "    ))\n",
    "    visible[i * 2] = True\n",
    "\n",
    "    \n",
    "    fig.add_trace(go.Scatter(\n",
    "        x=data['Year'],\n",
    "        y=data['CO2_Emission'],\n",
    "        name=f\"CO₂-uitstoot – {land}\",\n",
    "        mode='lines+markers',\n",
    "        marker_color='#EF8C60',\n",
    "        yaxis='y2',\n",
    "        visible=(i == 0)\n",
    "    ))\n",
    "    visible[i * 2 + 1] = True\n",
    "\n",
    "    \n",
    "    dropdown_buttons.append(dict(\n",
    "        label=land,\n",
    "        method='update',\n",
    "        args=[{'visible': visible},\n",
    "              {'title': f\"Duurzame subsidies en CO₂-uitstoot – {land}\"}]\n",
    "    ))\n",
    "\n",
    "\n",
    "fig.update_layout(\n",
    "    title=\"Duurzame subsidies en CO₂-uitstoot – \" + landen[0],\n",
    "    xaxis=dict(title=\"Jaar\"),\n",
    "    yaxis=dict(title=\"GSSE / TSE (duurzaamheidsratio)\", range=[0, 1]),\n",
    "    yaxis2=dict(title=\"CO₂-uitstoot (ton CO₂eq)\", overlaying=\"y\", side=\"right\"),\n",
    "    updatemenus=[dict(\n",
    "        buttons=dropdown_buttons,\n",
    "        direction='down',\n",
    "        x=1.03,\n",
    "        xanchor=\"left\",\n",
    "        y=1.15,\n",
    "        yanchor=\"top\",\n",
    "        showactive=True\n",
    "    )],\n",
    "    legend=dict(x=0.01, y=1),\n",
    "    barmode='group',\n",
    "    height=600,\n",
    "    template='plotly_white'\n",
    ")\n",
    "\n",
    "fig.update_layout(\n",
    "    height=750,\n",
    "    margin=dict(b=150) \n",
    ")\n",
    "\n",
    "\n",
    "fig.add_annotation(\n",
    "    text=(\n",
    "        \" Met het dropdownmenu rechtsboven kun je wisselen tussen landen. <br>\" \n",
    "        \" Beweeg met je muis over de grafiek om de exacte waarden per jaar te bekijken. <br>\"\n",
    "        \" De grafiek helpt inzicht te krijgen in hoe subsidiebeleid mogelijk samenhangt met de uitstoot uit de landbouwsector.\"\n",
    "    ),\n",
    "    xref=\"paper\", yref=\"paper\",\n",
    "    x=0, y=-0.25,\n",
    "    showarrow=False,\n",
    "    align=\"left\",\n",
    "    font=dict(size=12),\n",
    "    borderpad=4\n",
    ")\n",
    "\n",
    "\n",
    "fig.show()"
   ]
  },
  {
   "attachments": {},
   "cell_type": "markdown",
   "id": "6c52ea16",
   "metadata": {},
   "source": [
    "\n",
    "<span style=\"font-size: 60%;\">\n",
    "\n",
    "Deze grafiek vergelijkt per land twee belangrijke grootheden over de tijd:<br><br>\n",
    "\n",
    "**1. De verhouding GSSE / TSE (Duurzaamheidratio)**<br><br>\n",
    "\n",
    "De GSSE/TSE-ratio geeft aan welk deel van de totale landbouwsubsidies (TSE) bestaat uit algemene diensten aan de landbouwsector (GSSE), zoals investeringen in duurzaamheid, infrastructuur of milieubescherming.<br><br>\n",
    "\n",
    "Een hogere GSSE/TSE-ratio betekent dat een groter deel van het landbouwbeleid gericht is op collectieve, vaak duurzamere maatregelen. Landen met een hoge ratio investeren dus relatief meer in bijvoorbeeld ecologische innovatie, bodemkwaliteit of klimaatvriendelijke systemen.<br><br>\n",
    "\n",
    "**2. Totale CO₂-uitstoot vanuit de landbouwsector**<br><br>\n",
    "\n",
    "De totale landbouwuitstoot omvat de broeikasgassen die vrijkomen binnen de landbouwsector. Dit wordt uitgedrukt in CO₂-equivalenten (CO₂-eq) om verschillende broeikasgassen, zoals methaan en lachgas, vergelijkbaar te maken op basis van hun effect op het klimaat (Fifth Assessment Report, 2014).<br><br>\n",
    "\n",
    "Door deze twee lijnen te combineren, wordt zichtbaar of een land dat meer investeert in duurzame subsidies, ook relatief schoner produceert.\n",
    "\n",
    "</span>\n"
   ]
  },
  {
   "attachments": {},
   "cell_type": "markdown",
   "id": "fae05f84",
   "metadata": {},
   "source": [
    "\n",
    "##### Waarom deze landen?\n",
    "De zes gevisualiseerde landen Australië, Brazilië, China, Zuid-Afrika, Verenigde Staten en Zuid-Korea zijn geselecteerd vanwege hun variatie in duurzaamheidsratio’s. Zo konden zowel landen met een relatief hoge als lage inzet op duurzame landbouwsubsidies worden geanalyseerd, wat waardevol is om verschillen in CO₂-uitstoot beter te begrijpen.\n",
    "\n",
    "##### Analyse\n",
    "Uit de visualisaties van zes landen blijkt een opvallende samenhang tussen de mate van duurzame landbouwsubsidies en CO₂-uitstoot. Hoewel we geen causale conclusies kunnen trekken, zijn er wel patronen zichtbaar die het argument ondersteunen dat landen die duurzaamheid belonen via subsidies, stoten relatief minder CO₂ uit binnen hun landbouwsector.\n",
    "\n",
    "\n",
    "- **Australië** laat een stijgende duurzaamheidsratio zien vanaf de jaren 2000, samen met een licht dalende of stabiele CO₂-uitstoot in recente jaren. Dit wijst op een mogelijke effectiviteit van duurzaam beleid.\n",
    "  \n",
    "- **Brazilië** laat zien dat tussen 1995 en 2005 een daling van duurzame subsidies samen gaat met een stijging in CO₂-uitstoot. Wat wel tegenstrijdig lijkt te zijn is dat in 2010 de uitstoot sterk daalt ondanks een lage duurzaamheidsratio.\n",
    "\n",
    "- **China** De grafiek laat zien dat China tussen 1995 en 2005 een relatief hoge duurzaamheidsratio had. In die periode bleef de CO₂-uitstoot nog relatief laag en groeide slechts langzaam. Maar na 2005 daalt de duurzaamheidsratio flink, terwijl de CO₂-uitstoot juist versneld begint te stijgen. Dat suggereert dat het afbouwen van duurzame subsidies mogelijk heeft bijgedragen aan een snellere stijging van de uitstoot in de landbouwsector\n",
    "\n",
    "- **Zuid-Afrika** De grafiek van Zuid-Afrika toont een grillig patroon met meerdere pieken en dalen in zowel de duurzaamheidsratio als de CO₂-uitstoot. Opvallend is dat deze schommelingen vaak ongeveer gelijktijdig optreden, wat kan wijzen op een samenhang.\n",
    "\n",
    "- **Verenigde Staten** hebben langdurig een lage duurzaamheidsratio, namelijk rond 0.1 – 0.2, en de CO₂-uitstoot blijft ook relatief hoog, met recente pieken. De verhouding tussen GSSE en TSE is hier opvallend laag vergeleken met andere landen.\n",
    "\n",
    "- **Zuid-Korea** In Zuid-Korea blijft de duurzaamheidsratio structureel laag, terwijl de CO₂-uitstoot van de landbouwsector sterk blijft stijgen. Dit ondersteunt het argument dat een gebrek aan gerichte duurzame subsidies samenhangt met een gestage toename van emissies.\n",
    "\n",
    "\n",
    "De gevisualiseerde grafieken suggereren dat een hogere duurzaamheidratio kan leiden naar relatief lagere CO₂-uitstoot in de landbouwsector.  \n",
    "De duurzaamheid van subsidies lijkt dus een relevante factor in het klimaatbeleid. De interactieve grafiek maakt dit visueel duidelijk, vooral door het contrast tussen landen met lage en hoge duurzame subsidieratio’s.\n"
   ]
  }
 ],
 "metadata": {
  "kernelspec": {
   "display_name": "base",
   "language": "python",
   "name": "python3"
  },
  "language_info": {
   "codemirror_mode": {
    "name": "ipython",
    "version": 3
   },
   "file_extension": ".py",
   "mimetype": "text/x-python",
   "name": "python",
   "nbconvert_exporter": "python",
   "pygments_lexer": "ipython3",
   "version": "3.12.2"
  }
 },
 "nbformat": 4,
 "nbformat_minor": 5
}
