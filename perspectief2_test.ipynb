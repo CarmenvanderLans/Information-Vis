{
 "cells": [
  {
   "attachments": {},
   "cell_type": "markdown",
   "id": "7babede7-2066-4115-a6aa-5ece32aa4714",
   "metadata": {},
   "source": [
    "# Economische welvaart en productiviteit beïnvloeden uitstoot"
   ]
  },
  {
   "attachments": {},
   "cell_type": "markdown",
   "id": "e5ffa605-f443-4b0c-98eb-b65f7cc81a61",
   "metadata": {},
   "source": [
    "Hogere economische welvaart gaat vaak gepaard met betere technologieën, schaalvoordelen en geavanceerde productiesystemen. Daardoor kunnen rijkere landen meer output genereren met minder inzet van grondstoffen en energie, wat resulteert in een lagere CO₂-uitstoot per ton geproduceerd voedsel. Deze benadering onderzoekt hoe economische middelen en efficiëntie samen emissiereductie mogelijk maken.\n",
    "\n",
    "Binnen dit perspectief onderscheiden we twee kernargumenten:\n",
    "\n",
    "- Rijke landen produceren efficiënter en stoten minder CO₂ uit per ton voedsel\n",
    "- Hogere productie-efficiëntie verlaagt uitstoot ongeacht de productieschaal  \n",
    " \n"
   ]
  },
  {
   "attachments": {},
   "cell_type": "markdown",
   "id": "f2a16db3-1843-4bb5-aa2b-370814426e42",
   "metadata": {},
   "source": [
    "### Rijke landen produceren efficiënter en stoten minder CO₂ uit per ton voedsel"
   ]
  },
  {
   "attachments": {},
   "cell_type": "markdown",
   "id": "ef857bc4-249a-435f-bf52-41f7517da7c2",
   "metadata": {},
   "source": [
    "Door de industrialisering en technologische vooruitgang beschikken rijkere landen doorgaans over meer kapitaal voor moderne landbouwmachines, precisielandbouw en efficiënte logistiek. We koppelen het bruto binnenlands product (BBP) per hoofd aan de CO₂-uitstoot per ton geproduceerd voedsel om te zien of die toegang aan écht schonere productie bijdraagt.\n",
    "\n",
    "Historisch gezien leidde meer investeringsruimte in onderzoek & ontwikkeling tot innovatie in teeltmethoden en gewasbescherming. Zo kunnen boeren in welvarende economieën met minder meststoffen, water en land hogere opbrengsten halen, waardoor de emissie-intensiteit daalt.\n",
    "\n",
    "Dus als welvaart gelijkstaat aan toegang tot betere technologie en schaalvoordeel, verwachten we een dalende CO₂-uitstoot per ton voedsel naarmate het BBP per hoofd stijgt.\n"
   ]
  },
  {
   "cell_type": "code",
   "execution_count": 7,
   "id": "08287d81",
   "metadata": {},
   "outputs": [
    {
     "data": {
      "text/html": [
       "<div>                        <script type=\"text/javascript\">window.PlotlyConfig = {MathJaxConfig: 'local'};</script>\n",
       "        <script charset=\"utf-8\" src=\"https://cdn.plot.ly/plotly-3.0.1.min.js\"></script>                <div id=\"5c26ba98-b30a-4229-8946-5fa6a8c510d8\" class=\"plotly-graph-div\" style=\"height:100%; width:100%;\"></div>            <script type=\"text/javascript\">                window.PLOTLYENV=window.PLOTLYENV || {};                                if (document.getElementById(\"5c26ba98-b30a-4229-8946-5fa6a8c510d8\")) {                    Plotly.newPlot(                        \"5c26ba98-b30a-4229-8946-5fa6a8c510d8\",                        [{\"fill\":\"toself\",\"hovertemplate\":\"\\u003cb\\u003e%{text}\\u003c\\u002fb\\u003e\\u003cbr\\u003e%{theta}: %{r:.2f}\\u003cextra\\u003e\\u003c\\u002fextra\\u003e\",\"name\":\"Brazili\\u00eb\",\"r\":[0.32219061366739005,0.05263962920280854,0.8047057010626236,0.10944595921756822,0.32219061366739005],\"text\":[\"Brazili\\u00eb\",\"Brazili\\u00eb\",\"Brazili\\u00eb\",\"Brazili\\u00eb\",\"Brazili\\u00eb\"],\"theta\":[\"BBP_per_hoofd\",\"CO2_per_ton\",\"Productie_ton\",\"Bevolking\",\"BBP_per_hoofd\"],\"type\":\"scatterpolar\"},{\"fill\":\"toself\",\"hovertemplate\":\"\\u003cb\\u003e%{text}\\u003c\\u002fb\\u003e\\u003cbr\\u003e%{theta}: %{r:.2f}\\u003cextra\\u003e\\u003c\\u002fextra\\u003e\",\"name\":\"India\",\"r\":[0.06550110554554757,0.356022111220554,1.0,1.0,0.06550110554554757],\"text\":[\"India\",\"India\",\"India\",\"India\",\"India\"],\"theta\":[\"BBP_per_hoofd\",\"CO2_per_ton\",\"Productie_ton\",\"Bevolking\",\"BBP_per_hoofd\"],\"type\":\"scatterpolar\"},{\"fill\":\"toself\",\"hovertemplate\":\"\\u003cb\\u003e%{text}\\u003c\\u002fb\\u003e\\u003cbr\\u003e%{theta}: %{r:.2f}\\u003cextra\\u003e\\u003c\\u002fextra\\u003e\",\"name\":\"Indonesi\\u00eb\",\"r\":[0.1860167178559688,0.0,0.235393303346037,0.15913007321687417,0.1860167178559688],\"text\":[\"Indonesi\\u00eb\",\"Indonesi\\u00eb\",\"Indonesi\\u00eb\",\"Indonesi\\u00eb\",\"Indonesi\\u00eb\"],\"theta\":[\"BBP_per_hoofd\",\"CO2_per_ton\",\"Productie_ton\",\"Bevolking\",\"BBP_per_hoofd\"],\"type\":\"scatterpolar\"},{\"fill\":\"toself\",\"hovertemplate\":\"\\u003cb\\u003e%{text}\\u003c\\u002fb\\u003e\\u003cbr\\u003e%{theta}: %{r:.2f}\\u003cextra\\u003e\\u003c\\u002fextra\\u003e\",\"name\":\"Japan\",\"r\":[1.0,1.0,0.0,0.047443393873666515,1.0],\"text\":[\"Japan\",\"Japan\",\"Japan\",\"Japan\",\"Japan\"],\"theta\":[\"BBP_per_hoofd\",\"CO2_per_ton\",\"Productie_ton\",\"Bevolking\",\"BBP_per_hoofd\"],\"type\":\"scatterpolar\"},{\"fill\":\"toself\",\"hovertemplate\":\"\\u003cb\\u003e%{text}\\u003c\\u002fb\\u003e\\u003cbr\\u003e%{theta}: %{r:.2f}\\u003cextra\\u003e\\u003c\\u002fextra\\u003e\",\"name\":\"Nigeria\",\"r\":[0.0,0.0035498448394656926,0.11833343355645623,0.1160837839018898,0.0],\"text\":[\"Nigeria\",\"Nigeria\",\"Nigeria\",\"Nigeria\",\"Nigeria\"],\"theta\":[\"BBP_per_hoofd\",\"CO2_per_ton\",\"Productie_ton\",\"Bevolking\",\"BBP_per_hoofd\"],\"type\":\"scatterpolar\"},{\"fill\":\"toself\",\"hovertemplate\":\"\\u003cb\\u003e%{text}\\u003c\\u002fb\\u003e\\u003cbr\\u003e%{theta}: %{r:.2f}\\u003cextra\\u003e\\u003c\\u002fextra\\u003e\",\"name\":\"Zuid-Afrika\",\"r\":[0.210447789472175,0.561059735075223,0.009842675703391401,0.0,0.210447789472175],\"text\":[\"Zuid-Afrika\",\"Zuid-Afrika\",\"Zuid-Afrika\",\"Zuid-Afrika\",\"Zuid-Afrika\"],\"theta\":[\"BBP_per_hoofd\",\"CO2_per_ton\",\"Productie_ton\",\"Bevolking\",\"BBP_per_hoofd\"],\"type\":\"scatterpolar\"}],                        {\"template\":{\"data\":{\"histogram2dcontour\":[{\"type\":\"histogram2dcontour\",\"colorbar\":{\"outlinewidth\":0,\"ticks\":\"\"},\"colorscale\":[[0.0,\"#0d0887\"],[0.1111111111111111,\"#46039f\"],[0.2222222222222222,\"#7201a8\"],[0.3333333333333333,\"#9c179e\"],[0.4444444444444444,\"#bd3786\"],[0.5555555555555556,\"#d8576b\"],[0.6666666666666666,\"#ed7953\"],[0.7777777777777778,\"#fb9f3a\"],[0.8888888888888888,\"#fdca26\"],[1.0,\"#f0f921\"]]}],\"choropleth\":[{\"type\":\"choropleth\",\"colorbar\":{\"outlinewidth\":0,\"ticks\":\"\"}}],\"histogram2d\":[{\"type\":\"histogram2d\",\"colorbar\":{\"outlinewidth\":0,\"ticks\":\"\"},\"colorscale\":[[0.0,\"#0d0887\"],[0.1111111111111111,\"#46039f\"],[0.2222222222222222,\"#7201a8\"],[0.3333333333333333,\"#9c179e\"],[0.4444444444444444,\"#bd3786\"],[0.5555555555555556,\"#d8576b\"],[0.6666666666666666,\"#ed7953\"],[0.7777777777777778,\"#fb9f3a\"],[0.8888888888888888,\"#fdca26\"],[1.0,\"#f0f921\"]]}],\"heatmap\":[{\"type\":\"heatmap\",\"colorbar\":{\"outlinewidth\":0,\"ticks\":\"\"},\"colorscale\":[[0.0,\"#0d0887\"],[0.1111111111111111,\"#46039f\"],[0.2222222222222222,\"#7201a8\"],[0.3333333333333333,\"#9c179e\"],[0.4444444444444444,\"#bd3786\"],[0.5555555555555556,\"#d8576b\"],[0.6666666666666666,\"#ed7953\"],[0.7777777777777778,\"#fb9f3a\"],[0.8888888888888888,\"#fdca26\"],[1.0,\"#f0f921\"]]}],\"contourcarpet\":[{\"type\":\"contourcarpet\",\"colorbar\":{\"outlinewidth\":0,\"ticks\":\"\"}}],\"contour\":[{\"type\":\"contour\",\"colorbar\":{\"outlinewidth\":0,\"ticks\":\"\"},\"colorscale\":[[0.0,\"#0d0887\"],[0.1111111111111111,\"#46039f\"],[0.2222222222222222,\"#7201a8\"],[0.3333333333333333,\"#9c179e\"],[0.4444444444444444,\"#bd3786\"],[0.5555555555555556,\"#d8576b\"],[0.6666666666666666,\"#ed7953\"],[0.7777777777777778,\"#fb9f3a\"],[0.8888888888888888,\"#fdca26\"],[1.0,\"#f0f921\"]]}],\"surface\":[{\"type\":\"surface\",\"colorbar\":{\"outlinewidth\":0,\"ticks\":\"\"},\"colorscale\":[[0.0,\"#0d0887\"],[0.1111111111111111,\"#46039f\"],[0.2222222222222222,\"#7201a8\"],[0.3333333333333333,\"#9c179e\"],[0.4444444444444444,\"#bd3786\"],[0.5555555555555556,\"#d8576b\"],[0.6666666666666666,\"#ed7953\"],[0.7777777777777778,\"#fb9f3a\"],[0.8888888888888888,\"#fdca26\"],[1.0,\"#f0f921\"]]}],\"mesh3d\":[{\"type\":\"mesh3d\",\"colorbar\":{\"outlinewidth\":0,\"ticks\":\"\"}}],\"scatter\":[{\"fillpattern\":{\"fillmode\":\"overlay\",\"size\":10,\"solidity\":0.2},\"type\":\"scatter\"}],\"parcoords\":[{\"type\":\"parcoords\",\"line\":{\"colorbar\":{\"outlinewidth\":0,\"ticks\":\"\"}}}],\"scatterpolargl\":[{\"type\":\"scatterpolargl\",\"marker\":{\"colorbar\":{\"outlinewidth\":0,\"ticks\":\"\"}}}],\"bar\":[{\"error_x\":{\"color\":\"#2a3f5f\"},\"error_y\":{\"color\":\"#2a3f5f\"},\"marker\":{\"line\":{\"color\":\"#E5ECF6\",\"width\":0.5},\"pattern\":{\"fillmode\":\"overlay\",\"size\":10,\"solidity\":0.2}},\"type\":\"bar\"}],\"scattergeo\":[{\"type\":\"scattergeo\",\"marker\":{\"colorbar\":{\"outlinewidth\":0,\"ticks\":\"\"}}}],\"scatterpolar\":[{\"type\":\"scatterpolar\",\"marker\":{\"colorbar\":{\"outlinewidth\":0,\"ticks\":\"\"}}}],\"histogram\":[{\"marker\":{\"pattern\":{\"fillmode\":\"overlay\",\"size\":10,\"solidity\":0.2}},\"type\":\"histogram\"}],\"scattergl\":[{\"type\":\"scattergl\",\"marker\":{\"colorbar\":{\"outlinewidth\":0,\"ticks\":\"\"}}}],\"scatter3d\":[{\"type\":\"scatter3d\",\"line\":{\"colorbar\":{\"outlinewidth\":0,\"ticks\":\"\"}},\"marker\":{\"colorbar\":{\"outlinewidth\":0,\"ticks\":\"\"}}}],\"scattermap\":[{\"type\":\"scattermap\",\"marker\":{\"colorbar\":{\"outlinewidth\":0,\"ticks\":\"\"}}}],\"scattermapbox\":[{\"type\":\"scattermapbox\",\"marker\":{\"colorbar\":{\"outlinewidth\":0,\"ticks\":\"\"}}}],\"scatterternary\":[{\"type\":\"scatterternary\",\"marker\":{\"colorbar\":{\"outlinewidth\":0,\"ticks\":\"\"}}}],\"scattercarpet\":[{\"type\":\"scattercarpet\",\"marker\":{\"colorbar\":{\"outlinewidth\":0,\"ticks\":\"\"}}}],\"carpet\":[{\"aaxis\":{\"endlinecolor\":\"#2a3f5f\",\"gridcolor\":\"white\",\"linecolor\":\"white\",\"minorgridcolor\":\"white\",\"startlinecolor\":\"#2a3f5f\"},\"baxis\":{\"endlinecolor\":\"#2a3f5f\",\"gridcolor\":\"white\",\"linecolor\":\"white\",\"minorgridcolor\":\"white\",\"startlinecolor\":\"#2a3f5f\"},\"type\":\"carpet\"}],\"table\":[{\"cells\":{\"fill\":{\"color\":\"#EBF0F8\"},\"line\":{\"color\":\"white\"}},\"header\":{\"fill\":{\"color\":\"#C8D4E3\"},\"line\":{\"color\":\"white\"}},\"type\":\"table\"}],\"barpolar\":[{\"marker\":{\"line\":{\"color\":\"#E5ECF6\",\"width\":0.5},\"pattern\":{\"fillmode\":\"overlay\",\"size\":10,\"solidity\":0.2}},\"type\":\"barpolar\"}],\"pie\":[{\"automargin\":true,\"type\":\"pie\"}]},\"layout\":{\"autotypenumbers\":\"strict\",\"colorway\":[\"#636efa\",\"#EF553B\",\"#00cc96\",\"#ab63fa\",\"#FFA15A\",\"#19d3f3\",\"#FF6692\",\"#B6E880\",\"#FF97FF\",\"#FECB52\"],\"font\":{\"color\":\"#2a3f5f\"},\"hovermode\":\"closest\",\"hoverlabel\":{\"align\":\"left\"},\"paper_bgcolor\":\"white\",\"plot_bgcolor\":\"#E5ECF6\",\"polar\":{\"bgcolor\":\"#E5ECF6\",\"angularaxis\":{\"gridcolor\":\"white\",\"linecolor\":\"white\",\"ticks\":\"\"},\"radialaxis\":{\"gridcolor\":\"white\",\"linecolor\":\"white\",\"ticks\":\"\"}},\"ternary\":{\"bgcolor\":\"#E5ECF6\",\"aaxis\":{\"gridcolor\":\"white\",\"linecolor\":\"white\",\"ticks\":\"\"},\"baxis\":{\"gridcolor\":\"white\",\"linecolor\":\"white\",\"ticks\":\"\"},\"caxis\":{\"gridcolor\":\"white\",\"linecolor\":\"white\",\"ticks\":\"\"}},\"coloraxis\":{\"colorbar\":{\"outlinewidth\":0,\"ticks\":\"\"}},\"colorscale\":{\"sequential\":[[0.0,\"#0d0887\"],[0.1111111111111111,\"#46039f\"],[0.2222222222222222,\"#7201a8\"],[0.3333333333333333,\"#9c179e\"],[0.4444444444444444,\"#bd3786\"],[0.5555555555555556,\"#d8576b\"],[0.6666666666666666,\"#ed7953\"],[0.7777777777777778,\"#fb9f3a\"],[0.8888888888888888,\"#fdca26\"],[1.0,\"#f0f921\"]],\"sequentialminus\":[[0.0,\"#0d0887\"],[0.1111111111111111,\"#46039f\"],[0.2222222222222222,\"#7201a8\"],[0.3333333333333333,\"#9c179e\"],[0.4444444444444444,\"#bd3786\"],[0.5555555555555556,\"#d8576b\"],[0.6666666666666666,\"#ed7953\"],[0.7777777777777778,\"#fb9f3a\"],[0.8888888888888888,\"#fdca26\"],[1.0,\"#f0f921\"]],\"diverging\":[[0,\"#8e0152\"],[0.1,\"#c51b7d\"],[0.2,\"#de77ae\"],[0.3,\"#f1b6da\"],[0.4,\"#fde0ef\"],[0.5,\"#f7f7f7\"],[0.6,\"#e6f5d0\"],[0.7,\"#b8e186\"],[0.8,\"#7fbc41\"],[0.9,\"#4d9221\"],[1,\"#276419\"]]},\"xaxis\":{\"gridcolor\":\"white\",\"linecolor\":\"white\",\"ticks\":\"\",\"title\":{\"standoff\":15},\"zerolinecolor\":\"white\",\"automargin\":true,\"zerolinewidth\":2},\"yaxis\":{\"gridcolor\":\"white\",\"linecolor\":\"white\",\"ticks\":\"\",\"title\":{\"standoff\":15},\"zerolinecolor\":\"white\",\"automargin\":true,\"zerolinewidth\":2},\"scene\":{\"xaxis\":{\"backgroundcolor\":\"#E5ECF6\",\"gridcolor\":\"white\",\"linecolor\":\"white\",\"showbackground\":true,\"ticks\":\"\",\"zerolinecolor\":\"white\",\"gridwidth\":2},\"yaxis\":{\"backgroundcolor\":\"#E5ECF6\",\"gridcolor\":\"white\",\"linecolor\":\"white\",\"showbackground\":true,\"ticks\":\"\",\"zerolinecolor\":\"white\",\"gridwidth\":2},\"zaxis\":{\"backgroundcolor\":\"#E5ECF6\",\"gridcolor\":\"white\",\"linecolor\":\"white\",\"showbackground\":true,\"ticks\":\"\",\"zerolinecolor\":\"white\",\"gridwidth\":2}},\"shapedefaults\":{\"line\":{\"color\":\"#2a3f5f\"}},\"annotationdefaults\":{\"arrowcolor\":\"#2a3f5f\",\"arrowhead\":0,\"arrowwidth\":1},\"geo\":{\"bgcolor\":\"white\",\"landcolor\":\"#E5ECF6\",\"subunitcolor\":\"white\",\"showland\":true,\"showlakes\":true,\"lakecolor\":\"white\"},\"title\":{\"x\":0.05},\"mapbox\":{\"style\":\"light\"}}},\"polar\":{\"radialaxis\":{\"visible\":true,\"range\":[0,1],\"tickvals\":[0,0.25,0.5,0.75,1]}},\"title\":{\"text\":\"Internationale vergelijking: BBP, uitstoot & landbouwproductie (genormaliseerd)\"},\"showlegend\":true,\"legend\":{\"title\":{\"text\":\"Land\"}}},                        {\"responsive\": true}                    )                };            </script>        </div>"
      ],
      "text/plain": [
       "<IPython.core.display.HTML object>"
      ]
     },
     "metadata": {},
     "output_type": "display_data"
    }
   ],
   "source": [
    "import pandas as pd\n",
    "import numpy as np\n",
    "import plotly.graph_objects as go\n",
    "import plotly.io as pio\n",
    "from IPython.display import HTML, display\n",
    "\n",
    "# Renderer voor inline weergave\n",
    "pio.renderers.default = 'notebook'  # of 'jupyterlab'\n",
    "\n",
    "# ——————————————————————————————\n",
    "# 1) DATA INLADEN & SAMENSTELLEN\n",
    "# ——————————————————————————————\n",
    "emissions_df  = pd.read_csv('Emissions_Agriculture_Energy_E_All_Data.csv', encoding='latin1')\n",
    "production_df = pd.read_csv('Production_Crops_Livestock_E_All_Data.csv', encoding='latin1', low_memory=False)\n",
    "gdp_df        = pd.read_csv('gdp-per-capita-worldbank.csv')\n",
    "co2_df        = pd.read_csv('owid-co2-data.csv')\n",
    "\n",
    "# CO₂ 2021 per land (kt)\n",
    "em2021 = (\n",
    "    emissions_df\n",
    "    .query(\"Item=='Total Energy' and Element=='Emissions (CO2)' and Unit=='kt'\")\n",
    "    [['Area','Y2021']]\n",
    "    .rename(columns={'Area':'Land','Y2021':'CO2_uitstoot_kt'})\n",
    ")\n",
    "em2021['CO2_uitstoot_kt'] = pd.to_numeric(em2021['CO2_uitstoot_kt'], errors='coerce')\n",
    "\n",
    "# Landbouwproductie 2021 (t → ton)\n",
    "prod2021 = (\n",
    "    production_df\n",
    "    .query(\"Element=='Production' and Unit=='t'\")\n",
    "    .groupby('Area')['Y2021'].sum()\n",
    "    .reset_index()\n",
    "    .rename(columns={'Area':'Land','Y2021':'Productie_ton'})\n",
    ")\n",
    "prod2021['Productie_ton'] = pd.to_numeric(prod2021['Productie_ton'], errors='coerce')\n",
    "\n",
    "# BBP per hoofd 2021\n",
    "gdp2021 = (\n",
    "    gdp_df\n",
    "    .query(\"Year==2021\")\n",
    "    .rename(columns={\n",
    "        'Entity':'Land',\n",
    "        'GDP per capita, PPP (constant 2021 international $)':'BBP_per_hoofd'\n",
    "    })[['Land','BBP_per_hoofd']]\n",
    ")\n",
    "gdp2021['BBP_per_hoofd'] = pd.to_numeric(gdp2021['BBP_per_hoofd'], errors='coerce')\n",
    "\n",
    "# Bevolking 2021\n",
    "pop2021 = (\n",
    "    co2_df\n",
    "    .query(\"year==2021\")\n",
    "    [['country','population']]\n",
    "    .rename(columns={'country':'Land','population':'Bevolking'})\n",
    ")\n",
    "pop2021['Bevolking'] = pd.to_numeric(pop2021['Bevolking'], errors='coerce')\n",
    "\n",
    "# Merge & bereken CO2_per_ton\n",
    "df = (\n",
    "    em2021\n",
    "    .merge(prod2021,  on='Land')\n",
    "    .assign(\n",
    "        CO2_per_ton=lambda d: d['CO2_uitstoot_kt']*1000/d['Productie_ton']\n",
    "    )\n",
    "    .merge(gdp2021,    on='Land')\n",
    "    .merge(pop2021,    on='Land')\n",
    "    .dropna()\n",
    ")\n",
    "\n",
    "# Selectie en vertaling\n",
    "landen_map = {\n",
    "    'Brazil':'Brazilië','India':'India','Indonesia':'Indonesië',\n",
    "    'Japan':'Japan','Nigeria':'Nigeria','South Africa':'Zuid-Afrika',\n",
    "    'United States':'Verenigde Staten'\n",
    "}\n",
    "df_sel = df[df['Land'].isin(landen_map)].copy()\n",
    "df_sel['land_naam'] = df_sel['Land'].map(landen_map)\n",
    "\n",
    "# Normaliseren\n",
    "cols = ['BBP_per_hoofd','CO2_per_ton','Productie_ton','Bevolking']\n",
    "df_norm = df_sel.copy()\n",
    "for c in cols:\n",
    "    mn, mx = df_norm[c].min(), df_norm[c].max()\n",
    "    df_norm[c] = (df_norm[c]-mn)/(mx-mn)\n",
    "\n",
    "# ——————————————————————————————\n",
    "# 2) INTERACTIEVE RADAR CHART MET PLOTLY\n",
    "# ——————————————————————————————\n",
    "categories = cols\n",
    "fig = go.Figure()\n",
    "\n",
    "# Voeg per land één polar-plot\n",
    "for i, row in df_norm.iterrows():\n",
    "    vals = row[categories].tolist()\n",
    "    vals += vals[:1]  # sluit de cirkel\n",
    "    fig.add_trace(go.Scatterpolar(\n",
    "        r=vals,\n",
    "        theta=categories + [categories[0]],\n",
    "        fill='toself',\n",
    "        name=row['land_naam'],\n",
    "        hovertemplate='<b>%{text}</b><br>' +\n",
    "                      '%{theta}: %{r:.2f}<extra></extra>',\n",
    "        text=[row['land_naam']]*len(vals)\n",
    "    ))\n",
    "\n",
    "fig.update_layout(\n",
    "    polar=dict(\n",
    "        radialaxis=dict(\n",
    "            visible=True,\n",
    "            range=[0,1],\n",
    "            tickvals=[0,0.25,0.5,0.75,1]\n",
    "        )\n",
    "    ),\n",
    "    title='Internationale vergelijking: BBP, uitstoot & landbouwproductie (genormaliseerd)',\n",
    "    showlegend=True,\n",
    "    legend=dict(title='Land')\n",
    ")\n",
    "\n",
    "# ——————————————————————————————\n",
    "# 3) INLINE RENDEREN ZONDER HTML/JS TE TONEN\n",
    "# ——————————————————————————————\n",
    "html_snippet = fig.to_html(include_plotlyjs='cdn', full_html=False)\n",
    "display(HTML(html_snippet))\n"
   ]
  },
  {
   "cell_type": "code",
   "execution_count": 2,
   "id": "8189a269-c0cf-4fb7-9113-ef21c281a5b9",
   "metadata": {},
   "outputs": [
    {
     "data": {
      "image/png": "[encoded data removed]",
      "text/plain": [
       "<Figure size 900x500 with 1 Axes>"
      ]
     },
     "metadata": {},
     "output_type": "display_data"
    }
   ],
   "source": [
    "import pandas as pd\n",
    "import matplotlib.pyplot as plt\n",
    "\n",
    "gdp_df = pd.read_csv('gdp-per-capita-worldbank.csv')\n",
    "\n",
    "gdp_2021 = gdp_df[gdp_df['Year'] == 2021][['Entity', 'GDP per capita, PPP (constant 2021 international $)']]\n",
    "gdp_2021.columns = ['Land_eng', 'BBP_per_hoofd']\n",
    "gdp_2021 = gdp_2021.dropna()\n",
    "\n",
    "def bepaal_inkomensgroep(bbp):\n",
    "    if bbp < 6000:\n",
    "        return 'Laag'\n",
    "    elif bbp < 10000:\n",
    "        return 'Laag-Midden'\n",
    "    elif bbp < 20000:\n",
    "        return 'Midden'\n",
    "    elif bbp < 40000:\n",
    "        return 'Hoog-Midden'\n",
    "    else:\n",
    "        return 'Hoog'\n",
    "\n",
    "gdp_2021['Inkomensgroep'] = gdp_2021['BBP_per_hoofd'].apply(bepaal_inkomensgroep)\n",
    "\n",
    "vertaling_landen = {\n",
    "    'India': 'India',\n",
    "    'Japan': 'Japan',\n",
    "    'Brazil': 'Brazilië',\n",
    "    'South Africa': 'Zuid-Afrika',\n",
    "    'Indonesia': 'Indonesië',\n",
    "    'Nigeria': 'Nigeria'\n",
    "}\n",
    "\n",
    "landen_eng = list(vertaling_landen.keys())\n",
    "gdp_2021 = gdp_2021[gdp_2021['Land_eng'].isin(landen_eng)].copy()\n",
    "gdp_2021['Land'] = gdp_2021['Land_eng'].map(vertaling_landen)\n",
    "\n",
    "kleuren = {\n",
    "    'Laag': '#3B6C87',\n",
    "    'Laag-Midden': '#6094AA',\n",
    "    'Midden': '#87BCD9',\n",
    "    'Hoog-Midden': '#A3D8F4',\n",
    "    'Hoog': '#C7EEF9'\n",
    "}\n",
    "bar_kleuren = [kleuren[groep] for groep in gdp_2021['Inkomensgroep']]\n",
    "\n",
    "plt.figure(figsize=(9, 5))\n",
    "balken = plt.bar(gdp_2021['Land'], gdp_2021['BBP_per_hoofd'], color=bar_kleuren, edgecolor='gray')\n",
    "\n",
    "for balk, groep in zip(balken, gdp_2021['Inkomensgroep']):\n",
    "    plt.text(balk.get_x() + balk.get_width()/2, balk.get_height() + 500,\n",
    "             groep, ha='center', fontsize=10, color='black')\n",
    "\n",
    "plt.ylabel('BBP per hoofd (2021)', fontsize=11)\n",
    "plt.title('Inkomensgroepen van geselecteerde landen', fontsize=13)\n",
    "plt.xticks(rotation=45)\n",
    "plt.tight_layout()\n",
    "plt.show()"
   ]
  },
  {
   "attachments": {},
   "cell_type": "markdown",
   "id": "266e712d",
   "metadata": {},
   "source": [
    "##### Waarom deze landen?\n",
    "\n",
    "De geselecteerde landen (India, Japan, Brazilië, Zuid-Afrika, Indonesië en Nigeria) zijn gekozen om twee redenen. Ten eerste vertegenwoordigen ze verschillende inkomensgroepen, van laag (Nigeria) tot hoog (Japan), wat het mogelijk maakt om de relatie tussen economische welvaart en efficiëntie in voedselproductie te onderzoeken. Ten tweede verschillen ze sterk in CO₂-uitstoot per ton voedsel en productiviteit. Hierdoor kunnen zowel algemene trends als opvallende afwijkingen goed zichtbaar worden gemaakt.\n"
   ]
  },
  {
   "attachments": {},
   "cell_type": "markdown",
   "id": "07e3cf82-73e7-4efa-a48b-2bdbcf73a02c",
   "metadata": {},
   "source": [
    "##### Analyse: Economische rijkdom versus CO₂-intensiteit\n",
    "\n",
    "India – Laag BBP, lage emissie-intensiteit </br>\n",
    "India heeft met ongeveer \\$2 500 BBP per hoofd het laagste welvaartsniveau in de vergelijking, maar de radardiagram plaatst het dicht bij de binnenrand op de CO₂-per-ton-as. Traditionele irrigatie, lage kunstmesttoepassing en grootschalige, arbeidsintensieve rijst- en tarweteelt drukken de emissie-intensiteit. Grote productievolumes (hoge positie op de productie-as) en de enorme bevolking (volgens de bevolking-as) benadrukken dat lage technologieniveaus niet per se leiden tot vervuilende landbouw.\n",
    "\n",
    "Japan – Hoog BBP, hoge emissie-intensiteit  </br>\n",
    "Met ruim \\$40 000 BBP per hoofd voert Japan de welvaartslijst aan, maar scoort ook extreem hoog op de CO₂-per-ton-as. Krappe akkergrond en intensieve kassen-, veeteelt- en importafhankelijke voederketens dwingen tot veel kunstlicht, warmte en transport. Daardoor schuift het radardiagram Japan ver naar de rand op de emissie-as, ondanks lage productievolumes en een beperkte landbouwbevolking.\n",
    "\n",
    "Brazilië – Gemiddeld BBP, middelhoog emissieniveau </br>\n",
    "Brazilië combineert een BBP rond \\$9 000 met een relatief bescheiden CO₂-per-ton-score in het radardiagram. De afwezigheid van vorst en het ontbreken van kassen verlagen de productiekosten, terwijl grootschalige soja- en vleesproductie efficiënte opbrengsten biedt. Ontbossing voor landbouwgrond brengt wel extra CO₂-uitstoot buiten de kassen om, wat de emissiepositie iets omhoog haalt.\n",
    "\n",
    "Zuid-Afrika – Middeninkomen en gemiddelde emissie  </br>\n",
    "Zuid-Afrika draait op zo’n \\$6 000 BBP per hoofd en ligt in het midden van alle assen. De balans tussen exportgerichte fruit- en wijnbouw, kleinschalige maïsteelt en matige modernisering resulteert in gemiddelde CO₂-per-ton-waarden. Het radardiagram toont een nagenoeg symmetrisch profiel: geen uitschieters naar boven of onder.\n",
    "\n",
    "Indonesië – Groeiend BBP, matige efficiëntie</br>\n",
    "Met circa \\$4 000 BBP per hoofd scoort Indonesië iets hoger dan India, maar de CO₂-per-ton-as blijft middelhoog. Plantaardige oliegewassen en kleinschalige palmolieplantages leveren gematigde productievolumes en emissies. Technologische adoptie blijft beperkt, wat zich vertaalt in een gelijkmatig maar niet uitzonderlijk radardiagram.\n",
    "\n",
    "Nigeria – Laag BBP, lage productie en emissie</br>\n",
    "Nigeria rondt de lijst af met ongeveer \\$2 400 BBP per hoofd en scoort laag op alle assen. De geringe mechanisatie en kleinschalige rijst- en maniokteelt beperken zowel productie- als emissiecijfers. De lage CO₂-per-ton-waarde volgt vooral uit de kleine volumes, waardoor de echte efficiëntie moeilijk te beoordelen is.\n"
   ]
  },
  {
   "attachments": {},
   "cell_type": "markdown",
   "id": "ed27695a-d523-47d9-bff0-066aa98d9f7e",
   "metadata": {},
   "source": [
    "### Productie-efficiëntie zorgt voor minder uitstoot per ton voedsel"
   ]
  },
  {
   "attachments": {},
   "cell_type": "markdown",
   "id": "79401838-92aa-4fba-8ef5-68518ec56fac",
   "metadata": {},
   "source": [
    "Met deze visualisatie onderzoeken we of landen die efficiënter produceren (meer voedsel per hectare) ook minder CO₂ uitstoten per geproduceerde ton. De verwachting is dat hogere efficiëntie leidt tot minder uitstoot en dus duurzamere voedselproductie."
   ]
  },
  {
   "cell_type": "code",
   "execution_count": 3,
   "id": "1bfbd3dd-e05a-485d-80ab-3bdda6fa47ad",
   "metadata": {},
   "outputs": [
    {
     "data": {
      "application/vnd.plotly.v1+json": {
       "config": {
        "plotlyServerURL": "https://plot.ly"
       },
       "data": [
        {
         "customdata": [
          [
           2015,
           "Laag"
          ]
         ],
         "hovertemplate": "<b>%{hovertext}</b><br><br>Inkomensgroep=%{customdata[1]}<br>Jaar=%{customdata[0]}<br>Productie per hectare (ton/ha)=%{x}<br>CO₂-uitstoot per ton voedsel (kg)=%{y}<br>Grootte=%{marker.size}<extra></extra>",
         "hovertext": [
          "Nigeria"
         ],
         "legendgroup": "Laag",
         "marker": {
          "color": "#3B6C87",
          "size": {
           "bdata": "AQ==",
           "dtype": "i1"
          },
          "sizemode": "area",
          "sizeref": 0.01,
          "symbol": "circle"
         },
         "mode": "markers",
         "name": "Laag",
         "orientation": "v",
         "showlegend": true,
         "type": "scatter",
         "x": {
          "bdata": "GIJLBGsICkA=",
          "dtype": "f8"
         },
         "xaxis": "x",
         "y": {
          "bdata": "3I6XLOLd0z8=",
          "dtype": "f8"
         },
         "yaxis": "y"
        },
        {
         "customdata": [
          [
           2015,
           "Laag-Midden"
          ]
         ],
         "hovertemplate": "<b>%{hovertext}</b><br><br>Inkomensgroep=%{customdata[1]}<br>Jaar=%{customdata[0]}<br>Productie per hectare (ton/ha)=%{x}<br>CO₂-uitstoot per ton voedsel (kg)=%{y}<br>Grootte=%{marker.size}<extra></extra>",
         "hovertext": [
          "India"
         ],
         "legendgroup": "Laag-Midden",
         "marker": {
          "color": "#6094AA",
          "size": {
           "bdata": "AQ==",
           "dtype": "i1"
          },
          "sizemode": "area",
          "sizeref": 0.01,
          "symbol": "circle"
         },
         "mode": "markers",
         "name": "Laag-Midden",
         "orientation": "v",
         "showlegend": true,
         "type": "scatter",
         "x": {
          "bdata": "oUq31EfkFUA=",
          "dtype": "f8"
         },
         "xaxis": "x",
         "y": {
          "bdata": "qIffLYOv7T8=",
          "dtype": "f8"
         },
         "yaxis": "y"
        },
        {
         "customdata": [
          [
           2015,
           "Midden"
          ],
          [
           2015,
           "Midden"
          ],
          [
           2015,
           "Midden"
          ]
         ],
         "hovertemplate": "<b>%{hovertext}</b><br><br>Inkomensgroep=%{customdata[1]}<br>Jaar=%{customdata[0]}<br>Productie per hectare (ton/ha)=%{x}<br>CO₂-uitstoot per ton voedsel (kg)=%{y}<br>Grootte=%{marker.size}<extra></extra>",
         "hovertext": [
          "Brazilië",
          "Indonesië",
          "Zuid-Afrika"
         ],
         "legendgroup": "Midden",
         "marker": {
          "color": "#87BCD9",
          "size": {
           "bdata": "AQEB",
           "dtype": "i1"
          },
          "sizemode": "area",
          "sizeref": 0.01,
          "symbol": "circle"
         },
         "mode": "markers",
         "name": "Midden",
         "orientation": "v",
         "showlegend": true,
         "type": "scatter",
         "x": {
          "bdata": "tzOaZJ8iKUAYrozrPOgcQPPTNqvWZSBA",
          "dtype": "f8"
         },
         "xaxis": "x",
         "y": {
          "bdata": "7k6qMVPszD84z9ifz6TrP47ir19Vpg9A",
          "dtype": "f8"
         },
         "yaxis": "y"
        },
        {
         "customdata": [
          [
           2015,
           "Hoog"
          ]
         ],
         "hovertemplate": "<b>%{hovertext}</b><br><br>Inkomensgroep=%{customdata[1]}<br>Jaar=%{customdata[0]}<br>Productie per hectare (ton/ha)=%{x}<br>CO₂-uitstoot per ton voedsel (kg)=%{y}<br>Grootte=%{marker.size}<extra></extra>",
         "hovertext": [
          "Japan"
         ],
         "legendgroup": "Hoog",
         "marker": {
          "color": "#C7EEF9",
          "size": {
           "bdata": "AQ==",
           "dtype": "i1"
          },
          "sizemode": "area",
          "sizeref": 0.01,
          "symbol": "circle"
         },
         "mode": "markers",
         "name": "Hoog",
         "orientation": "v",
         "showlegend": true,
         "type": "scatter",
         "x": {
          "bdata": "DSOotfoLMkA=",
          "dtype": "f8"
         },
         "xaxis": "x",
         "y": {
          "bdata": "rkyw4bg+JkA=",
          "dtype": "f8"
         },
         "yaxis": "y"
        }
       ],
       "frames": [
        {
         "data": [
          {
           "customdata": [
            [
             2015,
             "Laag"
            ]
           ],
           "hovertemplate": "<b>%{hovertext}</b><br><br>Inkomensgroep=%{customdata[1]}<br>Jaar=%{customdata[0]}<br>Productie per hectare (ton/ha)=%{x}<br>CO₂-uitstoot per ton voedsel (kg)=%{y}<br>Grootte=%{marker.size}<extra></extra>",
           "hovertext": [
            "Nigeria"
           ],
           "legendgroup": "Laag",
           "marker": {
            "color": "#3B6C87",
            "size": {
             "bdata": "AQ==",
             "dtype": "i1"
            },
            "sizemode": "area",
            "sizeref": 0.01,
            "symbol": "circle"
           },
           "mode": "markers",
           "name": "Laag",
           "orientation": "v",
           "showlegend": true,
           "type": "scatter",
           "x": {
            "bdata": "GIJLBGsICkA=",
            "dtype": "f8"
           },
           "xaxis": "x",
           "y": {
            "bdata": "3I6XLOLd0z8=",
            "dtype": "f8"
           },
           "yaxis": "y"
          },
          {
           "customdata": [
            [
             2015,
             "Laag-Midden"
            ]
           ],
           "hovertemplate": "<b>%{hovertext}</b><br><br>Inkomensgroep=%{customdata[1]}<br>Jaar=%{customdata[0]}<br>Productie per hectare (ton/ha)=%{x}<br>CO₂-uitstoot per ton voedsel (kg)=%{y}<br>Grootte=%{marker.size}<extra></extra>",
           "hovertext": [
            "India"
           ],
           "legendgroup": "Laag-Midden",
           "marker": {
            "color": "#6094AA",
            "size": {
             "bdata": "AQ==",
             "dtype": "i1"
            },
            "sizemode": "area",
            "sizeref": 0.01,
            "symbol": "circle"
           },
           "mode": "markers",
           "name": "Laag-Midden",
           "orientation": "v",
           "showlegend": true,
           "type": "scatter",
           "x": {
            "bdata": "oUq31EfkFUA=",
            "dtype": "f8"
           },
           "xaxis": "x",
           "y": {
            "bdata": "qIffLYOv7T8=",
            "dtype": "f8"
           },
           "yaxis": "y"
          },
          {
           "customdata": [
            [
             2015,
             "Midden"
            ],
            [
             2015,
             "Midden"
            ],
            [
             2015,
             "Midden"
            ]
           ],
           "hovertemplate": "<b>%{hovertext}</b><br><br>Inkomensgroep=%{customdata[1]}<br>Jaar=%{customdata[0]}<br>Productie per hectare (ton/ha)=%{x}<br>CO₂-uitstoot per ton voedsel (kg)=%{y}<br>Grootte=%{marker.size}<extra></extra>",
           "hovertext": [
            "Brazilië",
            "Indonesië",
            "Zuid-Afrika"
           ],
           "legendgroup": "Midden",
           "marker": {
            "color": "#87BCD9",
            "size": {
             "bdata": "AQEB",
             "dtype": "i1"
            },
            "sizemode": "area",
            "sizeref": 0.01,
            "symbol": "circle"
           },
           "mode": "markers",
           "name": "Midden",
           "orientation": "v",
           "showlegend": true,
           "type": "scatter",
           "x": {
            "bdata": "tzOaZJ8iKUAYrozrPOgcQPPTNqvWZSBA",
            "dtype": "f8"
           },
           "xaxis": "x",
           "y": {
            "bdata": "7k6qMVPszD84z9ifz6TrP47ir19Vpg9A",
            "dtype": "f8"
           },
           "yaxis": "y"
          },
          {
           "customdata": [
            [
             2015,
             "Hoog"
            ]
           ],
           "hovertemplate": "<b>%{hovertext}</b><br><br>Inkomensgroep=%{customdata[1]}<br>Jaar=%{customdata[0]}<br>Productie per hectare (ton/ha)=%{x}<br>CO₂-uitstoot per ton voedsel (kg)=%{y}<br>Grootte=%{marker.size}<extra></extra>",
           "hovertext": [
            "Japan"
           ],
           "legendgroup": "Hoog",
           "marker": {
            "color": "#C7EEF9",
            "size": {
             "bdata": "AQ==",
             "dtype": "i1"
            },
            "sizemode": "area",
            "sizeref": 0.01,
            "symbol": "circle"
           },
           "mode": "markers",
           "name": "Hoog",
           "orientation": "v",
           "showlegend": true,
           "type": "scatter",
           "x": {
            "bdata": "DSOotfoLMkA=",
            "dtype": "f8"
           },
           "xaxis": "x",
           "y": {
            "bdata": "rkyw4bg+JkA=",
            "dtype": "f8"
           },
           "yaxis": "y"
          }
         ],
         "name": "2015"
        },
        {
         "data": [
          {
           "customdata": [
            [
             2016,
             "Laag"
            ]
           ],
           "hovertemplate": "<b>%{hovertext}</b><br><br>Inkomensgroep=%{customdata[1]}<br>Jaar=%{customdata[0]}<br>Productie per hectare (ton/ha)=%{x}<br>CO₂-uitstoot per ton voedsel (kg)=%{y}<br>Grootte=%{marker.size}<extra></extra>",
           "hovertext": [
            "Nigeria"
           ],
           "legendgroup": "Laag",
           "marker": {
            "color": "#3B6C87",
            "size": {
             "bdata": "AQ==",
             "dtype": "i1"
            },
            "sizemode": "area",
            "sizeref": 0.01,
            "symbol": "circle"
           },
           "mode": "markers",
           "name": "Laag",
           "orientation": "v",
           "showlegend": true,
           "type": "scatter",
           "x": {
            "bdata": "vknurn36CkA=",
            "dtype": "f8"
           },
           "xaxis": "x",
           "y": {
            "bdata": "h1a/wa3F0z8=",
            "dtype": "f8"
           },
           "yaxis": "y"
          },
          {
           "customdata": [
            [
             2016,
             "Laag-Midden"
            ]
           ],
           "hovertemplate": "<b>%{hovertext}</b><br><br>Inkomensgroep=%{customdata[1]}<br>Jaar=%{customdata[0]}<br>Productie per hectare (ton/ha)=%{x}<br>CO₂-uitstoot per ton voedsel (kg)=%{y}<br>Grootte=%{marker.size}<extra></extra>",
           "hovertext": [
            "India"
           ],
           "legendgroup": "Laag-Midden",
           "marker": {
            "color": "#6094AA",
            "size": {
             "bdata": "AQ==",
             "dtype": "i1"
            },
            "sizemode": "area",
            "sizeref": 0.01,
            "symbol": "circle"
           },
           "mode": "markers",
           "name": "Laag-Midden",
           "orientation": "v",
           "showlegend": true,
           "type": "scatter",
           "x": {
            "bdata": "f2z+nUkPFkA=",
            "dtype": "f8"
           },
           "xaxis": "x",
           "y": {
            "bdata": "um4PmeTq7j8=",
            "dtype": "f8"
           },
           "yaxis": "y"
          },
          {
           "customdata": [
            [
             2016,
             "Midden"
            ],
            [
             2016,
             "Midden"
            ],
            [
             2016,
             "Midden"
            ]
           ],
           "hovertemplate": "<b>%{hovertext}</b><br><br>Inkomensgroep=%{customdata[1]}<br>Jaar=%{customdata[0]}<br>Productie per hectare (ton/ha)=%{x}<br>CO₂-uitstoot per ton voedsel (kg)=%{y}<br>Grootte=%{marker.size}<extra></extra>",
           "hovertext": [
            "Brazilië",
            "Indonesië",
            "Zuid-Afrika"
           ],
           "legendgroup": "Midden",
           "marker": {
            "color": "#87BCD9",
            "size": {
             "bdata": "AQEB",
             "dtype": "i1"
            },
            "sizemode": "area",
            "sizeref": 0.01,
            "symbol": "circle"
           },
           "mode": "markers",
           "name": "Midden",
           "orientation": "v",
           "showlegend": true,
           "type": "scatter",
           "x": {
            "bdata": "9l9yYFALKUB31ZASkPUbQN5uM2c2KiJA",
            "dtype": "f8"
           },
           "xaxis": "x",
           "y": {
            "bdata": "+qCBoHkQyz8+14i2n/frPwKb5ho8TxFA",
            "dtype": "f8"
           },
           "yaxis": "y"
          },
          {
           "customdata": [
            [
             2016,
             "Hoog"
            ]
           ],
           "hovertemplate": "<b>%{hovertext}</b><br><br>Inkomensgroep=%{customdata[1]}<br>Jaar=%{customdata[0]}<br>Productie per hectare (ton/ha)=%{x}<br>CO₂-uitstoot per ton voedsel (kg)=%{y}<br>Grootte=%{marker.size}<extra></extra>",
           "hovertext": [
            "Japan"
           ],
           "legendgroup": "Hoog",
           "marker": {
            "color": "#C7EEF9",
            "size": {
             "bdata": "AQ==",
             "dtype": "i1"
            },
            "sizemode": "area",
            "sizeref": 0.01,
            "symbol": "circle"
           },
           "mode": "markers",
           "name": "Hoog",
           "orientation": "v",
           "showlegend": true,
           "type": "scatter",
           "x": {
            "bdata": "f0aJx7PTMUA=",
            "dtype": "f8"
           },
           "xaxis": "x",
           "y": {
            "bdata": "xPzoMA89JkA=",
            "dtype": "f8"
           },
           "yaxis": "y"
          }
         ],
         "name": "2016"
        },
        {
         "data": [
          {
           "customdata": [
            [
             2017,
             "Laag"
            ]
           ],
           "hovertemplate": "<b>%{hovertext}</b><br><br>Inkomensgroep=%{customdata[1]}<br>Jaar=%{customdata[0]}<br>Productie per hectare (ton/ha)=%{x}<br>CO₂-uitstoot per ton voedsel (kg)=%{y}<br>Grootte=%{marker.size}<extra></extra>",
           "hovertext": [
            "Nigeria"
           ],
           "legendgroup": "Laag",
           "marker": {
            "color": "#3B6C87",
            "size": {
             "bdata": "AQ==",
             "dtype": "i1"
            },
            "sizemode": "area",
            "sizeref": 0.01,
            "symbol": "circle"
           },
           "mode": "markers",
           "name": "Laag",
           "orientation": "v",
           "showlegend": true,
           "type": "scatter",
           "x": {
            "bdata": "Zdd1tP9vCkA=",
            "dtype": "f8"
           },
           "xaxis": "x",
           "y": {
            "bdata": "000zKo+v0j8=",
            "dtype": "f8"
           },
           "yaxis": "y"
          },
          {
           "customdata": [
            [
             2017,
             "Laag-Midden"
            ]
           ],
           "hovertemplate": "<b>%{hovertext}</b><br><br>Inkomensgroep=%{customdata[1]}<br>Jaar=%{customdata[0]}<br>Productie per hectare (ton/ha)=%{x}<br>CO₂-uitstoot per ton voedsel (kg)=%{y}<br>Grootte=%{marker.size}<extra></extra>",
           "hovertext": [
            "India"
           ],
           "legendgroup": "Laag-Midden",
           "marker": {
            "color": "#6094AA",
            "size": {
             "bdata": "AQ==",
             "dtype": "i1"
            },
            "sizemode": "area",
            "sizeref": 0.01,
            "symbol": "circle"
           },
           "mode": "markers",
           "name": "Laag-Midden",
           "orientation": "v",
           "showlegend": true,
           "type": "scatter",
           "x": {
            "bdata": "2dG6I5dsFUA=",
            "dtype": "f8"
           },
           "xaxis": "x",
           "y": {
            "bdata": "7B2ULlmt7z8=",
            "dtype": "f8"
           },
           "yaxis": "y"
          },
          {
           "customdata": [
            [
             2017,
             "Midden"
            ],
            [
             2017,
             "Midden"
            ],
            [
             2017,
             "Midden"
            ]
           ],
           "hovertemplate": "<b>%{hovertext}</b><br><br>Inkomensgroep=%{customdata[1]}<br>Jaar=%{customdata[0]}<br>Productie per hectare (ton/ha)=%{x}<br>CO₂-uitstoot per ton voedsel (kg)=%{y}<br>Grootte=%{marker.size}<extra></extra>",
           "hovertext": [
            "Brazilië",
            "Indonesië",
            "Zuid-Afrika"
           ],
           "legendgroup": "Midden",
           "marker": {
            "color": "#87BCD9",
            "size": {
             "bdata": "AQEB",
             "dtype": "i1"
            },
            "sizemode": "area",
            "sizeref": 0.01,
            "symbol": "circle"
           },
           "mode": "markers",
           "name": "Midden",
           "orientation": "v",
           "showlegend": true,
           "type": "scatter",
           "x": {
            "bdata": "9Gal5TodKUBYbOYAzl4dQOM9x2JxyCNA",
            "dtype": "f8"
           },
           "xaxis": "x",
           "y": {
            "bdata": "9M5Dm4Npyj9Ky9YjrznqP52CdYvopQpA",
            "dtype": "f8"
           },
           "yaxis": "y"
          },
          {
           "customdata": [
            [
             2017,
             "Hoog"
            ]
           ],
           "hovertemplate": "<b>%{hovertext}</b><br><br>Inkomensgroep=%{customdata[1]}<br>Jaar=%{customdata[0]}<br>Productie per hectare (ton/ha)=%{x}<br>CO₂-uitstoot per ton voedsel (kg)=%{y}<br>Grootte=%{marker.size}<extra></extra>",
           "hovertext": [
            "Japan"
           ],
           "legendgroup": "Hoog",
           "marker": {
            "color": "#C7EEF9",
            "size": {
             "bdata": "AQ==",
             "dtype": "i1"
            },
            "sizemode": "area",
            "sizeref": 0.01,
            "symbol": "circle"
           },
           "mode": "markers",
           "name": "Hoog",
           "orientation": "v",
           "showlegend": true,
           "type": "scatter",
           "x": {
            "bdata": "yay2CncUMkA=",
            "dtype": "f8"
           },
           "xaxis": "x",
           "y": {
            "bdata": "EyqYSZ/IJUA=",
            "dtype": "f8"
           },
           "yaxis": "y"
          }
         ],
         "name": "2017"
        },
        {
         "data": [
          {
           "customdata": [
            [
             2018,
             "Laag"
            ]
           ],
           "hovertemplate": "<b>%{hovertext}</b><br><br>Inkomensgroep=%{customdata[1]}<br>Jaar=%{customdata[0]}<br>Productie per hectare (ton/ha)=%{x}<br>CO₂-uitstoot per ton voedsel (kg)=%{y}<br>Grootte=%{marker.size}<extra></extra>",
           "hovertext": [
            "Nigeria"
           ],
           "legendgroup": "Laag",
           "marker": {
            "color": "#3B6C87",
            "size": {
             "bdata": "AQ==",
             "dtype": "i1"
            },
            "sizemode": "area",
            "sizeref": 0.01,
            "symbol": "circle"
           },
           "mode": "markers",
           "name": "Laag",
           "orientation": "v",
           "showlegend": true,
           "type": "scatter",
           "x": {
            "bdata": "FGQCim6vC0A=",
            "dtype": "f8"
           },
           "xaxis": "x",
           "y": {
            "bdata": "AfThavO30D8=",
            "dtype": "f8"
           },
           "yaxis": "y"
          },
          {
           "customdata": [
            [
             2018,
             "Laag-Midden"
            ]
           ],
           "hovertemplate": "<b>%{hovertext}</b><br><br>Inkomensgroep=%{customdata[1]}<br>Jaar=%{customdata[0]}<br>Productie per hectare (ton/ha)=%{x}<br>CO₂-uitstoot per ton voedsel (kg)=%{y}<br>Grootte=%{marker.size}<extra></extra>",
           "hovertext": [
            "India"
           ],
           "legendgroup": "Laag-Midden",
           "marker": {
            "color": "#6094AA",
            "size": {
             "bdata": "AQ==",
             "dtype": "i1"
            },
            "sizemode": "area",
            "sizeref": 0.01,
            "symbol": "circle"
           },
           "mode": "markers",
           "name": "Laag-Midden",
           "orientation": "v",
           "showlegend": true,
           "type": "scatter",
           "x": {
            "bdata": "1M8z3yXLF0A=",
            "dtype": "f8"
           },
           "xaxis": "x",
           "y": {
            "bdata": "Y0Ot0ln47j8=",
            "dtype": "f8"
           },
           "yaxis": "y"
          },
          {
           "customdata": [
            [
             2018,
             "Midden"
            ],
            [
             2018,
             "Midden"
            ],
            [
             2018,
             "Midden"
            ]
           ],
           "hovertemplate": "<b>%{hovertext}</b><br><br>Inkomensgroep=%{customdata[1]}<br>Jaar=%{customdata[0]}<br>Productie per hectare (ton/ha)=%{x}<br>CO₂-uitstoot per ton voedsel (kg)=%{y}<br>Grootte=%{marker.size}<extra></extra>",
           "hovertext": [
            "Brazilië",
            "Indonesië",
            "Zuid-Afrika"
           ],
           "legendgroup": "Midden",
           "marker": {
            "color": "#87BCD9",
            "size": {
             "bdata": "AQEB",
             "dtype": "i1"
            },
            "sizemode": "area",
            "sizeref": 0.01,
            "symbol": "circle"
           },
           "mode": "markers",
           "name": "Midden",
           "orientation": "v",
           "showlegend": true,
           "type": "scatter",
           "x": {
            "bdata": "E/2NBuV+KEAksHKTJ0EdQP3cMvfpfSNA",
            "dtype": "f8"
           },
           "xaxis": "x",
           "y": {
            "bdata": "iCBhkjTqyT+VBIq0djjrP2zCqkK9mQpA",
            "dtype": "f8"
           },
           "yaxis": "y"
          },
          {
           "customdata": [
            [
             2018,
             "Hoog"
            ]
           ],
           "hovertemplate": "<b>%{hovertext}</b><br><br>Inkomensgroep=%{customdata[1]}<br>Jaar=%{customdata[0]}<br>Productie per hectare (ton/ha)=%{x}<br>CO₂-uitstoot per ton voedsel (kg)=%{y}<br>Grootte=%{marker.size}<extra></extra>",
           "hovertext": [
            "Japan"
           ],
           "legendgroup": "Hoog",
           "marker": {
            "color": "#C7EEF9",
            "size": {
             "bdata": "AQ==",
             "dtype": "i1"
            },
            "sizemode": "area",
            "sizeref": 0.01,
            "symbol": "circle"
           },
           "mode": "markers",
           "name": "Hoog",
           "orientation": "v",
           "showlegend": true,
           "type": "scatter",
           "x": {
            "bdata": "g1QjDGXfMUA=",
            "dtype": "f8"
           },
           "xaxis": "x",
           "y": {
            "bdata": "HOc3jIdXJUA=",
            "dtype": "f8"
           },
           "yaxis": "y"
          }
         ],
         "name": "2018"
        },
        {
         "data": [
          {
           "customdata": [
            [
             2019,
             "Laag"
            ]
           ],
           "hovertemplate": "<b>%{hovertext}</b><br><br>Inkomensgroep=%{customdata[1]}<br>Jaar=%{customdata[0]}<br>Productie per hectare (ton/ha)=%{x}<br>CO₂-uitstoot per ton voedsel (kg)=%{y}<br>Grootte=%{marker.size}<extra></extra>",
           "hovertext": [
            "Nigeria"
           ],
           "legendgroup": "Laag",
           "marker": {
            "color": "#3B6C87",
            "size": {
             "bdata": "AQ==",
             "dtype": "i1"
            },
            "sizemode": "area",
            "sizeref": 0.01,
            "symbol": "circle"
           },
           "mode": "markers",
           "name": "Laag",
           "orientation": "v",
           "showlegend": true,
           "type": "scatter",
           "x": {
            "bdata": "Bfi8MGXfCEA=",
            "dtype": "f8"
           },
           "xaxis": "x",
           "y": {
            "bdata": "7qrBVDOz1D8=",
            "dtype": "f8"
           },
           "yaxis": "y"
          },
          {
           "customdata": [
            [
             2019,
             "Laag-Midden"
            ]
           ],
           "hovertemplate": "<b>%{hovertext}</b><br><br>Inkomensgroep=%{customdata[1]}<br>Jaar=%{customdata[0]}<br>Productie per hectare (ton/ha)=%{x}<br>CO₂-uitstoot per ton voedsel (kg)=%{y}<br>Grootte=%{marker.size}<extra></extra>",
           "hovertext": [
            "India"
           ],
           "legendgroup": "Laag-Midden",
           "marker": {
            "color": "#6094AA",
            "size": {
             "bdata": "AQ==",
             "dtype": "i1"
            },
            "sizemode": "area",
            "sizeref": 0.01,
            "symbol": "circle"
           },
           "mode": "markers",
           "name": "Laag-Midden",
           "orientation": "v",
           "showlegend": true,
           "type": "scatter",
           "x": {
            "bdata": "edMfcA0vGUA=",
            "dtype": "f8"
           },
           "xaxis": "x",
           "y": {
            "bdata": "ZoljfiA07j8=",
            "dtype": "f8"
           },
           "yaxis": "y"
          },
          {
           "customdata": [
            [
             2019,
             "Midden"
            ],
            [
             2019,
             "Midden"
            ],
            [
             2019,
             "Midden"
            ]
           ],
           "hovertemplate": "<b>%{hovertext}</b><br><br>Inkomensgroep=%{customdata[1]}<br>Jaar=%{customdata[0]}<br>Productie per hectare (ton/ha)=%{x}<br>CO₂-uitstoot per ton voedsel (kg)=%{y}<br>Grootte=%{marker.size}<extra></extra>",
           "hovertext": [
            "Brazilië",
            "Indonesië",
            "Zuid-Afrika"
           ],
           "legendgroup": "Midden",
           "marker": {
            "color": "#87BCD9",
            "size": {
             "bdata": "AQEB",
             "dtype": "i1"
            },
            "sizemode": "area",
            "sizeref": 0.01,
            "symbol": "circle"
           },
           "mode": "markers",
           "name": "Midden",
           "orientation": "v",
           "showlegend": true,
           "type": "scatter",
           "x": {
            "bdata": "M+vMCUARKEDbjc6kmVMeQERPJ1DzlyNA",
            "dtype": "f8"
           },
           "xaxis": "x",
           "y": {
            "bdata": "sMQZuokTyT8U5zgQH2PtPxzGkHT8MQ1A",
            "dtype": "f8"
           },
           "yaxis": "y"
          },
          {
           "customdata": [
            [
             2019,
             "Hoog"
            ]
           ],
           "hovertemplate": "<b>%{hovertext}</b><br><br>Inkomensgroep=%{customdata[1]}<br>Jaar=%{customdata[0]}<br>Productie per hectare (ton/ha)=%{x}<br>CO₂-uitstoot per ton voedsel (kg)=%{y}<br>Grootte=%{marker.size}<extra></extra>",
           "hovertext": [
            "Japan"
           ],
           "legendgroup": "Hoog",
           "marker": {
            "color": "#C7EEF9",
            "size": {
             "bdata": "AQ==",
             "dtype": "i1"
            },
            "sizemode": "area",
            "sizeref": 0.01,
            "symbol": "circle"
           },
           "mode": "markers",
           "name": "Hoog",
           "orientation": "v",
           "showlegend": true,
           "type": "scatter",
           "x": {
            "bdata": "r14ViHRSMkA=",
            "dtype": "f8"
           },
           "xaxis": "x",
           "y": {
            "bdata": "P6km1PdHJEA=",
            "dtype": "f8"
           },
           "yaxis": "y"
          }
         ],
         "name": "2019"
        },
        {
         "data": [
          {
           "customdata": [
            [
             2020,
             "Laag"
            ]
           ],
           "hovertemplate": "<b>%{hovertext}</b><br><br>Inkomensgroep=%{customdata[1]}<br>Jaar=%{customdata[0]}<br>Productie per hectare (ton/ha)=%{x}<br>CO₂-uitstoot per ton voedsel (kg)=%{y}<br>Grootte=%{marker.size}<extra></extra>",
           "hovertext": [
            "Nigeria"
           ],
           "legendgroup": "Laag",
           "marker": {
            "color": "#3B6C87",
            "size": {
             "bdata": "AQ==",
             "dtype": "i1"
            },
            "sizemode": "area",
            "sizeref": 0.01,
            "symbol": "circle"
           },
           "mode": "markers",
           "name": "Laag",
           "orientation": "v",
           "showlegend": true,
           "type": "scatter",
           "x": {
            "bdata": "dOAJ8Ew7CUA=",
            "dtype": "f8"
           },
           "xaxis": "x",
           "y": {
            "bdata": "vyAKCoSb0z8=",
            "dtype": "f8"
           },
           "yaxis": "y"
          },
          {
           "customdata": [
            [
             2020,
             "Laag-Midden"
            ]
           ],
           "hovertemplate": "<b>%{hovertext}</b><br><br>Inkomensgroep=%{customdata[1]}<br>Jaar=%{customdata[0]}<br>Productie per hectare (ton/ha)=%{x}<br>CO₂-uitstoot per ton voedsel (kg)=%{y}<br>Grootte=%{marker.size}<extra></extra>",
           "hovertext": [
            "India"
           ],
           "legendgroup": "Laag-Midden",
           "marker": {
            "color": "#6094AA",
            "size": {
             "bdata": "AQ==",
             "dtype": "i1"
            },
            "sizemode": "area",
            "sizeref": 0.01,
            "symbol": "circle"
           },
           "mode": "markers",
           "name": "Laag-Midden",
           "orientation": "v",
           "showlegend": true,
           "type": "scatter",
           "x": {
            "bdata": "hZ2iRu7iF0A=",
            "dtype": "f8"
           },
           "xaxis": "x",
           "y": {
            "bdata": "4+bWdGsO7D8=",
            "dtype": "f8"
           },
           "yaxis": "y"
          },
          {
           "customdata": [
            [
             2020,
             "Midden"
            ],
            [
             2020,
             "Midden"
            ],
            [
             2020,
             "Midden"
            ]
           ],
           "hovertemplate": "<b>%{hovertext}</b><br><br>Inkomensgroep=%{customdata[1]}<br>Jaar=%{customdata[0]}<br>Productie per hectare (ton/ha)=%{x}<br>CO₂-uitstoot per ton voedsel (kg)=%{y}<br>Grootte=%{marker.size}<extra></extra>",
           "hovertext": [
            "Brazilië",
            "Indonesië",
            "Zuid-Afrika"
           ],
           "legendgroup": "Midden",
           "marker": {
            "color": "#87BCD9",
            "size": {
             "bdata": "AQEB",
             "dtype": "i1"
            },
            "sizemode": "area",
            "sizeref": 0.01,
            "symbol": "circle"
           },
           "mode": "markers",
           "name": "Midden",
           "orientation": "v",
           "showlegend": true,
           "type": "scatter",
           "x": {
            "bdata": "N2gspxHRJ0AB4qZlPNkeQBa/EHeWPSRA",
            "dtype": "f8"
           },
           "xaxis": "x",
           "y": {
            "bdata": "3lmQAsYexz+nw6KH/AXrP98LaIuSqwlA",
            "dtype": "f8"
           },
           "yaxis": "y"
          },
          {
           "customdata": [
            [
             2020,
             "Hoog"
            ]
           ],
           "hovertemplate": "<b>%{hovertext}</b><br><br>Inkomensgroep=%{customdata[1]}<br>Jaar=%{customdata[0]}<br>Productie per hectare (ton/ha)=%{x}<br>CO₂-uitstoot per ton voedsel (kg)=%{y}<br>Grootte=%{marker.size}<extra></extra>",
           "hovertext": [
            "Japan"
           ],
           "legendgroup": "Hoog",
           "marker": {
            "color": "#C7EEF9",
            "size": {
             "bdata": "AQ==",
             "dtype": "i1"
            },
            "sizemode": "area",
            "sizeref": 0.01,
            "symbol": "circle"
           },
           "mode": "markers",
           "name": "Hoog",
           "orientation": "v",
           "showlegend": true,
           "type": "scatter",
           "x": {
            "bdata": "LjiLWvpGMkA=",
            "dtype": "f8"
           },
           "xaxis": "x",
           "y": {
            "bdata": "SFFscGVCI0A=",
            "dtype": "f8"
           },
           "yaxis": "y"
          }
         ],
         "name": "2020"
        },
        {
         "data": [
          {
           "customdata": [
            [
             2021,
             "Laag"
            ]
           ],
           "hovertemplate": "<b>%{hovertext}</b><br><br>Inkomensgroep=%{customdata[1]}<br>Jaar=%{customdata[0]}<br>Productie per hectare (ton/ha)=%{x}<br>CO₂-uitstoot per ton voedsel (kg)=%{y}<br>Grootte=%{marker.size}<extra></extra>",
           "hovertext": [
            "Nigeria"
           ],
           "legendgroup": "Laag",
           "marker": {
            "color": "#3B6C87",
            "size": {
             "bdata": "AQ==",
             "dtype": "i1"
            },
            "sizemode": "area",
            "sizeref": 0.01,
            "symbol": "circle"
           },
           "mode": "markers",
           "name": "Laag",
           "orientation": "v",
           "showlegend": true,
           "type": "scatter",
           "x": {
            "bdata": "Has9duKxCUA=",
            "dtype": "f8"
           },
           "xaxis": "x",
           "y": {
            "bdata": "8wd3s1OO0z8=",
            "dtype": "f8"
           },
           "yaxis": "y"
          },
          {
           "customdata": [
            [
             2021,
             "Laag-Midden"
            ]
           ],
           "hovertemplate": "<b>%{hovertext}</b><br><br>Inkomensgroep=%{customdata[1]}<br>Jaar=%{customdata[0]}<br>Productie per hectare (ton/ha)=%{x}<br>CO₂-uitstoot per ton voedsel (kg)=%{y}<br>Grootte=%{marker.size}<extra></extra>",
           "hovertext": [
            "India"
           ],
           "legendgroup": "Laag-Midden",
           "marker": {
            "color": "#6094AA",
            "size": {
             "bdata": "AQ==",
             "dtype": "i1"
            },
            "sizemode": "area",
            "sizeref": 0.01,
            "symbol": "circle"
           },
           "mode": "markers",
           "name": "Laag-Midden",
           "orientation": "v",
           "showlegend": true,
           "type": "scatter",
           "x": {
            "bdata": "wLDJfIOmGEA=",
            "dtype": "f8"
           },
           "xaxis": "x",
           "y": {
            "bdata": "/NS2dZBD7T8=",
            "dtype": "f8"
           },
           "yaxis": "y"
          },
          {
           "customdata": [
            [
             2021,
             "Midden"
            ],
            [
             2021,
             "Midden"
            ],
            [
             2021,
             "Midden"
            ]
           ],
           "hovertemplate": "<b>%{hovertext}</b><br><br>Inkomensgroep=%{customdata[1]}<br>Jaar=%{customdata[0]}<br>Productie per hectare (ton/ha)=%{x}<br>CO₂-uitstoot per ton voedsel (kg)=%{y}<br>Grootte=%{marker.size}<extra></extra>",
           "hovertext": [
            "Brazilië",
            "Indonesië",
            "Zuid-Afrika"
           ],
           "legendgroup": "Midden",
           "marker": {
            "color": "#87BCD9",
            "size": {
             "bdata": "AQEB",
             "dtype": "i1"
            },
            "sizemode": "area",
            "sizeref": 0.01,
            "symbol": "circle"
           },
           "mode": "markers",
           "name": "Midden",
           "orientation": "v",
           "showlegend": true,
           "type": "scatter",
           "x": {
            "bdata": "4mEVlUwxJkC0It7gMXkgQM/P1Pk5aSRA",
            "dtype": "f8"
           },
           "xaxis": "x",
           "y": {
            "bdata": "s6zBvtLYyj/db3M4bbLpP3+ARZfN8QhA",
            "dtype": "f8"
           },
           "yaxis": "y"
          },
          {
           "customdata": [
            [
             2021,
             "Hoog"
            ]
           ],
           "hovertemplate": "<b>%{hovertext}</b><br><br>Inkomensgroep=%{customdata[1]}<br>Jaar=%{customdata[0]}<br>Productie per hectare (ton/ha)=%{x}<br>CO₂-uitstoot per ton voedsel (kg)=%{y}<br>Grootte=%{marker.size}<extra></extra>",
           "hovertext": [
            "Japan"
           ],
           "legendgroup": "Hoog",
           "marker": {
            "color": "#C7EEF9",
            "size": {
             "bdata": "AQ==",
             "dtype": "i1"
            },
            "sizemode": "area",
            "sizeref": 0.01,
            "symbol": "circle"
           },
           "mode": "markers",
           "name": "Hoog",
           "orientation": "v",
           "showlegend": true,
           "type": "scatter",
           "x": {
            "bdata": "HyOKCcaAMkA=",
            "dtype": "f8"
           },
           "xaxis": "x",
           "y": {
            "bdata": "9orXeUCBI0A=",
            "dtype": "f8"
           },
           "yaxis": "y"
          }
         ],
         "name": "2021"
        },
        {
         "data": [
          {
           "customdata": [
            [
             2022,
             "Laag"
            ]
           ],
           "hovertemplate": "<b>%{hovertext}</b><br><br>Inkomensgroep=%{customdata[1]}<br>Jaar=%{customdata[0]}<br>Productie per hectare (ton/ha)=%{x}<br>CO₂-uitstoot per ton voedsel (kg)=%{y}<br>Grootte=%{marker.size}<extra></extra>",
           "hovertext": [
            "Nigeria"
           ],
           "legendgroup": "Laag",
           "marker": {
            "color": "#3B6C87",
            "size": {
             "bdata": "AQ==",
             "dtype": "i1"
            },
            "sizemode": "area",
            "sizeref": 0.01,
            "symbol": "circle"
           },
           "mode": "markers",
           "name": "Laag",
           "orientation": "v",
           "showlegend": true,
           "type": "scatter",
           "x": {
            "bdata": "EiN9q+h3CkA=",
            "dtype": "f8"
           },
           "xaxis": "x",
           "y": {
            "bdata": "dju8ONaE0j8=",
            "dtype": "f8"
           },
           "yaxis": "y"
          },
          {
           "customdata": [
            [
             2022,
             "Laag-Midden"
            ]
           ],
           "hovertemplate": "<b>%{hovertext}</b><br><br>Inkomensgroep=%{customdata[1]}<br>Jaar=%{customdata[0]}<br>Productie per hectare (ton/ha)=%{x}<br>CO₂-uitstoot per ton voedsel (kg)=%{y}<br>Grootte=%{marker.size}<extra></extra>",
           "hovertext": [
            "India"
           ],
           "legendgroup": "Laag-Midden",
           "marker": {
            "color": "#6094AA",
            "size": {
             "bdata": "AQ==",
             "dtype": "i1"
            },
            "sizemode": "area",
            "sizeref": 0.01,
            "symbol": "circle"
           },
           "mode": "markers",
           "name": "Laag-Midden",
           "orientation": "v",
           "showlegend": true,
           "type": "scatter",
           "x": {
            "bdata": "COOijfS1GUA=",
            "dtype": "f8"
           },
           "xaxis": "x",
           "y": {
            "bdata": "s6Xzkpya7T8=",
            "dtype": "f8"
           },
           "yaxis": "y"
          },
          {
           "customdata": [
            [
             2022,
             "Midden"
            ],
            [
             2022,
             "Midden"
            ],
            [
             2022,
             "Midden"
            ]
           ],
           "hovertemplate": "<b>%{hovertext}</b><br><br>Inkomensgroep=%{customdata[1]}<br>Jaar=%{customdata[0]}<br>Productie per hectare (ton/ha)=%{x}<br>CO₂-uitstoot per ton voedsel (kg)=%{y}<br>Grootte=%{marker.size}<extra></extra>",
           "hovertext": [
            "Brazilië",
            "Indonesië",
            "Zuid-Afrika"
           ],
           "legendgroup": "Midden",
           "marker": {
            "color": "#87BCD9",
            "size": {
             "bdata": "AQEB",
             "dtype": "i1"
            },
            "sizemode": "area",
            "sizeref": 0.01,
            "symbol": "circle"
           },
           "mode": "markers",
           "name": "Midden",
           "orientation": "v",
           "showlegend": true,
           "type": "scatter",
           "x": {
            "bdata": "H2EG/rJiJUCXwahkAlEgQJuI14EueiNA",
            "dtype": "f8"
           },
           "xaxis": "x",
           "y": {
            "bdata": "hBt4QjyMyT+tZoysflzuP9ZYR5zfaQdA",
            "dtype": "f8"
           },
           "yaxis": "y"
          },
          {
           "customdata": [
            [
             2022,
             "Hoog"
            ]
           ],
           "hovertemplate": "<b>%{hovertext}</b><br><br>Inkomensgroep=%{customdata[1]}<br>Jaar=%{customdata[0]}<br>Productie per hectare (ton/ha)=%{x}<br>CO₂-uitstoot per ton voedsel (kg)=%{y}<br>Grootte=%{marker.size}<extra></extra>",
           "hovertext": [
            "Japan"
           ],
           "legendgroup": "Hoog",
           "marker": {
            "color": "#C7EEF9",
            "size": {
             "bdata": "AQ==",
             "dtype": "i1"
            },
            "sizemode": "area",
            "sizeref": 0.01,
            "symbol": "circle"
           },
           "mode": "markers",
           "name": "Hoog",
           "orientation": "v",
           "showlegend": true,
           "type": "scatter",
           "x": {
            "bdata": "ffr7BJFJMkA=",
            "dtype": "f8"
           },
           "xaxis": "x",
           "y": {
            "bdata": "QY/sSCVOI0A=",
            "dtype": "f8"
           },
           "yaxis": "y"
          }
         ],
         "name": "2022"
        },
        {
         "data": [
          {
           "customdata": [
            [
             2023,
             "Laag"
            ]
           ],
           "hovertemplate": "<b>%{hovertext}</b><br><br>Inkomensgroep=%{customdata[1]}<br>Jaar=%{customdata[0]}<br>Productie per hectare (ton/ha)=%{x}<br>CO₂-uitstoot per ton voedsel (kg)=%{y}<br>Grootte=%{marker.size}<extra></extra>",
           "hovertext": [
            "Nigeria"
           ],
           "legendgroup": "Laag",
           "marker": {
            "color": "#3B6C87",
            "size": {
             "bdata": "AQ==",
             "dtype": "i1"
            },
            "sizemode": "area",
            "sizeref": 0.01,
            "symbol": "circle"
           },
           "mode": "markers",
           "name": "Laag",
           "orientation": "v",
           "showlegend": true,
           "type": "scatter",
           "x": {
            "bdata": "zDrVvTP4CUA=",
            "dtype": "f8"
           },
           "xaxis": "x",
           "y": {
            "bdata": "pXd1MSJI0j8=",
            "dtype": "f8"
           },
           "yaxis": "y"
          },
          {
           "customdata": [
            [
             2023,
             "Laag-Midden"
            ]
           ],
           "hovertemplate": "<b>%{hovertext}</b><br><br>Inkomensgroep=%{customdata[1]}<br>Jaar=%{customdata[0]}<br>Productie per hectare (ton/ha)=%{x}<br>CO₂-uitstoot per ton voedsel (kg)=%{y}<br>Grootte=%{marker.size}<extra></extra>",
           "hovertext": [
            "India"
           ],
           "legendgroup": "Laag-Midden",
           "marker": {
            "color": "#6094AA",
            "size": {
             "bdata": "AQ==",
             "dtype": "i1"
            },
            "sizemode": "area",
            "sizeref": 0.01,
            "symbol": "circle"
           },
           "mode": "markers",
           "name": "Laag-Midden",
           "orientation": "v",
           "showlegend": true,
           "type": "scatter",
           "x": {
            "bdata": "Ax3M6BvAGUA=",
            "dtype": "f8"
           },
           "xaxis": "x",
           "y": {
            "bdata": "lXJRmMNH7z8=",
            "dtype": "f8"
           },
           "yaxis": "y"
          },
          {
           "customdata": [
            [
             2023,
             "Midden"
            ],
            [
             2023,
             "Midden"
            ],
            [
             2023,
             "Midden"
            ]
           ],
           "hovertemplate": "<b>%{hovertext}</b><br><br>Inkomensgroep=%{customdata[1]}<br>Jaar=%{customdata[0]}<br>Productie per hectare (ton/ha)=%{x}<br>CO₂-uitstoot per ton voedsel (kg)=%{y}<br>Grootte=%{marker.size}<extra></extra>",
           "hovertext": [
            "Brazilië",
            "Indonesië",
            "Zuid-Afrika"
           ],
           "legendgroup": "Midden",
           "marker": {
            "color": "#87BCD9",
            "size": {
             "bdata": "AQEB",
             "dtype": "i1"
            },
            "sizemode": "area",
            "sizeref": 0.01,
            "symbol": "circle"
           },
           "mode": "markers",
           "name": "Midden",
           "orientation": "v",
           "showlegend": true,
           "type": "scatter",
           "x": {
            "bdata": "ZUrgaYUzJUCG6rdQa4UdQDAI3njUUiJA",
            "dtype": "f8"
           },
           "xaxis": "x",
           "y": {
            "bdata": "iG2JqhFWyD/mPSv1BrfwP9Jq/cBsdQhA",
            "dtype": "f8"
           },
           "yaxis": "y"
          },
          {
           "customdata": [
            [
             2023,
             "Hoog"
            ]
           ],
           "hovertemplate": "<b>%{hovertext}</b><br><br>Inkomensgroep=%{customdata[1]}<br>Jaar=%{customdata[0]}<br>Productie per hectare (ton/ha)=%{x}<br>CO₂-uitstoot per ton voedsel (kg)=%{y}<br>Grootte=%{marker.size}<extra></extra>",
           "hovertext": [
            "Japan"
           ],
           "legendgroup": "Hoog",
           "marker": {
            "color": "#C7EEF9",
            "size": {
             "bdata": "AQ==",
             "dtype": "i1"
            },
            "sizemode": "area",
            "sizeref": 0.01,
            "symbol": "circle"
           },
           "mode": "markers",
           "name": "Hoog",
           "orientation": "v",
           "showlegend": true,
           "type": "scatter",
           "x": {
            "bdata": "7f6YfnvCMEA=",
            "dtype": "f8"
           },
           "xaxis": "x",
           "y": {
            "bdata": "6gjEvPlLJEA=",
            "dtype": "f8"
           },
           "yaxis": "y"
          }
         ],
         "name": "2023"
        }
       ],
       "layout": {
        "height": 500,
        "legend": {
         "itemsizing": "constant",
         "title": {
          "text": "Inkomensgroep"
         },
         "tracegroupgap": 0
        },
        "paper_bgcolor": "#FFFFFF",
        "plot_bgcolor": "#808080",
        "sliders": [
         {
          "active": 0,
          "currentvalue": {
           "prefix": "Jaar="
          },
          "len": 0.9,
          "pad": {
           "b": 10,
           "t": 60
          },
          "steps": [
           {
            "args": [
             [
              "2015"
             ],
             {
              "frame": {
               "duration": 0,
               "redraw": false
              },
              "fromcurrent": true,
              "mode": "immediate",
              "transition": {
               "duration": 0,
               "easing": "linear"
              }
             }
            ],
            "label": "2015",
            "method": "animate"
           },
           {
            "args": [
             [
              "2016"
             ],
             {
              "frame": {
               "duration": 0,
               "redraw": false
              },
              "fromcurrent": true,
              "mode": "immediate",
              "transition": {
               "duration": 0,
               "easing": "linear"
              }
             }
            ],
            "label": "2016",
            "method": "animate"
           },
           {
            "args": [
             [
              "2017"
             ],
             {
              "frame": {
               "duration": 0,
               "redraw": false
              },
              "fromcurrent": true,
              "mode": "immediate",
              "transition": {
               "duration": 0,
               "easing": "linear"
              }
             }
            ],
            "label": "2017",
            "method": "animate"
           },
           {
            "args": [
             [
              "2018"
             ],
             {
              "frame": {
               "duration": 0,
               "redraw": false
              },
              "fromcurrent": true,
              "mode": "immediate",
              "transition": {
               "duration": 0,
               "easing": "linear"
              }
             }
            ],
            "label": "2018",
            "method": "animate"
           },
           {
            "args": [
             [
              "2019"
             ],
             {
              "frame": {
               "duration": 0,
               "redraw": false
              },
              "fromcurrent": true,
              "mode": "immediate",
              "transition": {
               "duration": 0,
               "easing": "linear"
              }
             }
            ],
            "label": "2019",
            "method": "animate"
           },
           {
            "args": [
             [
              "2020"
             ],
             {
              "frame": {
               "duration": 0,
               "redraw": false
              },
              "fromcurrent": true,
              "mode": "immediate",
              "transition": {
               "duration": 0,
               "easing": "linear"
              }
             }
            ],
            "label": "2020",
            "method": "animate"
           },
           {
            "args": [
             [
              "2021"
             ],
             {
              "frame": {
               "duration": 0,
               "redraw": false
              },
              "fromcurrent": true,
              "mode": "immediate",
              "transition": {
               "duration": 0,
               "easing": "linear"
              }
             }
            ],
            "label": "2021",
            "method": "animate"
           },
           {
            "args": [
             [
              "2022"
             ],
             {
              "frame": {
               "duration": 0,
               "redraw": false
              },
              "fromcurrent": true,
              "mode": "immediate",
              "transition": {
               "duration": 0,
               "easing": "linear"
              }
             }
            ],
            "label": "2022",
            "method": "animate"
           },
           {
            "args": [
             [
              "2023"
             ],
             {
              "frame": {
               "duration": 0,
               "redraw": false
              },
              "fromcurrent": true,
              "mode": "immediate",
              "transition": {
               "duration": 0,
               "easing": "linear"
              }
             }
            ],
            "label": "2023",
            "method": "animate"
           }
          ],
          "x": 0.1,
          "xanchor": "left",
          "y": 0,
          "yanchor": "top"
         }
        ],
        "template": {
         "data": {
          "bar": [
           {
            "error_x": {
             "color": "#2a3f5f"
            },
            "error_y": {
             "color": "#2a3f5f"
            },
            "marker": {
             "line": {
              "color": "#E5ECF6",
              "width": 0.5
             },
             "pattern": {
              "fillmode": "overlay",
              "size": 10,
              "solidity": 0.2
             }
            },
            "type": "bar"
           }
          ],
          "barpolar": [
           {
            "marker": {
             "line": {
              "color": "#E5ECF6",
              "width": 0.5
             },
             "pattern": {
              "fillmode": "overlay",
              "size": 10,
              "solidity": 0.2
             }
            },
            "type": "barpolar"
           }
          ],
          "carpet": [
           {
            "aaxis": {
             "endlinecolor": "#2a3f5f",
             "gridcolor": "white",
             "linecolor": "white",
             "minorgridcolor": "white",
             "startlinecolor": "#2a3f5f"
            },
            "baxis": {
             "endlinecolor": "#2a3f5f",
             "gridcolor": "white",
             "linecolor": "white",
             "minorgridcolor": "white",
             "startlinecolor": "#2a3f5f"
            },
            "type": "carpet"
           }
          ],
          "choropleth": [
           {
            "colorbar": {
             "outlinewidth": 0,
             "ticks": ""
            },
            "type": "choropleth"
           }
          ],
          "contour": [
           {
            "colorbar": {
             "outlinewidth": 0,
             "ticks": ""
            },
            "colorscale": [
             [
              0,
              "#0d0887"
             ],
             [
              0.1111111111111111,
              "#46039f"
             ],
             [
              0.2222222222222222,
              "#7201a8"
             ],
             [
              0.3333333333333333,
              "#9c179e"
             ],
             [
              0.4444444444444444,
              "#bd3786"
             ],
             [
              0.5555555555555556,
              "#d8576b"
             ],
             [
              0.6666666666666666,
              "#ed7953"
             ],
             [
              0.7777777777777778,
              "#fb9f3a"
             ],
             [
              0.8888888888888888,
              "#fdca26"
             ],
             [
              1,
              "#f0f921"
             ]
            ],
            "type": "contour"
           }
          ],
          "contourcarpet": [
           {
            "colorbar": {
             "outlinewidth": 0,
             "ticks": ""
            },
            "type": "contourcarpet"
           }
          ],
          "heatmap": [
           {
            "colorbar": {
             "outlinewidth": 0,
             "ticks": ""
            },
            "colorscale": [
             [
              0,
              "#0d0887"
             ],
             [
              0.1111111111111111,
              "#46039f"
             ],
             [
              0.2222222222222222,
              "#7201a8"
             ],
             [
              0.3333333333333333,
              "#9c179e"
             ],
             [
              0.4444444444444444,
              "#bd3786"
             ],
             [
              0.5555555555555556,
              "#d8576b"
             ],
             [
              0.6666666666666666,
              "#ed7953"
             ],
             [
              0.7777777777777778,
              "#fb9f3a"
             ],
             [
              0.8888888888888888,
              "#fdca26"
             ],
             [
              1,
              "#f0f921"
             ]
            ],
            "type": "heatmap"
           }
          ],
          "histogram": [
           {
            "marker": {
             "pattern": {
              "fillmode": "overlay",
              "size": 10,
              "solidity": 0.2
             }
            },
            "type": "histogram"
           }
          ],
          "histogram2d": [
           {
            "colorbar": {
             "outlinewidth": 0,
             "ticks": ""
            },
            "colorscale": [
             [
              0,
              "#0d0887"
             ],
             [
              0.1111111111111111,
              "#46039f"
             ],
             [
              0.2222222222222222,
              "#7201a8"
             ],
             [
              0.3333333333333333,
              "#9c179e"
             ],
             [
              0.4444444444444444,
              "#bd3786"
             ],
             [
              0.5555555555555556,
              "#d8576b"
             ],
             [
              0.6666666666666666,
              "#ed7953"
             ],
             [
              0.7777777777777778,
              "#fb9f3a"
             ],
             [
              0.8888888888888888,
              "#fdca26"
             ],
             [
              1,
              "#f0f921"
             ]
            ],
            "type": "histogram2d"
           }
          ],
          "histogram2dcontour": [
           {
            "colorbar": {
             "outlinewidth": 0,
             "ticks": ""
            },
            "colorscale": [
             [
              0,
              "#0d0887"
             ],
             [
              0.1111111111111111,
              "#46039f"
             ],
             [
              0.2222222222222222,
              "#7201a8"
             ],
             [
              0.3333333333333333,
              "#9c179e"
             ],
             [
              0.4444444444444444,
              "#bd3786"
             ],
             [
              0.5555555555555556,
              "#d8576b"
             ],
             [
              0.6666666666666666,
              "#ed7953"
             ],
             [
              0.7777777777777778,
              "#fb9f3a"
             ],
             [
              0.8888888888888888,
              "#fdca26"
             ],
             [
              1,
              "#f0f921"
             ]
            ],
            "type": "histogram2dcontour"
           }
          ],
          "mesh3d": [
           {
            "colorbar": {
             "outlinewidth": 0,
             "ticks": ""
            },
            "type": "mesh3d"
           }
          ],
          "parcoords": [
           {
            "line": {
             "colorbar": {
              "outlinewidth": 0,
              "ticks": ""
             }
            },
            "type": "parcoords"
           }
          ],
          "pie": [
           {
            "automargin": true,
            "type": "pie"
           }
          ],
          "scatter": [
           {
            "fillpattern": {
             "fillmode": "overlay",
             "size": 10,
             "solidity": 0.2
            },
            "type": "scatter"
           }
          ],
          "scatter3d": [
           {
            "line": {
             "colorbar": {
              "outlinewidth": 0,
              "ticks": ""
             }
            },
            "marker": {
             "colorbar": {
              "outlinewidth": 0,
              "ticks": ""
             }
            },
            "type": "scatter3d"
           }
          ],
          "scattercarpet": [
           {
            "marker": {
             "colorbar": {
              "outlinewidth": 0,
              "ticks": ""
             }
            },
            "type": "scattercarpet"
           }
          ],
          "scattergeo": [
           {
            "marker": {
             "colorbar": {
              "outlinewidth": 0,
              "ticks": ""
             }
            },
            "type": "scattergeo"
           }
          ],
          "scattergl": [
           {
            "marker": {
             "colorbar": {
              "outlinewidth": 0,
              "ticks": ""
             }
            },
            "type": "scattergl"
           }
          ],
          "scattermap": [
           {
            "marker": {
             "colorbar": {
              "outlinewidth": 0,
              "ticks": ""
             }
            },
            "type": "scattermap"
           }
          ],
          "scattermapbox": [
           {
            "marker": {
             "colorbar": {
              "outlinewidth": 0,
              "ticks": ""
             }
            },
            "type": "scattermapbox"
           }
          ],
          "scatterpolar": [
           {
            "marker": {
             "colorbar": {
              "outlinewidth": 0,
              "ticks": ""
             }
            },
            "type": "scatterpolar"
           }
          ],
          "scatterpolargl": [
           {
            "marker": {
             "colorbar": {
              "outlinewidth": 0,
              "ticks": ""
             }
            },
            "type": "scatterpolargl"
           }
          ],
          "scatterternary": [
           {
            "marker": {
             "colorbar": {
              "outlinewidth": 0,
              "ticks": ""
             }
            },
            "type": "scatterternary"
           }
          ],
          "surface": [
           {
            "colorbar": {
             "outlinewidth": 0,
             "ticks": ""
            },
            "colorscale": [
             [
              0,
              "#0d0887"
             ],
             [
              0.1111111111111111,
              "#46039f"
             ],
             [
              0.2222222222222222,
              "#7201a8"
             ],
             [
              0.3333333333333333,
              "#9c179e"
             ],
             [
              0.4444444444444444,
              "#bd3786"
             ],
             [
              0.5555555555555556,
              "#d8576b"
             ],
             [
              0.6666666666666666,
              "#ed7953"
             ],
             [
              0.7777777777777778,
              "#fb9f3a"
             ],
             [
              0.8888888888888888,
              "#fdca26"
             ],
             [
              1,
              "#f0f921"
             ]
            ],
            "type": "surface"
           }
          ],
          "table": [
           {
            "cells": {
             "fill": {
              "color": "#EBF0F8"
             },
             "line": {
              "color": "white"
             }
            },
            "header": {
             "fill": {
              "color": "#C8D4E3"
             },
             "line": {
              "color": "white"
             }
            },
            "type": "table"
           }
          ]
         },
         "layout": {
          "annotationdefaults": {
           "arrowcolor": "#2a3f5f",
           "arrowhead": 0,
           "arrowwidth": 1
          },
          "autotypenumbers": "strict",
          "coloraxis": {
           "colorbar": {
            "outlinewidth": 0,
            "ticks": ""
           }
          },
          "colorscale": {
           "diverging": [
            [
             0,
             "#8e0152"
            ],
            [
             0.1,
             "#c51b7d"
            ],
            [
             0.2,
             "#de77ae"
            ],
            [
             0.3,
             "#f1b6da"
            ],
            [
             0.4,
             "#fde0ef"
            ],
            [
             0.5,
             "#f7f7f7"
            ],
            [
             0.6,
             "#e6f5d0"
            ],
            [
             0.7,
             "#b8e186"
            ],
            [
             0.8,
             "#7fbc41"
            ],
            [
             0.9,
             "#4d9221"
            ],
            [
             1,
             "#276419"
            ]
           ],
           "sequential": [
            [
             0,
             "#0d0887"
            ],
            [
             0.1111111111111111,
             "#46039f"
            ],
            [
             0.2222222222222222,
             "#7201a8"
            ],
            [
             0.3333333333333333,
             "#9c179e"
            ],
            [
             0.4444444444444444,
             "#bd3786"
            ],
            [
             0.5555555555555556,
             "#d8576b"
            ],
            [
             0.6666666666666666,
             "#ed7953"
            ],
            [
             0.7777777777777778,
             "#fb9f3a"
            ],
            [
             0.8888888888888888,
             "#fdca26"
            ],
            [
             1,
             "#f0f921"
            ]
           ],
           "sequentialminus": [
            [
             0,
             "#0d0887"
            ],
            [
             0.1111111111111111,
             "#46039f"
            ],
            [
             0.2222222222222222,
             "#7201a8"
            ],
            [
             0.3333333333333333,
             "#9c179e"
            ],
            [
             0.4444444444444444,
             "#bd3786"
            ],
            [
             0.5555555555555556,
             "#d8576b"
            ],
            [
             0.6666666666666666,
             "#ed7953"
            ],
            [
             0.7777777777777778,
             "#fb9f3a"
            ],
            [
             0.8888888888888888,
             "#fdca26"
            ],
            [
             1,
             "#f0f921"
            ]
           ]
          },
          "colorway": [
           "#636efa",
           "#EF553B",
           "#00cc96",
           "#ab63fa",
           "#FFA15A",
           "#19d3f3",
           "#FF6692",
           "#B6E880",
           "#FF97FF",
           "#FECB52"
          ],
          "font": {
           "color": "#2a3f5f"
          },
          "geo": {
           "bgcolor": "white",
           "lakecolor": "white",
           "landcolor": "#E5ECF6",
           "showlakes": true,
           "showland": true,
           "subunitcolor": "white"
          },
          "hoverlabel": {
           "align": "left"
          },
          "hovermode": "closest",
          "mapbox": {
           "style": "light"
          },
          "paper_bgcolor": "white",
          "plot_bgcolor": "#E5ECF6",
          "polar": {
           "angularaxis": {
            "gridcolor": "white",
            "linecolor": "white",
            "ticks": ""
           },
           "bgcolor": "#E5ECF6",
           "radialaxis": {
            "gridcolor": "white",
            "linecolor": "white",
            "ticks": ""
           }
          },
          "scene": {
           "xaxis": {
            "backgroundcolor": "#E5ECF6",
            "gridcolor": "white",
            "gridwidth": 2,
            "linecolor": "white",
            "showbackground": true,
            "ticks": "",
            "zerolinecolor": "white"
           },
           "yaxis": {
            "backgroundcolor": "#E5ECF6",
            "gridcolor": "white",
            "gridwidth": 2,
            "linecolor": "white",
            "showbackground": true,
            "ticks": "",
            "zerolinecolor": "white"
           },
           "zaxis": {
            "backgroundcolor": "#E5ECF6",
            "gridcolor": "white",
            "gridwidth": 2,
            "linecolor": "white",
            "showbackground": true,
            "ticks": "",
            "zerolinecolor": "white"
           }
          },
          "shapedefaults": {
           "line": {
            "color": "#2a3f5f"
           }
          },
          "ternary": {
           "aaxis": {
            "gridcolor": "white",
            "linecolor": "white",
            "ticks": ""
           },
           "baxis": {
            "gridcolor": "white",
            "linecolor": "white",
            "ticks": ""
           },
           "bgcolor": "#E5ECF6",
           "caxis": {
            "gridcolor": "white",
            "linecolor": "white",
            "ticks": ""
           }
          },
          "title": {
           "x": 0.05
          },
          "xaxis": {
           "automargin": true,
           "gridcolor": "white",
           "linecolor": "white",
           "ticks": "",
           "title": {
            "standoff": 15
           },
           "zerolinecolor": "white",
           "zerolinewidth": 2
          },
          "yaxis": {
           "automargin": true,
           "gridcolor": "white",
           "linecolor": "white",
           "ticks": "",
           "title": {
            "standoff": 15
           },
           "zerolinecolor": "white",
           "zerolinewidth": 2
          }
         }
        },
        "title": {
         "text": "Efficiëntie en uitstoot per land (2015–2023)"
        },
        "updatemenus": [
         {
          "buttons": [
           {
            "args": [
             null,
             {
              "frame": {
               "duration": 500,
               "redraw": false
              },
              "fromcurrent": true,
              "mode": "immediate",
              "transition": {
               "duration": 500,
               "easing": "linear"
              }
             }
            ],
            "label": "&#9654;",
            "method": "animate"
           },
           {
            "args": [
             [
              null
             ],
             {
              "frame": {
               "duration": 0,
               "redraw": false
              },
              "fromcurrent": true,
              "mode": "immediate",
              "transition": {
               "duration": 0,
               "easing": "linear"
              }
             }
            ],
            "label": "&#9724;",
            "method": "animate"
           }
          ],
          "direction": "left",
          "pad": {
           "r": 10,
           "t": 70
          },
          "showactive": false,
          "type": "buttons",
          "x": 0.1,
          "xanchor": "right",
          "y": 0,
          "yanchor": "top"
         }
        ],
        "width": 900,
        "xaxis": {
         "anchor": "y",
         "domain": [
          0,
          1
         ],
         "title": {
          "text": "Productie per hectare (ton/ha)"
         }
        },
        "yaxis": {
         "anchor": "x",
         "domain": [
          0,
          1
         ],
         "title": {
          "text": "CO₂-uitstoot per ton voedsel (kg)"
         }
        }
       }
      }
     },
     "metadata": {},
     "output_type": "display_data"
    }
   ],
   "source": [
    "import pandas as pd\n",
    "import plotly.express as px\n",
    "\n",
    "emissions_df = pd.read_csv('Emissions_Agriculture_Energy_E_All_Data.csv', encoding='latin1')\n",
    "production_df = pd.read_csv('Production_Crops_Livestock_E_All_Data.csv', encoding='latin1', low_memory=False)\n",
    "gdp_df = pd.read_csv('gdp-per-capita-worldbank.csv')\n",
    "co2_df = pd.read_csv('owid-co2-data.csv')\n",
    "\n",
    "co2_selected = co2_df[[\"country\", \"year\", \"co2\", \"population\"]].copy()\n",
    "co2_selected.columns = [\"Land\", \"Jaar\", \"Totale_CO2\", \"Bevolking\"]\n",
    "co2_selected = co2_selected[(co2_selected[\"Jaar\"] >= 2015) & (co2_selected[\"Jaar\"] <= 2023)]\n",
    "\n",
    "prod_filtered = production_df[(production_df[\"Element\"] == \"Production\") & (production_df[\"Unit\"] == \"t\")]\n",
    "prod_cols = [f\"Y{y}\" for y in range(2015, 2024) if f\"Y{y}\" in production_df.columns]\n",
    "prod_years = prod_filtered.groupby(\"Area\")[prod_cols].sum().reset_index()\n",
    "prod_years = prod_years.rename(columns={\"Area\": \"Land\"})\n",
    "prod_long = pd.melt(prod_years, id_vars=\"Land\", var_name=\"Jaar\", value_name=\"Productie_ton\")\n",
    "prod_long[\"Jaar\"] = prod_long[\"Jaar\"].str.replace(\"Y\", \"\").astype(int)\n",
    "\n",
    "area_filtered = production_df[(production_df[\"Element\"] == \"Area harvested\") & (production_df[\"Unit\"] == \"ha\")]\n",
    "area_cols = [f\"Y{y}\" for y in range(2015, 2024) if f\"Y{y}\" in production_df.columns]\n",
    "area_years = area_filtered.groupby(\"Area\")[area_cols].sum().reset_index()\n",
    "area_years = area_years.rename(columns={\"Area\": \"Land\"})\n",
    "area_long = pd.melt(area_years, id_vars=\"Land\", var_name=\"Jaar\", value_name=\"Oppervlakte_ha\")\n",
    "area_long[\"Jaar\"] = area_long[\"Jaar\"].str.replace(\"Y\", \"\").astype(int)\n",
    "\n",
    "merged = pd.merge(prod_long, co2_selected, on=[\"Land\", \"Jaar\"], how=\"inner\")\n",
    "merged = pd.merge(merged, area_long, on=[\"Land\", \"Jaar\"], how=\"inner\")\n",
    "\n",
    "merged[\"CO2_per_ton\"] = merged[\"Totale_CO2\"] * 1e6 / merged[\"Productie_ton\"]\n",
    "merged[\"Efficiëntie\"] = merged[\"Productie_ton\"] / merged[\"Oppervlakte_ha\"]\n",
    "\n",
    "gdp_2021 = gdp_df[gdp_df[\"Year\"] == 2021][[\"Entity\", \"GDP per capita, PPP (constant 2021 international $)\"]]\n",
    "gdp_2021.columns = [\"Land\", \"BBP_per_hoofd\"]\n",
    "\n",
    "def bepaal_inkomensgroep(bbp):\n",
    "    if bbp < 6000:\n",
    "        return 'Laag'\n",
    "    elif bbp < 10000:\n",
    "        return 'Laag-Midden'\n",
    "    elif bbp < 20000:\n",
    "        return 'Midden'\n",
    "    elif bbp < 40000:\n",
    "        return 'Hoog-Midden'\n",
    "    else:\n",
    "        return 'Hoog'\n",
    "\n",
    "merged = pd.merge(merged, gdp_2021, on=\"Land\", how=\"left\")\n",
    "merged[\"Inkomensgroep\"] = merged[\"BBP_per_hoofd\"].apply(bepaal_inkomensgroep)\n",
    "\n",
    "landen_vertaling = {\n",
    "    \"India\": \"India\",\n",
    "    \"Japan\": \"Japan\",\n",
    "    \"Brazil\": \"Brazilië\",\n",
    "    \"South Africa\": \"Zuid-Afrika\",\n",
    "    \"Indonesia\": \"Indonesië\",\n",
    "    \"Nigeria\": \"Nigeria\"\n",
    "}\n",
    "plot_df = merged[merged[\"Land\"].isin(landen_vertaling.keys())].dropna()\n",
    "plot_df[\"Land\"] = plot_df[\"Land\"].map(landen_vertaling)\n",
    "\n",
    "plot_df[\"Grootte\"] = 1\n",
    "\n",
    "kleuren = {\n",
    "    'Laag': '#3B6C87',\n",
    "    'Laag-Midden': '#6094AA',\n",
    "    'Midden': '#87BCD9',\n",
    "    'Hoog-Midden': '#A3D8F4',\n",
    "    'Hoog': '#C7EEF9'\n",
    "}\n",
    "\n",
    "fig = px.scatter(\n",
    "    plot_df,\n",
    "    x=\"Efficiëntie\",\n",
    "    y=\"CO2_per_ton\",\n",
    "    animation_frame=\"Jaar\",\n",
    "    color=\"Inkomensgroep\",\n",
    "    size=\"Grootte\",\n",
    "    size_max=10,\n",
    "    color_discrete_map=kleuren,\n",
    "    hover_name=\"Land\",\n",
    "    hover_data={\n",
    "        \"Efficiëntie\": True,\n",
    "        \"CO2_per_ton\": True,\n",
    "        \"Jaar\": True,\n",
    "        \"Inkomensgroep\": True\n",
    "    },\n",
    "    labels={\n",
    "        \"Efficiëntie\": \"Productie per hectare (ton/ha)\",\n",
    "        \"CO2_per_ton\": \"CO₂-uitstoot per ton voedsel (kg)\",\n",
    "        \"Jaar\": \"Jaar\",\n",
    "        \"Inkomensgroep\": \"Inkomensgroep\"\n",
    "    },\n",
    "    title=\"Efficiëntie en uitstoot per land (2015–2023)\",\n",
    "    category_orders={\"Inkomensgroep\": ['Laag', 'Laag-Midden', 'Midden', 'Hoog-Midden', 'Hoog']}\n",
    ")\n",
    "\n",
    "fig.update_layout(\n",
    "    width=900,\n",
    "    height=500,\n",
    "    plot_bgcolor=\"#808080\",  # donkerder grijs\n",
    "    paper_bgcolor=\"#FFFFFF\"\n",
    ")\n",
    "\n",
    "fig.show()\n"
   ]
  },
  {
   "attachments": {},
   "cell_type": "markdown",
   "id": "9541331f-8e8b-410f-9e8b-9c194d35075b",
   "metadata": {},
   "source": [
    "### Analyse\n",
    "\n",
    "De visualisatie toont hoe zes landen zich tussen 2015 en 2023 ontwikkelen op het gebied van landbouwproductie en CO₂-uitstoot. Op de horizontale as staat de productie per hectare (efficiëntie), op de verticale as de uitstoot per ton voedsel. Wanneer je met de muis over een land beweegt, verschijnt er een informatievenster waarin onder andere het land, het inkomensniveau, het jaar, de productie per hectare en de uitstoot per ton voedsel te zien zijn. Een logische verwachting zou zijn dat landen met een hoge efficiëntie (meer naar rechts op de x-as) ook minder uitstoten (lager op de y-as).\n",
    "\n",
    "Landen met hoge efficiëntie, maar hoge uitstoot  </br>\n",
    "Japan is een goed voorbeeld van een land dat vrij efficiënt produceert, met een hoge opbrengst per hectare. Toch ligt de uitstoot per ton voedsel ook bij Japan relatief hoog, vooral vergeleken met landen met lagere inkomens. Dit suggereert dat een efficiëntere of technologische aanpak niet automatisch leidt tot een lagere uitstoot.\n",
    "\n",
    "Landen met lage efficiëntie en lage uitstoot </br>\n",
    "Nigeria en India bevinden zich aan de linkerkant van de grafiek. Ze produceren relatief weinig voedsel per hectare, maar stoten ook weinig CO₂ uit per ton voedsel. De lage uitstoot lijkt in dit geval niet voort te komen uit efficiëntie, maar eerder uit kleinschalige of minder intensieve landbouwsystemen. Dit type landbouw gebruikt simpelweg minder input, wat leidt tot een lagere uitstoot.\n",
    "\n",
    "Landen met gematigde efficiëntie en lage uitstoot </br>\n",
    "Brazilië en Indonesië vormen interessante gevallen. Ze produceren gemiddeld per hectare en kennen toch een relatief lage uitstoot. In deze landen lijkt een zekere efficiëntie dus wel samen te gaan met milieuvriendelijkere productie. \n",
    "\n",
    "Landen met gemiddelde efficiëntie en gemiddelde uitstoot  </br>\n",
    "Zuid-Afrika bevindt zich vaak in het midden van de grafiek. Het land produceert redelijk efficiënt, met een gemiddelde uitstoot. Het vormt daarmee een soort tussencategorie die het beeld nuanceert: niet elk land met hogere efficiëntie stoot per definitie meer of minder uit \n",
    "\n",
    "\n",
    "De grafiek toont duidelijk dat er géén vast of universeel verband is tussen efficiëntie en uitstoot. Sommige landen die efficiënt produceren, zoals Japan, stoten juist meer uit. Andere landen met lage efficiëntie, zoals Nigeria, stoten weinig uit door beperkte schaal en input, niet door technologische optimalisatie. Er is dus geen eenduidige of structurele relatie zichtbaar tussen productie per hectare en CO₂-uitstoot per ton voedsel. Het idee dat efficiëntie altijd leidt tot klimaatwinst, wordt door deze data niet ondersteund.\n"
   ]
  }
 ],
 "metadata": {
    "kernelspec": {
   "display_name": "base",
   "language": "python",
   "name": "python3"
  },
  "language_info": {
   "codemirror_mode": {
    "name": "ipython",
    "version": 3
   },
   "file_extension": ".py",
   "mimetype": "text/x-python",
   "name": "python",
   "nbconvert_exporter": "python",
   "pygments_lexer": "ipython3",
   "version": "3.10.16"
  }
 },
 "nbformat": 4,
 "nbformat_minor": 5
}
