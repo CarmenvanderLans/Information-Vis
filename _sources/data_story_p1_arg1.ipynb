{
 "cells": [
  {
   "attachments": {},
   "cell_type": "markdown",
   "id": "860fd4ef",
   "metadata": {},
   "source": [
    "# Perspectief 1: Verschillen in milieubeleid verklaren verschillen in landbouwuitstoot\n",
    "\n",
    "De uitstoot van de landbouwsector verschilt sterk tussen landen. In dit perspectief onderzoeken we hoe beleidskeuzes zoals milieuregels en landbouwsubsidies bijdragen aan die verschillen. We gebruiken internationale data om te analyseren welke landen efficiënt produceren en welke landen vervuilende landbouw blijven stimuleren.\n"
   ]
  },
  {
   "attachments": {},
   "cell_type": "markdown",
   "id": "1547d891",
   "metadata": {},
   "source": [
    "### Argument 1: Landen met strenger milieubeleid stoten gemiddeld minder CO₂ uit per ton landbouwproductie.\n",
    "\n",
    "In veel gesprekken over landbouw en klimaat gaat de aandacht uit naar de totale uitstoot per land. Maar het zegt veel meer als je kijkt naar hoe efficiënt die uitstoot is in verhouding tot wat er wordt geproduceerd. Door CO₂-uitstoot te koppelen aan de hoeveelheid landbouwproducten krijgen we een eerlijker beeld van hoe vervuilend of juist duurzaam een landbouwsysteem echt is. Zo kunnen landen op een eerlijke manier met elkaar worden vergeleken, ongeacht hun grootte of landbouwproductie, en wordt duidelijker welke landen daadwerkelijk inzetten op een duurzamere landbouw.\n"
   ]
  },
  {
   "cell_type": "code",
   "execution_count": 1,
   "id": "19e47cbe",
   "metadata": {},
   "outputs": [
    {
     "data": {
      "application/vnd.plotly.v1+json": {
       "config": {
        "plotlyServerURL": "https://plot.ly"
       },
       "data": [
        {
         "colorbar": {
          "len": 0.6,
          "title": {
           "text": "EPI Score"
          },
          "x": 1.01
         },
         "colorscale": [
          [
           0,
           "rgb(255,255,229)"
          ],
          [
           0.125,
           "rgb(247,252,185)"
          ],
          [
           0.25,
           "rgb(217,240,163)"
          ],
          [
           0.375,
           "rgb(173,221,142)"
          ],
          [
           0.5,
           "rgb(120,198,121)"
          ],
          [
           0.625,
           "rgb(65,171,93)"
          ],
          [
           0.75,
           "rgb(35,132,67)"
          ],
          [
           0.875,
           "rgb(0,104,55)"
          ],
          [
           1,
           "rgb(0,69,41)"
          ]
         ],
         "locationmode": "country names",
         "locations": [
          "Afghanistan",
          "Albania",
          "Algeria",
          "Angola",
          "Argentina",
          "Australia",
          "Austria",
          "Azerbaijan",
          "Bangladesh",
          "Belarus",
          "Belgium",
          "Benin",
          "Brazil",
          "Bulgaria",
          "Burkina Faso",
          "Burundi",
          "Cambodia",
          "Cameroon",
          "Canada",
          "Chad",
          "Chile",
          "China",
          "Colombia",
          "Costa Rica",
          "Croatia",
          "Cuba",
          "Denmark",
          "Dominican Republic",
          "Ecuador",
          "Egypt",
          "El Salvador",
          "Eswatini",
          "Ethiopia",
          "Finland",
          "France",
          "Germany",
          "Ghana",
          "Greece",
          "Guatemala",
          "Guinea",
          "Honduras",
          "Hungary",
          "India",
          "Indonesia",
          "Iraq",
          "Ireland",
          "Israel",
          "Italy",
          "Japan",
          "Kazakhstan",
          "Kenya",
          "Kyrgyzstan",
          "Latvia",
          "Lithuania",
          "Madagascar",
          "Malawi",
          "Malaysia",
          "Mali",
          "Mexico",
          "Morocco",
          "Mozambique",
          "Myanmar",
          "Nepal",
          "New Zealand",
          "Nicaragua",
          "Niger",
          "Nigeria",
          "Norway",
          "Pakistan",
          "Panama",
          "Papua New Guinea",
          "Paraguay",
          "Peru",
          "Philippines",
          "Poland",
          "Portugal",
          "Romania",
          "Rwanda",
          "Saudi Arabia",
          "Senegal",
          "Serbia",
          "Sierra Leone",
          "Slovakia",
          "South Africa",
          "Spain",
          "Sri Lanka",
          "Sudan",
          "Sweden",
          "Switzerland",
          "Tajikistan",
          "Thailand",
          "Togo",
          "Tunisia",
          "Turkmenistan",
          "Uganda",
          "Ukraine",
          "United States of America",
          "Uruguay",
          "Uzbekistan",
          "Viet Nam",
          "Zambia",
          "Zimbabwe"
         ],
         "showscale": true,
         "type": "choropleth",
         "z": [
          43.6,
          47.1,
          29.6,
          30.5,
          41.1,
          60.1,
          66.5,
          38.6,
          23.1,
          48.5,
          58.2,
          29.6,
          43.6,
          51.9,
          35.5,
          30.5,
          30.1,
          30.2,
          50,
          28.1,
          46.7,
          28.4,
          42.4,
          46.3,
          60.2,
          47.5,
          77.9,
          42.2,
          46.5,
          35.5,
          40.8,
          44.9,
          31.8,
          76.5,
          62.5,
          62.4,
          27.7,
          56.2,
          28,
          31.6,
          36.5,
          55.1,
          18.9,
          28.2,
          27.8,
          57.4,
          48.2,
          57.7,
          57.2,
          40.9,
          30.8,
          35.7,
          61.1,
          55.9,
          28,
          40.6,
          35,
          28.5,
          45.5,
          28.4,
          31.7,
          19.4,
          28.3,
          56.7,
          37.7,
          37.7,
          28.3,
          59.3,
          24.6,
          50.5,
          24.8,
          40.9,
          39.8,
          28.9,
          50.6,
          50.4,
          56,
          32.8,
          37.9,
          33.9,
          43.9,
          32.7,
          60,
          37.2,
          56.6,
          34.7,
          27.6,
          72.7,
          65.9,
          37.1,
          38.1,
          34,
          40.7,
          37,
          35.8,
          49.6,
          51.1,
          37.4,
          38.2,
          20.1,
          38.4,
          46.2
         ],
         "zmax": 100,
         "zmin": 0
        },
        {
         "locationmode": "country names",
         "locations": [
          "Afghanistan",
          "Albania",
          "Algeria",
          "Angola",
          "Argentina",
          "Australia",
          "Austria",
          "Azerbaijan",
          "Bangladesh",
          "Belarus",
          "Belgium",
          "Benin",
          "Brazil",
          "Bulgaria",
          "Burkina Faso",
          "Burundi",
          "Cambodia",
          "Cameroon",
          "Canada",
          "Chad",
          "Chile",
          "China",
          "Colombia",
          "Costa Rica",
          "Croatia",
          "Cuba",
          "Denmark",
          "Dominican Republic",
          "Ecuador",
          "Egypt",
          "El Salvador",
          "Eswatini",
          "Ethiopia",
          "Finland",
          "France",
          "Germany",
          "Ghana",
          "Greece",
          "Guatemala",
          "Guinea",
          "Honduras",
          "Hungary",
          "India",
          "Indonesia",
          "Iraq",
          "Ireland",
          "Israel",
          "Italy",
          "Japan",
          "Kazakhstan",
          "Kenya",
          "Kyrgyzstan",
          "Latvia",
          "Lithuania",
          "Madagascar",
          "Malawi",
          "Malaysia",
          "Mali",
          "Mexico",
          "Morocco",
          "Mozambique",
          "Myanmar",
          "Nepal",
          "New Zealand",
          "Nicaragua",
          "Niger",
          "Nigeria",
          "Norway",
          "Pakistan",
          "Panama",
          "Papua New Guinea",
          "Paraguay",
          "Peru",
          "Philippines",
          "Poland",
          "Portugal",
          "Romania",
          "Rwanda",
          "Saudi Arabia",
          "Senegal",
          "Serbia",
          "Sierra Leone",
          "Slovakia",
          "South Africa",
          "Spain",
          "Sri Lanka",
          "Sudan",
          "Sweden",
          "Switzerland",
          "Tajikistan",
          "Thailand",
          "Togo",
          "Tunisia",
          "Turkmenistan",
          "Uganda",
          "Ukraine",
          "United States of America",
          "Uruguay",
          "Uzbekistan",
          "Viet Nam",
          "Zambia",
          "Zimbabwe"
         ],
         "marker": {
          "cmax": 2.700368256616462,
          "cmin": 0.7632761720877571,
          "color": [
           1.5262385694587204,
           0.7912918614262335,
           1.6212563628107517,
           2.7343617895611514,
           1.1747353687736315,
           1.4184183334035758,
           0.8084910586478182,
           1.1621357724662675,
           1.132112596012979,
           2.2659671329353483,
           0.7905993675560569,
           1.2576614872131948,
           1.109928528379456,
           0.7847893550475586,
           2.3249349468603167,
           0.8264508113849103,
           1.8734645579258087,
           1.5687232580965025,
           1.9672313583571561,
           14.374038867313596,
           1.2707261518673338,
           0.820982867301571,
           1.882817110753128,
           0.48796844655359384,
           1.1121582478615804,
           1.0645753924781427,
           0.6608559232015473,
           1.0020810429545242,
           1.6047037282083363,
           0.7178600215271547,
           0.5546032896901354,
           0.3513751298396397,
           3.3169582672846887,
           2.5036532140450745,
           0.856437733066581,
           0.9613434353006958,
           0.34324485690848044,
           1.4233996273072747,
           0.42168771409037886,
           2.3792361896175547,
           1.1858212816031781,
           1.2196915161493398,
           0.7629666837447915,
           1.2008055999815543,
           2.966887605220945,
           1.9270271594535193,
           1.836909999475919,
           1.662134163793778,
           1.6369034473246138,
           1.2053829860423733,
           1.6349683225857523,
           0.9019527427201428,
           1.711268729571276,
           1.988065257560804,
           2.312507365480059,
           0.5907673161209982,
           0.8307624127335314,
           1.9227548453508616,
           0.9524852728809373,
           1.3905470597650573,
           4.167192561949562,
           2.714584103721251,
           1.1843643287833294,
           1.371497040767705,
           2.463226997436117,
           2.3088136728340998,
           0.8839629277846167,
           2.396395032799539,
           1.055056074081829,
           1.8854595425948557,
           3.166073390657191,
           3.167761570991225,
           2.4326942152559927,
           0.8929310533929249,
           1.1312142708371786,
           1.5307360601974351,
           0.8930698546737316,
           0.7952924158317431,
           3.7614464915884698,
           1.625690604632911,
           1.1153373458708387,
           1.430207901038529,
           0.7660615671744478,
           1.1604919471853707,
           0.8870792680817351,
           0.9232220546326686,
           3.3175184986997834,
           2.57242563267335,
           1.4931284302524175,
           0.9761722738242717,
           0.7303665456993599,
           1.23156141351279,
           1.218421223678728,
           1.9833998231920076,
           1.53678257982647,
           0.6325938942749538,
           1.0066129281830711,
           2.1583974106488792,
           1.1005074591080943,
           1.1313615743812657,
           4.81169179942892,
           1.7380725955834264
          ],
          "colorbar": {
           "len": 1,
           "orientation": "h",
           "thickness": 15,
           "tickangle": 0,
           "tickvals": [
            0.763,
            1.732,
            2.7
           ],
           "x": 0.5,
           "xanchor": "center",
           "y": -0.2,
           "yanchor": "bottom"
          },
          "colorscale": [
           [
            0,
            "#ffffcc"
           ],
           [
            0.25,
            "#ffcc66"
           ],
           [
            0.5,
            "#ff9933"
           ],
           [
            0.75,
            "#cc3300"
           ],
           [
            1,
            "#660000"
           ]
          ],
          "size": 5
         },
         "name": "Uitstoot per ton",
         "text": [
          "Afghanistan",
          "Albania",
          "Algeria",
          "Angola",
          "Argentina",
          "Australia",
          "Austria",
          "Azerbaijan",
          "Bangladesh",
          "Belarus",
          "Belgium",
          "Benin",
          "Brazil",
          "Bulgaria",
          "Burkina Faso",
          "Burundi",
          "Cambodia",
          "Cameroon",
          "Canada",
          "Chad",
          "Chile",
          "China",
          "Colombia",
          "Costa Rica",
          "Croatia",
          "Cuba",
          "Denmark",
          "Dominican Republic",
          "Ecuador",
          "Egypt",
          "El Salvador",
          "Eswatini",
          "Ethiopia",
          "Finland",
          "France",
          "Germany",
          "Ghana",
          "Greece",
          "Guatemala",
          "Guinea",
          "Honduras",
          "Hungary",
          "India",
          "Indonesia",
          "Iraq",
          "Ireland",
          "Israel",
          "Italy",
          "Japan",
          "Kazakhstan",
          "Kenya",
          "Kyrgyzstan",
          "Latvia",
          "Lithuania",
          "Madagascar",
          "Malawi",
          "Malaysia",
          "Mali",
          "Mexico",
          "Morocco",
          "Mozambique",
          "Myanmar",
          "Nepal",
          "New Zealand",
          "Nicaragua",
          "Niger",
          "Nigeria",
          "Norway",
          "Pakistan",
          "Panama",
          "Papua New Guinea",
          "Paraguay",
          "Peru",
          "Philippines",
          "Poland",
          "Portugal",
          "Romania",
          "Rwanda",
          "Saudi Arabia",
          "Senegal",
          "Serbia",
          "Sierra Leone",
          "Slovakia",
          "South Africa",
          "Spain",
          "Sri Lanka",
          "Sudan",
          "Sweden",
          "Switzerland",
          "Tajikistan",
          "Thailand",
          "Togo",
          "Tunisia",
          "Turkmenistan",
          "Uganda",
          "Ukraine",
          "United States of America",
          "Uruguay",
          "Uzbekistan",
          "Viet Nam",
          "Zambia",
          "Zimbabwe"
         ],
         "type": "scattergeo"
        }
       ],
       "layout": {
        "annotations": [
         {
          "font": {
           "size": 13
          },
          "showarrow": false,
          "text": "CO₂-uitstoot per ton landbouwproductie",
          "x": 0.5,
          "xanchor": "center",
          "xref": "paper",
          "y": -0.15,
          "yanchor": "bottom",
          "yref": "paper"
         },
         {
          "align": "center",
          "font": {
           "size": 12
          },
          "showarrow": false,
          "text": "Deze visualisatie toont de CO₂-uitstoot per ton landbouwproductie en relateert dit aan het milieubeleid van landen<br>zoals gemeten via de EPI-score. Alleen landen met voldoende landbouwproductie zijn meegenomen<br>(meer dan 5.000 kiloton productie en meer dan 50 kiloton uitstoot),<br>om vertekende resultaten door kleine landbouwlanden zoals Qatar te voorkomen.",
          "x": 0.5,
          "xanchor": "center",
          "xref": "paper",
          "y": -0.36,
          "yanchor": "bottom",
          "yref": "paper"
         }
        ],
        "geo": {
         "center": {
          "lat": 10,
          "lon": 10
         },
         "projection": {
          "scale": 1.3,
          "type": "equirectangular"
         },
         "showcoastlines": true,
         "showframe": false
        },
        "height": 710,
        "margin": {
         "b": 220,
         "l": 60,
         "r": 60,
         "t": 60
        },
        "template": {
         "data": {
          "bar": [
           {
            "error_x": {
             "color": "#2a3f5f"
            },
            "error_y": {
             "color": "#2a3f5f"
            },
            "marker": {
             "line": {
              "color": "#E5ECF6",
              "width": 0.5
             },
             "pattern": {
              "fillmode": "overlay",
              "size": 10,
              "solidity": 0.2
             }
            },
            "type": "bar"
           }
          ],
          "barpolar": [
           {
            "marker": {
             "line": {
              "color": "#E5ECF6",
              "width": 0.5
             },
             "pattern": {
              "fillmode": "overlay",
              "size": 10,
              "solidity": 0.2
             }
            },
            "type": "barpolar"
           }
          ],
          "carpet": [
           {
            "aaxis": {
             "endlinecolor": "#2a3f5f",
             "gridcolor": "white",
             "linecolor": "white",
             "minorgridcolor": "white",
             "startlinecolor": "#2a3f5f"
            },
            "baxis": {
             "endlinecolor": "#2a3f5f",
             "gridcolor": "white",
             "linecolor": "white",
             "minorgridcolor": "white",
             "startlinecolor": "#2a3f5f"
            },
            "type": "carpet"
           }
          ],
          "choropleth": [
           {
            "colorbar": {
             "outlinewidth": 0,
             "ticks": ""
            },
            "type": "choropleth"
           }
          ],
          "contour": [
           {
            "colorbar": {
             "outlinewidth": 0,
             "ticks": ""
            },
            "colorscale": [
             [
              0,
              "#0d0887"
             ],
             [
              0.1111111111111111,
              "#46039f"
             ],
             [
              0.2222222222222222,
              "#7201a8"
             ],
             [
              0.3333333333333333,
              "#9c179e"
             ],
             [
              0.4444444444444444,
              "#bd3786"
             ],
             [
              0.5555555555555556,
              "#d8576b"
             ],
             [
              0.6666666666666666,
              "#ed7953"
             ],
             [
              0.7777777777777778,
              "#fb9f3a"
             ],
             [
              0.8888888888888888,
              "#fdca26"
             ],
             [
              1,
              "#f0f921"
             ]
            ],
            "type": "contour"
           }
          ],
          "contourcarpet": [
           {
            "colorbar": {
             "outlinewidth": 0,
             "ticks": ""
            },
            "type": "contourcarpet"
           }
          ],
          "heatmap": [
           {
            "colorbar": {
             "outlinewidth": 0,
             "ticks": ""
            },
            "colorscale": [
             [
              0,
              "#0d0887"
             ],
             [
              0.1111111111111111,
              "#46039f"
             ],
             [
              0.2222222222222222,
              "#7201a8"
             ],
             [
              0.3333333333333333,
              "#9c179e"
             ],
             [
              0.4444444444444444,
              "#bd3786"
             ],
             [
              0.5555555555555556,
              "#d8576b"
             ],
             [
              0.6666666666666666,
              "#ed7953"
             ],
             [
              0.7777777777777778,
              "#fb9f3a"
             ],
             [
              0.8888888888888888,
              "#fdca26"
             ],
             [
              1,
              "#f0f921"
             ]
            ],
            "type": "heatmap"
           }
          ],
          "heatmapgl": [
           {
            "colorbar": {
             "outlinewidth": 0,
             "ticks": ""
            },
            "colorscale": [
             [
              0,
              "#0d0887"
             ],
             [
              0.1111111111111111,
              "#46039f"
             ],
             [
              0.2222222222222222,
              "#7201a8"
             ],
             [
              0.3333333333333333,
              "#9c179e"
             ],
             [
              0.4444444444444444,
              "#bd3786"
             ],
             [
              0.5555555555555556,
              "#d8576b"
             ],
             [
              0.6666666666666666,
              "#ed7953"
             ],
             [
              0.7777777777777778,
              "#fb9f3a"
             ],
             [
              0.8888888888888888,
              "#fdca26"
             ],
             [
              1,
              "#f0f921"
             ]
            ],
            "type": "heatmapgl"
           }
          ],
          "histogram": [
           {
            "marker": {
             "pattern": {
              "fillmode": "overlay",
              "size": 10,
              "solidity": 0.2
             }
            },
            "type": "histogram"
           }
          ],
          "histogram2d": [
           {
            "colorbar": {
             "outlinewidth": 0,
             "ticks": ""
            },
            "colorscale": [
             [
              0,
              "#0d0887"
             ],
             [
              0.1111111111111111,
              "#46039f"
             ],
             [
              0.2222222222222222,
              "#7201a8"
             ],
             [
              0.3333333333333333,
              "#9c179e"
             ],
             [
              0.4444444444444444,
              "#bd3786"
             ],
             [
              0.5555555555555556,
              "#d8576b"
             ],
             [
              0.6666666666666666,
              "#ed7953"
             ],
             [
              0.7777777777777778,
              "#fb9f3a"
             ],
             [
              0.8888888888888888,
              "#fdca26"
             ],
             [
              1,
              "#f0f921"
             ]
            ],
            "type": "histogram2d"
           }
          ],
          "histogram2dcontour": [
           {
            "colorbar": {
             "outlinewidth": 0,
             "ticks": ""
            },
            "colorscale": [
             [
              0,
              "#0d0887"
             ],
             [
              0.1111111111111111,
              "#46039f"
             ],
             [
              0.2222222222222222,
              "#7201a8"
             ],
             [
              0.3333333333333333,
              "#9c179e"
             ],
             [
              0.4444444444444444,
              "#bd3786"
             ],
             [
              0.5555555555555556,
              "#d8576b"
             ],
             [
              0.6666666666666666,
              "#ed7953"
             ],
             [
              0.7777777777777778,
              "#fb9f3a"
             ],
             [
              0.8888888888888888,
              "#fdca26"
             ],
             [
              1,
              "#f0f921"
             ]
            ],
            "type": "histogram2dcontour"
           }
          ],
          "mesh3d": [
           {
            "colorbar": {
             "outlinewidth": 0,
             "ticks": ""
            },
            "type": "mesh3d"
           }
          ],
          "parcoords": [
           {
            "line": {
             "colorbar": {
              "outlinewidth": 0,
              "ticks": ""
             }
            },
            "type": "parcoords"
           }
          ],
          "pie": [
           {
            "automargin": true,
            "type": "pie"
           }
          ],
          "scatter": [
           {
            "fillpattern": {
             "fillmode": "overlay",
             "size": 10,
             "solidity": 0.2
            },
            "type": "scatter"
           }
          ],
          "scatter3d": [
           {
            "line": {
             "colorbar": {
              "outlinewidth": 0,
              "ticks": ""
             }
            },
            "marker": {
             "colorbar": {
              "outlinewidth": 0,
              "ticks": ""
             }
            },
            "type": "scatter3d"
           }
          ],
          "scattercarpet": [
           {
            "marker": {
             "colorbar": {
              "outlinewidth": 0,
              "ticks": ""
             }
            },
            "type": "scattercarpet"
           }
          ],
          "scattergeo": [
           {
            "marker": {
             "colorbar": {
              "outlinewidth": 0,
              "ticks": ""
             }
            },
            "type": "scattergeo"
           }
          ],
          "scattergl": [
           {
            "marker": {
             "colorbar": {
              "outlinewidth": 0,
              "ticks": ""
             }
            },
            "type": "scattergl"
           }
          ],
          "scattermapbox": [
           {
            "marker": {
             "colorbar": {
              "outlinewidth": 0,
              "ticks": ""
             }
            },
            "type": "scattermapbox"
           }
          ],
          "scatterpolar": [
           {
            "marker": {
             "colorbar": {
              "outlinewidth": 0,
              "ticks": ""
             }
            },
            "type": "scatterpolar"
           }
          ],
          "scatterpolargl": [
           {
            "marker": {
             "colorbar": {
              "outlinewidth": 0,
              "ticks": ""
             }
            },
            "type": "scatterpolargl"
           }
          ],
          "scatterternary": [
           {
            "marker": {
             "colorbar": {
              "outlinewidth": 0,
              "ticks": ""
             }
            },
            "type": "scatterternary"
           }
          ],
          "surface": [
           {
            "colorbar": {
             "outlinewidth": 0,
             "ticks": ""
            },
            "colorscale": [
             [
              0,
              "#0d0887"
             ],
             [
              0.1111111111111111,
              "#46039f"
             ],
             [
              0.2222222222222222,
              "#7201a8"
             ],
             [
              0.3333333333333333,
              "#9c179e"
             ],
             [
              0.4444444444444444,
              "#bd3786"
             ],
             [
              0.5555555555555556,
              "#d8576b"
             ],
             [
              0.6666666666666666,
              "#ed7953"
             ],
             [
              0.7777777777777778,
              "#fb9f3a"
             ],
             [
              0.8888888888888888,
              "#fdca26"
             ],
             [
              1,
              "#f0f921"
             ]
            ],
            "type": "surface"
           }
          ],
          "table": [
           {
            "cells": {
             "fill": {
              "color": "#EBF0F8"
             },
             "line": {
              "color": "white"
             }
            },
            "header": {
             "fill": {
              "color": "#C8D4E3"
             },
             "line": {
              "color": "white"
             }
            },
            "type": "table"
           }
          ]
         },
         "layout": {
          "annotationdefaults": {
           "arrowcolor": "#2a3f5f",
           "arrowhead": 0,
           "arrowwidth": 1
          },
          "autotypenumbers": "strict",
          "coloraxis": {
           "colorbar": {
            "outlinewidth": 0,
            "ticks": ""
           }
          },
          "colorscale": {
           "diverging": [
            [
             0,
             "#8e0152"
            ],
            [
             0.1,
             "#c51b7d"
            ],
            [
             0.2,
             "#de77ae"
            ],
            [
             0.3,
             "#f1b6da"
            ],
            [
             0.4,
             "#fde0ef"
            ],
            [
             0.5,
             "#f7f7f7"
            ],
            [
             0.6,
             "#e6f5d0"
            ],
            [
             0.7,
             "#b8e186"
            ],
            [
             0.8,
             "#7fbc41"
            ],
            [
             0.9,
             "#4d9221"
            ],
            [
             1,
             "#276419"
            ]
           ],
           "sequential": [
            [
             0,
             "#0d0887"
            ],
            [
             0.1111111111111111,
             "#46039f"
            ],
            [
             0.2222222222222222,
             "#7201a8"
            ],
            [
             0.3333333333333333,
             "#9c179e"
            ],
            [
             0.4444444444444444,
             "#bd3786"
            ],
            [
             0.5555555555555556,
             "#d8576b"
            ],
            [
             0.6666666666666666,
             "#ed7953"
            ],
            [
             0.7777777777777778,
             "#fb9f3a"
            ],
            [
             0.8888888888888888,
             "#fdca26"
            ],
            [
             1,
             "#f0f921"
            ]
           ],
           "sequentialminus": [
            [
             0,
             "#0d0887"
            ],
            [
             0.1111111111111111,
             "#46039f"
            ],
            [
             0.2222222222222222,
             "#7201a8"
            ],
            [
             0.3333333333333333,
             "#9c179e"
            ],
            [
             0.4444444444444444,
             "#bd3786"
            ],
            [
             0.5555555555555556,
             "#d8576b"
            ],
            [
             0.6666666666666666,
             "#ed7953"
            ],
            [
             0.7777777777777778,
             "#fb9f3a"
            ],
            [
             0.8888888888888888,
             "#fdca26"
            ],
            [
             1,
             "#f0f921"
            ]
           ]
          },
          "colorway": [
           "#636efa",
           "#EF553B",
           "#00cc96",
           "#ab63fa",
           "#FFA15A",
           "#19d3f3",
           "#FF6692",
           "#B6E880",
           "#FF97FF",
           "#FECB52"
          ],
          "font": {
           "color": "#2a3f5f"
          },
          "geo": {
           "bgcolor": "white",
           "lakecolor": "white",
           "landcolor": "#E5ECF6",
           "showlakes": true,
           "showland": true,
           "subunitcolor": "white"
          },
          "hoverlabel": {
           "align": "left"
          },
          "hovermode": "closest",
          "mapbox": {
           "style": "light"
          },
          "paper_bgcolor": "white",
          "plot_bgcolor": "#E5ECF6",
          "polar": {
           "angularaxis": {
            "gridcolor": "white",
            "linecolor": "white",
            "ticks": ""
           },
           "bgcolor": "#E5ECF6",
           "radialaxis": {
            "gridcolor": "white",
            "linecolor": "white",
            "ticks": ""
           }
          },
          "scene": {
           "xaxis": {
            "backgroundcolor": "#E5ECF6",
            "gridcolor": "white",
            "gridwidth": 2,
            "linecolor": "white",
            "showbackground": true,
            "ticks": "",
            "zerolinecolor": "white"
           },
           "yaxis": {
            "backgroundcolor": "#E5ECF6",
            "gridcolor": "white",
            "gridwidth": 2,
            "linecolor": "white",
            "showbackground": true,
            "ticks": "",
            "zerolinecolor": "white"
           },
           "zaxis": {
            "backgroundcolor": "#E5ECF6",
            "gridcolor": "white",
            "gridwidth": 2,
            "linecolor": "white",
            "showbackground": true,
            "ticks": "",
            "zerolinecolor": "white"
           }
          },
          "shapedefaults": {
           "line": {
            "color": "#2a3f5f"
           }
          },
          "ternary": {
           "aaxis": {
            "gridcolor": "white",
            "linecolor": "white",
            "ticks": ""
           },
           "baxis": {
            "gridcolor": "white",
            "linecolor": "white",
            "ticks": ""
           },
           "bgcolor": "#E5ECF6",
           "caxis": {
            "gridcolor": "white",
            "linecolor": "white",
            "ticks": ""
           }
          },
          "title": {
           "x": 0.05
          },
          "xaxis": {
           "automargin": true,
           "gridcolor": "white",
           "linecolor": "white",
           "ticks": "",
           "title": {
            "standoff": 15
           },
           "zerolinecolor": "white",
           "zerolinewidth": 2
          },
          "yaxis": {
           "automargin": true,
           "gridcolor": "white",
           "linecolor": "white",
           "ticks": "",
           "title": {
            "standoff": 15
           },
           "zerolinecolor": "white",
           "zerolinewidth": 2
          }
         }
        },
        "title": {
         "font": {
          "size": 16
         },
         "text": "CO₂-uitstoot per ton landbouwproductie en milieubeleid (EPI-score) per land (2022)"
        },
        "width": 1100
       }
      }
     },
     "metadata": {},
     "output_type": "display_data"
    },
    {
     "data": {
      "text/plain": [
       "{'tags': ['hide-input']}"
      ]
     },
     "execution_count": 1,
     "metadata": {},
     "output_type": "execute_result"
    }
   ],
   "source": [
    "import pandas as pd\n",
    "import plotly.graph_objects as go\n",
    "\n",
    "# Data inladen\n",
    "emissies = pd.read_csv(\"FAOSTAT_landbouw_emissies_2022.csv\")\n",
    "productie = pd.read_csv(\"FAOSTAT_landbouw_productie_2022.csv\")\n",
    "epi = pd.read_csv(\"epi2022results05302022.csv\")\n",
    "\n",
    "# Emissies per land (in kiloton)\n",
    "emissie_per_land = emissies.groupby(\"Area\")[\"Value\"].sum().reset_index()\n",
    "emissie_per_land.columns = [\"Country\", \"Emissions_kt\"]\n",
    "\n",
    "# Productie per land (in ton omzetten naar kiloton)\n",
    "productie_per_land = productie.groupby(\"Area\")[\"Value\"].sum().reset_index()\n",
    "productie_per_land.columns = [\"Country\", \"Production_ton\"]\n",
    "productie_per_land[\"Production_kt\"] = productie_per_land[\"Production_ton\"] / 1000\n",
    "\n",
    "# Combineren en uitstoot per ton berekenen\n",
    "combined = pd.merge(emissie_per_land, productie_per_land, on=\"Country\")\n",
    "combined[\"Emissions_per_ton\"] = combined[\"Emissions_kt\"] / combined[\"Production_kt\"]\n",
    "\n",
    "# EPI-score koppelen\n",
    "epi = epi.rename(columns={\"country\": \"Country\", \"EPI.new\": \"EPI_Score\"})\n",
    "final = pd.merge(combined, epi[[\"Country\", \"EPI_Score\"]], on=\"Country\")\n",
    "\n",
    "# Filter landen met voldoende landbouwactiviteit\n",
    "final = final[(final[\"Production_kt\"] > 5000) & (final[\"Emissions_kt\"] > 50)]\n",
    "\n",
    "# Percentielen voor kleurcontrast\n",
    "p10 = final[\"Emissions_per_ton\"].quantile(0.10)\n",
    "p90 = final[\"Emissions_per_ton\"].quantile(0.90)\n",
    "\n",
    "# Achtergrondkaart: EPI-score\n",
    "choropleth = go.Choropleth(\n",
    "    locations=final[\"Country\"],\n",
    "    locationmode=\"country names\",\n",
    "    z=final[\"EPI_Score\"],\n",
    "    colorscale=\"YlGn\",\n",
    "    zmin=0,\n",
    "    zmax=100,\n",
    "    showscale=True,\n",
    "    colorbar=dict(\n",
    "        title=\"EPI Score\",\n",
    "        x=1.01,\n",
    "        len=0.6\n",
    "    )\n",
    ")\n",
    "\n",
    "# Puntenkaart: CO₂-uitstoot per ton landbouwproductie\n",
    "scatter = go.Scattergeo(\n",
    "    locationmode='country names',\n",
    "    locations=final[\"Country\"],\n",
    "    text=final[\"Country\"],\n",
    "    marker=dict(\n",
    "        size=5,\n",
    "        color=final[\"Emissions_per_ton\"],\n",
    "        colorscale=[\"#ffffcc\", \"#ffcc66\", \"#ff9933\", \"#cc3300\", \"#660000\"],\n",
    "        cmin=p10,\n",
    "        cmax=p90,\n",
    "        colorbar=dict(\n",
    "            title=None,\n",
    "            orientation='h',\n",
    "            x=0.5,\n",
    "            xanchor=\"center\",\n",
    "            y=-0.2,\n",
    "            yanchor=\"bottom\",\n",
    "            len=1.0,\n",
    "            thickness=15,\n",
    "            tickangle=0,\n",
    "            tickvals=[\n",
    "                round(p10, 3),\n",
    "                round((p10 + p90) / 2, 3),\n",
    "                round(p90, 3)\n",
    "            ]\n",
    "        )\n",
    "    ),\n",
    "    name=\"Uitstoot per ton\"\n",
    ")\n",
    "\n",
    "# Visualisatie samenstellen\n",
    "fig = go.Figure(data=[choropleth, scatter])\n",
    "fig.update_layout(\n",
    "    title=\"CO₂-uitstoot per ton landbouwproductie en milieubeleid (EPI-score) per land (2022)\",\n",
    "    title_font=dict(size=16),\n",
    "    geo=dict(\n",
    "        showframe=False,\n",
    "        showcoastlines=True,\n",
    "        projection_type='equirectangular',\n",
    "        projection_scale=1.3,\n",
    "        center=dict(lat=10, lon=10)\n",
    "    ),\n",
    "    height=710,\n",
    "    width=1100,\n",
    "    margin=dict(t=60, b=220, r=60, l=60),\n",
    "    annotations=[\n",
    "        # Titel boven de kleurenschaal\n",
    "        dict(\n",
    "            text=\"CO₂-uitstoot per ton landbouwproductie\",\n",
    "            showarrow=False,\n",
    "            xref='paper',\n",
    "            yref='paper',\n",
    "            x=0.5,\n",
    "            y=-0.15,\n",
    "            xanchor='center',\n",
    "            yanchor='bottom',\n",
    "            font=dict(size=13)\n",
    "        ),\n",
    "        # Toelichting onderaan\n",
    "        dict(\n",
    "            text=(\n",
    "                \"Deze visualisatie toont de CO₂-uitstoot per ton landbouwproductie en relateert dit aan het milieubeleid van landen<br>\"\n",
    "                \"zoals gemeten via de EPI-score. Alleen landen met voldoende landbouwproductie zijn meegenomen<br>\"\n",
    "                \"(meer dan 5.000 kiloton productie en meer dan 50 kiloton uitstoot),<br>\"\n",
    "                \"om vertekende resultaten door kleine landbouwlanden zoals Qatar te voorkomen.\"\n",
    "            ),\n",
    "            showarrow=False,\n",
    "            xref='paper',\n",
    "            yref='paper',\n",
    "            x=0.5,\n",
    "            y=-0.36,\n",
    "            xanchor='center',\n",
    "            yanchor='bottom',\n",
    "            align='center',\n",
    "            font=dict(size=12)\n",
    "        )\n",
    "    ]\n",
    ")\n",
    "\n",
    "fig.show()\n"
   ]
  },
  {
   "attachments": {},
   "cell_type": "markdown",
   "id": "0737d42a",
   "metadata": {},
   "source": [
    "De visualisatie laat duidelijk zien dat landen met een hoge EPI-score, wat wijst op sterker milieubeleid, gemiddeld minder CO₂ uitstoten per ton landbouwproductie. Dit is goed te zien bij landen als Zwitserland, Duitsland en Nieuw-Zeeland. Deze landen zijn donkergroen gekleurd, wat duidt op een hoog milieubeleidsscore, en hebben lichtere stippen, wat betekent dat hun uitstoot per ton landbouwproductie relatief laag is.\n",
    "\n",
    "Landen met lage EPI-scores, zoals India, Pakistan, Nigeria en Kenya, vallen juist op door hun lichtere achtergrondkleur in combinatie met donkergekleurde stippen. Dit betekent dat deze landen minder streng milieubeleid voeren en tegelijkertijd relatief veel uitstoten per ton landbouwproductie. Dit patroon ondersteunt sterk het idee dat strenger milieubeleid samenhangt met duurzamere landbouw.\n",
    "\n",
    "Een opvallende uitzondering vormen sommige Scandinavische landen, zoals Zweden en Finland. Zij scoren hoog op milieubeleid en zijn dus donkergroen op de kaart, maar hebben toch relatief donkere stippen. Dat betekent dat hun uitstoot per ton landbouwproductie hoger ligt dan je op basis van hun EPI-score zou verwachten. Toch zijn dit uitzonderingen op een veel duidelijker en bredere trend: landen met beter milieubeleid produceren landbouw gemiddeld op een schonere en efficiëntere manier."
   ]
  },
  {
   "attachments": {},
   "cell_type": "markdown",
   "id": "d164634f",
   "metadata": {},
   "source": []
  },
  {
   "attachments": {},
   "cell_type": "markdown",
   "id": "224e77c5",
   "metadata": {},
   "source": [
    "## Dataset and preprocessing\n",
    "\n",
    "Voor deze visualisatie hebben we drie datasets uit 2022 gecombineerd die samen een goed beeld geven van landbouw en milieubeleid wereldwijd:\n",
    "\n",
    "FAOSTAT Landbouwemissies: toont per land hoeveel broeikasgassen er in de landbouwsector worden uitgestoten.\n",
    "\n",
    "FAOSTAT Landbouwproductie – geeft inzicht in hoeveel landbouwproducten landen produceren (in tonnen).\n",
    "\n",
    "Environmental Performance Index (EPI) – een internationale score die laat zien hoe goed landen het doen op het gebied van milieubeleid.\n",
    "\n",
    "### Doel van de preprocessing\n",
    "\n",
    "We wilden niet alleen kijken naar hoeveel CO₂ een land uitstoot, maar juist naar hoe duurzaam die uitstoot is in verhouding tot wat er geproduceerd wordt. Daarom focust deze visualisatie niet op de totale uitstoot, maar op de uitstoot per geproduceerde ton landbouwproduct. Zo zie je niet alleen wie veel produceert, maar vooral wie dat op een relatief schone of juist vervuilende manier doet. Dat maakt het mogelijk om landen van verschillende omvang op een eerlijke manier met elkaar te vergelijken.\n",
    "\n",
    "### Stappen in het verwerkingsproces\n",
    "\n",
    "1. **Aggregatie per land**  \n",
    "   Zowel de emissie- als productiedata bevatten waarden per landbouwproduct of subcategorie. In de eerste stap zijn deze gegevens samengevoegd tot een totaal per land:\n",
    "   - Emissies zijn opgeteld in *kiloton CO₂-equivalenten*.\n",
    "   - Productie is omgerekend van *ton* naar *kiloton*, zodat beide datasets dezelfde schaal gebruiken.\n",
    "\n",
    "2. **Berekening van uitstoot per ton landbouwproductie**  \n",
    "   Na aggregatie is per land de verhouding berekend tussen totale uitstoot en totale productie:\n",
    "   \\[\n",
    "   \\text{uitstoot per ton} = \\frac{\\text{totale uitstoot (kt)}}{\\text{totale productie (kt)}}\n",
    "   \\]\n",
    "   Deze indicator biedt een genuanceerder beeld dan absolute cijfers: een groot landbouwland met hoge uitstoot én hoge productie kan per ton relatief schoon zijn.\n",
    "\n",
    "3. **Koppeling aan de EPI-score**  \n",
    "   De gecombineerde dataset is vervolgens verrijkt met de EPI-score per land. Deze score geeft inzicht in hoe goed een land scoort op aspecten als milieubeleid, luchtkwaliteit, biodiversiteit en klimaatadaptatie. Zo kan de relatie tussen **duurzaam beleid en efficiëntie** van landbouwemissies worden geanalyseerd.\n",
    "\n",
    "4. **Filtering van landen**  \n",
    "   Om vertekening in de resultaten te voorkomen, zijn alleen landen meegenomen die:\n",
    "   - minstens **5.000 kiloton aan landbouwproductie** rapporteren, én\n",
    "   - minstens **50 kiloton aan landbouwuitstoot** hebben.\n",
    "   Zo worden kleine landbouwlanden zoals Qatar uitgesloten, omdat die bij relatief kleine absolute cijfers tot extreem vertekende ratios kunnen leiden.\n",
    "\n",
    "### Opbouw van de visualisatie\n",
    "\n",
    "De uiteindelijke kaart bevat twee informatielagen:\n",
    "\n",
    "- De **achtergrondkleur** (in groentinten) laat de EPI-score van elk land zien: hoe groener, hoe beter het milieubeleid.\n",
    "- De **gekleurde stippen** geven de CO₂-uitstoot per ton landbouwproductie aan. Deze kleuren zijn gebaseerd op percentielen (10%–90%) om uitschieters minder dominant te maken.\n",
    "\n",
    "Door deze twee dimensies te combineren, wordt zichtbaar welke landen erin slagen om sterk milieubeleid te combineren met een efficiënte landbouwsector — en welke landen daar juist in achterblijven.\n"
   ]
  },
  {
   "attachments": {},
   "cell_type": "markdown",
   "id": "33bdd664",
   "metadata": {},
   "source": [
    "### Argument 2: Landen die duurzaamheid belonen (via subsidies) in landbouwsubsidies stoten minder uit (per hectare)\n",
    "\n",
    "Niet alleen milieuregels zijn belangrijk, maar ook geld speelt een grote rol. Overheden sturen landbouw niet alleen met wetten en regels, maar ook met subsidies. In sommige landen zijn die subsidies gekoppeld aan duurzaamheid: boeren krijgen bijvoorbeeld alleen steun als ze milieuvriendelijk werken, hun CO₂-uitstoot beperken of bijdragen aan biodiversiteit. In andere landen vloeit het meeste subsidiegeld juist nog steeds naar vervuilende vormen van landbouw, zoals intensieve veehouderij.\n",
    "\n",
    "In deze visualisatie vergelijken we per land het aandeel duurzame en niet-duurzame subsidies. Daarnaast kijken we naar hoeveel CO₂ er wordt uitgestoten per hectare landbouwgrond. Op die manier maken we zichtbaar dat landen die hun subsidies richten op duurzaamheid, gemiddeld ook schoner produceren."
   ]
  }
 ],
 "metadata": {
  "kernelspec": {
   "display_name": "base",
   "language": "python",
   "name": "python3"
  },
  "language_info": {
   "codemirror_mode": {
    "name": "ipython",
    "version": 3
   },
   "file_extension": ".py",
   "mimetype": "text/x-python",
   "name": "python",
   "nbconvert_exporter": "python",
   "pygments_lexer": "ipython3",
   "version": "3.12.7"
  }
 },
 "nbformat": 4,
 "nbformat_minor": 5
}
