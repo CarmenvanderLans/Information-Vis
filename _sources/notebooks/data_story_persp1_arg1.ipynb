{
 "cells": [
  {
   "attachments": {},
   "cell_type": "markdown",
   "id": "860fd4ef",
   "metadata": {},
   "source": [
    "# Perspectief 1: Verschillen in milieubeleid verklaren verschillen in landbouwuitstoot\n",
    "\n",
    "De uitstoot van de landbouwsector verschilt sterk tussen landen. In dit perspectief onderzoeken we hoe beleidskeuzes zoals milieuregels en landbouwsubsidies bijdragen aan die verschillen. We gebruiken internationale data om te analyseren welke landen efficiënt produceren en welke landen vervuilende landbouw blijven stimuleren.\n"
   ]
  },
  {
   "attachments": {},
   "cell_type": "markdown",
   "id": "1547d891",
   "metadata": {},
   "source": [
    "### Argument 1: Landen met strenger milieubeleid stoten gemiddeld minder CO₂ uit per ton landbouwproductie.\n",
    "\n",
    "\n",
    "\n",
    "Landen verschillen sterk in hoe streng hun milieubeleid is. In sommige landen gelden duidelijke regels voor het gebruik van kunstmest, mestverwerking of methaanuitstoot. Andere landen leggen nauwelijks beperkingen op aan de landbouwsector. De aanname is dat streng milieubeleid boeren aanzet tot efficiëntere en schonere productie.\n",
    "\n",
    "We gebruiken de Environmental Performance Index (EPI) als indicator voor hoe actief landen hun milieubeleid invullen. Deze score wordt jaarlijks gepubliceerd en kijkt onder andere naar klimaatmaatregelen, landbouwimpact en duurzaamheid van het landgebruik. Door deze scores te koppelen aan uitstootcijfers uit de landbouwsector (in verhouding tot de hoeveelheid geproduceerd voedsel), kunnen we zien of beleid echt effect heeft.\n",
    "\n",
    "In onderstaande kaart combineren we beide datasets: de kleur laat zien hoe goed een land scoort op milieubeleid, terwijl de grootte van de cirkel aangeeft hoeveel CO₂-uitstoot er vrijkomt per ton voedsel dat wordt geproduceerd."
   ]
  },
  {
   "attachments": {},
   "cell_type": "markdown",
   "id": "0737d42a",
   "metadata": {},
   "source": [
    "Een deel van de verschillen in uitstoot per ton voedsel tussen landen lijkt te verklaren door verschillen in milieubeleid. Landen met een hoge EPI-score (een maat voor hoe goed het milieubeleid is) hebben op deze kaart vaak kleine blauwe bubbels. Dat betekent dat ze relatief weinig CO₂ uitstoten per ton geproduceerd voedsel.\n",
    "\n",
    "Wat opvalt, is dat landen met veel uitstoot meestal ook een lage EPI-score hebben. Dat patroon lijkt erop te wijzen dat landen met minder streng milieubeleid gemiddeld minder duurzaam of efficiënt produceren. Tegelijkertijd is het belangrijk om te bedenken dat ook andere dingen invloed hebben, zoals technologie, geld en de manier waarop de landbouw in een land is georganiseerd.\n",
    "\n",
    "Toch laat de kaart duidelijk zien dat landen met strenger beleid, zoals Zwitserland of Noorwegen, niet alleen goed scoren op milieugebied, maar ook hun landbouwuitstoot laag houden. Dat ondersteunt het idee dat milieubeleid echt verschil kan maken in hoe duurzaam voedsel wordt geproduceerd.\n",
    "\n",
    "Ook al bewijst dit nog niet dat beleid de oorzaak is, de visualisatie is wel een sterk beginpunt om verder te onderzoeken hoe beleid en milieueffecten met elkaar samenhangen."
   ]
  },
  {
   "attachments": {},
   "cell_type": "markdown",
   "id": "33bdd664",
   "metadata": {},
   "source": [
    "### Argument 2: Landen die duurzaamheid belonen (via subsidies) in landbouwsubsidies stoten minder uit (per hectare)\n",
    "\n",
    "Niet alleen milieuregels zijn belangrijk, maar ook geld speelt een grote rol. Overheden sturen landbouw niet alleen met wetten en regels, maar ook met subsidies. In sommige landen zijn die subsidies gekoppeld aan duurzaamheid: boeren krijgen bijvoorbeeld alleen steun als ze milieuvriendelijk werken, hun CO₂-uitstoot beperken of bijdragen aan biodiversiteit. In andere landen vloeit het meeste subsidiegeld juist nog steeds naar vervuilende vormen van landbouw, zoals intensieve veehouderij.\n",
    "\n",
    "In deze visualisatie vergelijken we per land het aandeel duurzame en niet-duurzame subsidies. Daarnaast kijken we naar hoeveel CO₂ er wordt uitgestoten per hectare landbouwgrond. Op die manier maken we zichtbaar dat landen die hun subsidies richten op duurzaamheid, gemiddeld ook schoner produceren."
   ]
  },
  {
   "cell_type": "code",
   "execution_count": 2,
   "id": "faa9a85b",
   "metadata": {},
   "outputs": [
    {
     "data": {
      "application/vnd.plotly.v1+json": {
       "config": {
        "plotlyServerURL": "https://plot.ly"
       },
       "data": [
        {
         "colorbar": {
          "len": 0.6,
          "title": {
           "text": "EPI Score"
          },
          "x": 1.02
         },
         "colorscale": [
          [
           0,
           "rgb(255,255,229)"
          ],
          [
           0.125,
           "rgb(247,252,185)"
          ],
          [
           0.25,
           "rgb(217,240,163)"
          ],
          [
           0.375,
           "rgb(173,221,142)"
          ],
          [
           0.5,
           "rgb(120,198,121)"
          ],
          [
           0.625,
           "rgb(65,171,93)"
          ],
          [
           0.75,
           "rgb(35,132,67)"
          ],
          [
           0.875,
           "rgb(0,104,55)"
          ],
          [
           1,
           "rgb(0,69,41)"
          ]
         ],
         "locationmode": "country names",
         "locations": [
          "Afghanistan",
          "Albania",
          "Algeria",
          "Angola",
          "Argentina",
          "Australia",
          "Austria",
          "Azerbaijan",
          "Bangladesh",
          "Belarus",
          "Belgium",
          "Benin",
          "Brazil",
          "Bulgaria",
          "Burkina Faso",
          "Burundi",
          "Cambodia",
          "Cameroon",
          "Canada",
          "Chad",
          "Chile",
          "China",
          "Colombia",
          "Costa Rica",
          "Croatia",
          "Cuba",
          "Denmark",
          "Dominican Republic",
          "Ecuador",
          "Egypt",
          "El Salvador",
          "Eswatini",
          "Ethiopia",
          "Finland",
          "France",
          "Germany",
          "Ghana",
          "Greece",
          "Guatemala",
          "Guinea",
          "Honduras",
          "Hungary",
          "India",
          "Indonesia",
          "Iraq",
          "Ireland",
          "Israel",
          "Italy",
          "Japan",
          "Kazakhstan",
          "Kenya",
          "Kyrgyzstan",
          "Latvia",
          "Lithuania",
          "Madagascar",
          "Malawi",
          "Malaysia",
          "Mali",
          "Mexico",
          "Morocco",
          "Mozambique",
          "Myanmar",
          "Nepal",
          "New Zealand",
          "Nicaragua",
          "Niger",
          "Nigeria",
          "Norway",
          "Pakistan",
          "Panama",
          "Papua New Guinea",
          "Paraguay",
          "Peru",
          "Philippines",
          "Poland",
          "Portugal",
          "Romania",
          "Rwanda",
          "Saudi Arabia",
          "Senegal",
          "Serbia",
          "Sierra Leone",
          "Slovakia",
          "South Africa",
          "Spain",
          "Sri Lanka",
          "Sudan",
          "Sweden",
          "Switzerland",
          "Tajikistan",
          "Thailand",
          "Togo",
          "Tunisia",
          "Turkmenistan",
          "Uganda",
          "Ukraine",
          "United States of America",
          "Uruguay",
          "Uzbekistan",
          "Viet Nam",
          "Zambia",
          "Zimbabwe"
         ],
         "showscale": true,
         "type": "choropleth",
         "z": {
          "bdata": "zczMzMzMRUDNzMzMzIxHQJqZmZmZmT1AAAAAAACAPkDNzMzMzIxEQM3MzMzMDE5AAAAAAACgUEDNzMzMzExDQJqZmZmZGTdAAAAAAABASECamZmZmRlNQJqZmZmZmT1AzczMzMzMRUAzMzMzM/NJQAAAAAAAwEFAAAAAAACAPkCamZmZmRk+QDMzMzMzMz5AAAAAAAAASUCamZmZmRk8QJqZmZmZWUdAZmZmZmZmPEAzMzMzMzNFQGZmZmZmJkdAmpmZmZkZTkAAAAAAAMBHQJqZmZmZeVNAmpmZmZkZRUAAAAAAAEBHQAAAAAAAwEFAZmZmZmZmREAzMzMzM3NGQM3MzMzMzD9AAAAAAAAgU0AAAAAAAEBPQDMzMzMzM09AMzMzMzOzO0CamZmZmRlMQAAAAAAAADxAmpmZmZmZP0AAAAAAAEBCQM3MzMzMjEtAZmZmZmbmMkAzMzMzMzM8QM3MzMzMzDtAMzMzMzOzTECamZmZmRlIQJqZmZmZ2UxAmpmZmZmZTEAzMzMzM3NEQM3MzMzMzD5AmpmZmZnZQUDNzMzMzIxOQDMzMzMz80tAAAAAAAAAPEDNzMzMzExEQAAAAAAAgEFAAAAAAACAPEAAAAAAAMBGQGZmZmZmZjxAMzMzMzOzP0BmZmZmZmYzQM3MzMzMTDxAmpmZmZlZTECamZmZmdlCQJqZmZmZ2UJAzczMzMxMPEBmZmZmZqZNQJqZmZmZmThAAAAAAABASUDNzMzMzMw4QDMzMzMzc0RAZmZmZmbmQ0BmZmZmZuY8QM3MzMzMTElAMzMzMzMzSUAAAAAAAABMQGZmZmZmZkBAMzMzMzPzQkAzMzMzM/NAQDMzMzMz80VAmpmZmZlZQEAAAAAAAABOQJqZmZmZmUJAzczMzMxMTECamZmZmVlBQJqZmZmZmTtAzczMzMwsUkCamZmZmXlQQM3MzMzMjEJAzczMzMwMQ0AAAAAAAABBQJqZmZmZWURAAAAAAACAQkBmZmZmZuZBQM3MzMzMzEhAzczMzMyMSUAzMzMzM7NCQJqZmZmZGUNAmpmZmZkZNEAzMzMzMzNDQJqZmZmZGUdA",
          "dtype": "f8"
         },
         "zmax": 100,
         "zmin": 0
        },
        {
         "locationmode": "country names",
         "locations": [
          "Afghanistan",
          "Albania",
          "Algeria",
          "Angola",
          "Argentina",
          "Australia",
          "Austria",
          "Azerbaijan",
          "Bangladesh",
          "Belarus",
          "Belgium",
          "Benin",
          "Brazil",
          "Bulgaria",
          "Burkina Faso",
          "Burundi",
          "Cambodia",
          "Cameroon",
          "Canada",
          "Chad",
          "Chile",
          "China",
          "Colombia",
          "Costa Rica",
          "Croatia",
          "Cuba",
          "Denmark",
          "Dominican Republic",
          "Ecuador",
          "Egypt",
          "El Salvador",
          "Eswatini",
          "Ethiopia",
          "Finland",
          "France",
          "Germany",
          "Ghana",
          "Greece",
          "Guatemala",
          "Guinea",
          "Honduras",
          "Hungary",
          "India",
          "Indonesia",
          "Iraq",
          "Ireland",
          "Israel",
          "Italy",
          "Japan",
          "Kazakhstan",
          "Kenya",
          "Kyrgyzstan",
          "Latvia",
          "Lithuania",
          "Madagascar",
          "Malawi",
          "Malaysia",
          "Mali",
          "Mexico",
          "Morocco",
          "Mozambique",
          "Myanmar",
          "Nepal",
          "New Zealand",
          "Nicaragua",
          "Niger",
          "Nigeria",
          "Norway",
          "Pakistan",
          "Panama",
          "Papua New Guinea",
          "Paraguay",
          "Peru",
          "Philippines",
          "Poland",
          "Portugal",
          "Romania",
          "Rwanda",
          "Saudi Arabia",
          "Senegal",
          "Serbia",
          "Sierra Leone",
          "Slovakia",
          "South Africa",
          "Spain",
          "Sri Lanka",
          "Sudan",
          "Sweden",
          "Switzerland",
          "Tajikistan",
          "Thailand",
          "Togo",
          "Tunisia",
          "Turkmenistan",
          "Uganda",
          "Ukraine",
          "United States of America",
          "Uruguay",
          "Uzbekistan",
          "Viet Nam",
          "Zambia",
          "Zimbabwe"
         ],
         "marker": {
          "cmax": 2.700368256616462,
          "cmin": 0.7632761720877571,
          "color": {
           "bdata": "JIFbInlr+D8XVU1PQ1LpP/NDC4Oq8Pk/BsfsEvnfBUBdZWVQt8vyPzA+IGzXsfY/iAYApCjf6T+uEQSuG5jyPxk/9BgiHfI/SSVOYLMgAkCPh3wLl0zpP3BP0KZhH/Q/QZikakTC8T/Ks8WQ/hzpP4+9UH53mQJAzNPU+Ehy6j9nGuj4tfn9Pxf8H499Gfk/S/S8lsd5/z/tFr0Fgr8sQPUSB/LkVPQ/qV603H1F6j/VirDVBCD+P/Rd2wHgOt8/paxocmbL8T+rHu00gAjxP9OXMFK7JeU/aea2IYYI8D8FyQbR3az5P1wUcpS1+OY/AiTvZU+/4T8Uf9Ic7nzWP/15gWohiQpAg8oWVnsHBEBdmtIa8GfrP6zn2k5Tw+4/v0u8Rrn31T/5xQawPsb2P8opSXfu/No/ue+++6wIA0DtLna8H/nyPwIfUUDbg/M/9OJTGzlq6D8VZMzufzbzP1ynmpEvvAdAz7RFbhrV/j93HFe9+2P9P/bvMP4ZmPo/g4BPq8Ew+j8gT4OrP0nzP08HOIvUKPo/EKiQ/8vc7D9N0cJRW2H7P3qZ+IMdz/8/wfeT3AOAAkDXIcnbkOfiP2T4LQ6bleo/rB6wlZrD/j+VPx5lwnruP4vWE0auP/Y/z9TmhjSrEEBBy93ed7cFQDbGqgIo8/I/doeK4abx9T8x5iRbsLQDQHMKi01zeAJAScM2n2xJ7D/wXbEo0SsDQLAKWnqC4fA/MgQWoNcq/j8k3ixJHlQJQJF252CTVwlAAYt9Yih2A0Bi+fwk5JLsPwk6oCJ0GfI/prFVGOV9+D+xv1s7B5TsPygimBQJc+k/GjYYQnEXDkBOAcUm1AL6P/NcCPlr2PE/gg8XriHi9j+LkzeMk4PoP6HrBgFgkfI/hdyrD/Ri7D/M+3L6CIvtPyBTfiNHigpADsvd41OUBEBZlwqj2uP3P2DK6qLNPO8/M+F7qSlf5z/y2KC9ebTzPy89x0CnfvM/mQf4cwG8/z/YrJZUqZb4Pzrt8Yw1PuQ/825kKBYb8D9sEJTcZUQBQCH5nbWtm/E/nrIemA4a8j8X6pMiLD8TQKaswTUlz/s/",
           "dtype": "f8"
          },
          "colorbar": {
           "len": 1,
           "thickness": 20,
           "tickangle": 0,
           "tickvals": [
            0.763,
            1.732,
            2.7
           ],
           "title": {
            "text": "CO₂-uitstoot per ton landbouwproductie"
           },
           "x": 0.5,
           "xanchor": "center",
           "y": -0.12
          },
          "colorscale": [
           [
            0,
            "#ffffcc"
           ],
           [
            0.25,
            "#ffcc66"
           ],
           [
            0.5,
            "#ff9933"
           ],
           [
            0.75,
            "#cc3300"
           ],
           [
            1,
            "#660000"
           ]
          ],
          "size": 4
         },
         "name": "Uitstoot per ton",
         "text": [
          "Afghanistan",
          "Albania",
          "Algeria",
          "Angola",
          "Argentina",
          "Australia",
          "Austria",
          "Azerbaijan",
          "Bangladesh",
          "Belarus",
          "Belgium",
          "Benin",
          "Brazil",
          "Bulgaria",
          "Burkina Faso",
          "Burundi",
          "Cambodia",
          "Cameroon",
          "Canada",
          "Chad",
          "Chile",
          "China",
          "Colombia",
          "Costa Rica",
          "Croatia",
          "Cuba",
          "Denmark",
          "Dominican Republic",
          "Ecuador",
          "Egypt",
          "El Salvador",
          "Eswatini",
          "Ethiopia",
          "Finland",
          "France",
          "Germany",
          "Ghana",
          "Greece",
          "Guatemala",
          "Guinea",
          "Honduras",
          "Hungary",
          "India",
          "Indonesia",
          "Iraq",
          "Ireland",
          "Israel",
          "Italy",
          "Japan",
          "Kazakhstan",
          "Kenya",
          "Kyrgyzstan",
          "Latvia",
          "Lithuania",
          "Madagascar",
          "Malawi",
          "Malaysia",
          "Mali",
          "Mexico",
          "Morocco",
          "Mozambique",
          "Myanmar",
          "Nepal",
          "New Zealand",
          "Nicaragua",
          "Niger",
          "Nigeria",
          "Norway",
          "Pakistan",
          "Panama",
          "Papua New Guinea",
          "Paraguay",
          "Peru",
          "Philippines",
          "Poland",
          "Portugal",
          "Romania",
          "Rwanda",
          "Saudi Arabia",
          "Senegal",
          "Serbia",
          "Sierra Leone",
          "Slovakia",
          "South Africa",
          "Spain",
          "Sri Lanka",
          "Sudan",
          "Sweden",
          "Switzerland",
          "Tajikistan",
          "Thailand",
          "Togo",
          "Tunisia",
          "Turkmenistan",
          "Uganda",
          "Ukraine",
          "United States of America",
          "Uruguay",
          "Uzbekistan",
          "Viet Nam",
          "Zambia",
          "Zimbabwe"
         ],
         "type": "scattergeo"
        }
       ],
       "layout": {
        "geo": {
         "projection": {
          "type": "equirectangular"
         },
         "showcoastlines": true,
         "showframe": false
        },
        "height": 550,
        "template": {
         "data": {
          "bar": [
           {
            "error_x": {
             "color": "#2a3f5f"
            },
            "error_y": {
             "color": "#2a3f5f"
            },
            "marker": {
             "line": {
              "color": "#E5ECF6",
              "width": 0.5
             },
             "pattern": {
              "fillmode": "overlay",
              "size": 10,
              "solidity": 0.2
             }
            },
            "type": "bar"
           }
          ],
          "barpolar": [
           {
            "marker": {
             "line": {
              "color": "#E5ECF6",
              "width": 0.5
             },
             "pattern": {
              "fillmode": "overlay",
              "size": 10,
              "solidity": 0.2
             }
            },
            "type": "barpolar"
           }
          ],
          "carpet": [
           {
            "aaxis": {
             "endlinecolor": "#2a3f5f",
             "gridcolor": "white",
             "linecolor": "white",
             "minorgridcolor": "white",
             "startlinecolor": "#2a3f5f"
            },
            "baxis": {
             "endlinecolor": "#2a3f5f",
             "gridcolor": "white",
             "linecolor": "white",
             "minorgridcolor": "white",
             "startlinecolor": "#2a3f5f"
            },
            "type": "carpet"
           }
          ],
          "choropleth": [
           {
            "colorbar": {
             "outlinewidth": 0,
             "ticks": ""
            },
            "type": "choropleth"
           }
          ],
          "contour": [
           {
            "colorbar": {
             "outlinewidth": 0,
             "ticks": ""
            },
            "colorscale": [
             [
              0,
              "#0d0887"
             ],
             [
              0.1111111111111111,
              "#46039f"
             ],
             [
              0.2222222222222222,
              "#7201a8"
             ],
             [
              0.3333333333333333,
              "#9c179e"
             ],
             [
              0.4444444444444444,
              "#bd3786"
             ],
             [
              0.5555555555555556,
              "#d8576b"
             ],
             [
              0.6666666666666666,
              "#ed7953"
             ],
             [
              0.7777777777777778,
              "#fb9f3a"
             ],
             [
              0.8888888888888888,
              "#fdca26"
             ],
             [
              1,
              "#f0f921"
             ]
            ],
            "type": "contour"
           }
          ],
          "contourcarpet": [
           {
            "colorbar": {
             "outlinewidth": 0,
             "ticks": ""
            },
            "type": "contourcarpet"
           }
          ],
          "heatmap": [
           {
            "colorbar": {
             "outlinewidth": 0,
             "ticks": ""
            },
            "colorscale": [
             [
              0,
              "#0d0887"
             ],
             [
              0.1111111111111111,
              "#46039f"
             ],
             [
              0.2222222222222222,
              "#7201a8"
             ],
             [
              0.3333333333333333,
              "#9c179e"
             ],
             [
              0.4444444444444444,
              "#bd3786"
             ],
             [
              0.5555555555555556,
              "#d8576b"
             ],
             [
              0.6666666666666666,
              "#ed7953"
             ],
             [
              0.7777777777777778,
              "#fb9f3a"
             ],
             [
              0.8888888888888888,
              "#fdca26"
             ],
             [
              1,
              "#f0f921"
             ]
            ],
            "type": "heatmap"
           }
          ],
          "histogram": [
           {
            "marker": {
             "pattern": {
              "fillmode": "overlay",
              "size": 10,
              "solidity": 0.2
             }
            },
            "type": "histogram"
           }
          ],
          "histogram2d": [
           {
            "colorbar": {
             "outlinewidth": 0,
             "ticks": ""
            },
            "colorscale": [
             [
              0,
              "#0d0887"
             ],
             [
              0.1111111111111111,
              "#46039f"
             ],
             [
              0.2222222222222222,
              "#7201a8"
             ],
             [
              0.3333333333333333,
              "#9c179e"
             ],
             [
              0.4444444444444444,
              "#bd3786"
             ],
             [
              0.5555555555555556,
              "#d8576b"
             ],
             [
              0.6666666666666666,
              "#ed7953"
             ],
             [
              0.7777777777777778,
              "#fb9f3a"
             ],
             [
              0.8888888888888888,
              "#fdca26"
             ],
             [
              1,
              "#f0f921"
             ]
            ],
            "type": "histogram2d"
           }
          ],
          "histogram2dcontour": [
           {
            "colorbar": {
             "outlinewidth": 0,
             "ticks": ""
            },
            "colorscale": [
             [
              0,
              "#0d0887"
             ],
             [
              0.1111111111111111,
              "#46039f"
             ],
             [
              0.2222222222222222,
              "#7201a8"
             ],
             [
              0.3333333333333333,
              "#9c179e"
             ],
             [
              0.4444444444444444,
              "#bd3786"
             ],
             [
              0.5555555555555556,
              "#d8576b"
             ],
             [
              0.6666666666666666,
              "#ed7953"
             ],
             [
              0.7777777777777778,
              "#fb9f3a"
             ],
             [
              0.8888888888888888,
              "#fdca26"
             ],
             [
              1,
              "#f0f921"
             ]
            ],
            "type": "histogram2dcontour"
           }
          ],
          "mesh3d": [
           {
            "colorbar": {
             "outlinewidth": 0,
             "ticks": ""
            },
            "type": "mesh3d"
           }
          ],
          "parcoords": [
           {
            "line": {
             "colorbar": {
              "outlinewidth": 0,
              "ticks": ""
             }
            },
            "type": "parcoords"
           }
          ],
          "pie": [
           {
            "automargin": true,
            "type": "pie"
           }
          ],
          "scatter": [
           {
            "fillpattern": {
             "fillmode": "overlay",
             "size": 10,
             "solidity": 0.2
            },
            "type": "scatter"
           }
          ],
          "scatter3d": [
           {
            "line": {
             "colorbar": {
              "outlinewidth": 0,
              "ticks": ""
             }
            },
            "marker": {
             "colorbar": {
              "outlinewidth": 0,
              "ticks": ""
             }
            },
            "type": "scatter3d"
           }
          ],
          "scattercarpet": [
           {
            "marker": {
             "colorbar": {
              "outlinewidth": 0,
              "ticks": ""
             }
            },
            "type": "scattercarpet"
           }
          ],
          "scattergeo": [
           {
            "marker": {
             "colorbar": {
              "outlinewidth": 0,
              "ticks": ""
             }
            },
            "type": "scattergeo"
           }
          ],
          "scattergl": [
           {
            "marker": {
             "colorbar": {
              "outlinewidth": 0,
              "ticks": ""
             }
            },
            "type": "scattergl"
           }
          ],
          "scattermap": [
           {
            "marker": {
             "colorbar": {
              "outlinewidth": 0,
              "ticks": ""
             }
            },
            "type": "scattermap"
           }
          ],
          "scattermapbox": [
           {
            "marker": {
             "colorbar": {
              "outlinewidth": 0,
              "ticks": ""
             }
            },
            "type": "scattermapbox"
           }
          ],
          "scatterpolar": [
           {
            "marker": {
             "colorbar": {
              "outlinewidth": 0,
              "ticks": ""
             }
            },
            "type": "scatterpolar"
           }
          ],
          "scatterpolargl": [
           {
            "marker": {
             "colorbar": {
              "outlinewidth": 0,
              "ticks": ""
             }
            },
            "type": "scatterpolargl"
           }
          ],
          "scatterternary": [
           {
            "marker": {
             "colorbar": {
              "outlinewidth": 0,
              "ticks": ""
             }
            },
            "type": "scatterternary"
           }
          ],
          "surface": [
           {
            "colorbar": {
             "outlinewidth": 0,
             "ticks": ""
            },
            "colorscale": [
             [
              0,
              "#0d0887"
             ],
             [
              0.1111111111111111,
              "#46039f"
             ],
             [
              0.2222222222222222,
              "#7201a8"
             ],
             [
              0.3333333333333333,
              "#9c179e"
             ],
             [
              0.4444444444444444,
              "#bd3786"
             ],
             [
              0.5555555555555556,
              "#d8576b"
             ],
             [
              0.6666666666666666,
              "#ed7953"
             ],
             [
              0.7777777777777778,
              "#fb9f3a"
             ],
             [
              0.8888888888888888,
              "#fdca26"
             ],
             [
              1,
              "#f0f921"
             ]
            ],
            "type": "surface"
           }
          ],
          "table": [
           {
            "cells": {
             "fill": {
              "color": "#EBF0F8"
             },
             "line": {
              "color": "white"
             }
            },
            "header": {
             "fill": {
              "color": "#C8D4E3"
             },
             "line": {
              "color": "white"
             }
            },
            "type": "table"
           }
          ]
         },
         "layout": {
          "annotationdefaults": {
           "arrowcolor": "#2a3f5f",
           "arrowhead": 0,
           "arrowwidth": 1
          },
          "autotypenumbers": "strict",
          "coloraxis": {
           "colorbar": {
            "outlinewidth": 0,
            "ticks": ""
           }
          },
          "colorscale": {
           "diverging": [
            [
             0,
             "#8e0152"
            ],
            [
             0.1,
             "#c51b7d"
            ],
            [
             0.2,
             "#de77ae"
            ],
            [
             0.3,
             "#f1b6da"
            ],
            [
             0.4,
             "#fde0ef"
            ],
            [
             0.5,
             "#f7f7f7"
            ],
            [
             0.6,
             "#e6f5d0"
            ],
            [
             0.7,
             "#b8e186"
            ],
            [
             0.8,
             "#7fbc41"
            ],
            [
             0.9,
             "#4d9221"
            ],
            [
             1,
             "#276419"
            ]
           ],
           "sequential": [
            [
             0,
             "#0d0887"
            ],
            [
             0.1111111111111111,
             "#46039f"
            ],
            [
             0.2222222222222222,
             "#7201a8"
            ],
            [
             0.3333333333333333,
             "#9c179e"
            ],
            [
             0.4444444444444444,
             "#bd3786"
            ],
            [
             0.5555555555555556,
             "#d8576b"
            ],
            [
             0.6666666666666666,
             "#ed7953"
            ],
            [
             0.7777777777777778,
             "#fb9f3a"
            ],
            [
             0.8888888888888888,
             "#fdca26"
            ],
            [
             1,
             "#f0f921"
            ]
           ],
           "sequentialminus": [
            [
             0,
             "#0d0887"
            ],
            [
             0.1111111111111111,
             "#46039f"
            ],
            [
             0.2222222222222222,
             "#7201a8"
            ],
            [
             0.3333333333333333,
             "#9c179e"
            ],
            [
             0.4444444444444444,
             "#bd3786"
            ],
            [
             0.5555555555555556,
             "#d8576b"
            ],
            [
             0.6666666666666666,
             "#ed7953"
            ],
            [
             0.7777777777777778,
             "#fb9f3a"
            ],
            [
             0.8888888888888888,
             "#fdca26"
            ],
            [
             1,
             "#f0f921"
            ]
           ]
          },
          "colorway": [
           "#636efa",
           "#EF553B",
           "#00cc96",
           "#ab63fa",
           "#FFA15A",
           "#19d3f3",
           "#FF6692",
           "#B6E880",
           "#FF97FF",
           "#FECB52"
          ],
          "font": {
           "color": "#2a3f5f"
          },
          "geo": {
           "bgcolor": "white",
           "lakecolor": "white",
           "landcolor": "#E5ECF6",
           "showlakes": true,
           "showland": true,
           "subunitcolor": "white"
          },
          "hoverlabel": {
           "align": "left"
          },
          "hovermode": "closest",
          "mapbox": {
           "style": "light"
          },
          "paper_bgcolor": "white",
          "plot_bgcolor": "#E5ECF6",
          "polar": {
           "angularaxis": {
            "gridcolor": "white",
            "linecolor": "white",
            "ticks": ""
           },
           "bgcolor": "#E5ECF6",
           "radialaxis": {
            "gridcolor": "white",
            "linecolor": "white",
            "ticks": ""
           }
          },
          "scene": {
           "xaxis": {
            "backgroundcolor": "#E5ECF6",
            "gridcolor": "white",
            "gridwidth": 2,
            "linecolor": "white",
            "showbackground": true,
            "ticks": "",
            "zerolinecolor": "white"
           },
           "yaxis": {
            "backgroundcolor": "#E5ECF6",
            "gridcolor": "white",
            "gridwidth": 2,
            "linecolor": "white",
            "showbackground": true,
            "ticks": "",
            "zerolinecolor": "white"
           },
           "zaxis": {
            "backgroundcolor": "#E5ECF6",
            "gridcolor": "white",
            "gridwidth": 2,
            "linecolor": "white",
            "showbackground": true,
            "ticks": "",
            "zerolinecolor": "white"
           }
          },
          "shapedefaults": {
           "line": {
            "color": "#2a3f5f"
           }
          },
          "ternary": {
           "aaxis": {
            "gridcolor": "white",
            "linecolor": "white",
            "ticks": ""
           },
           "baxis": {
            "gridcolor": "white",
            "linecolor": "white",
            "ticks": ""
           },
           "bgcolor": "#E5ECF6",
           "caxis": {
            "gridcolor": "white",
            "linecolor": "white",
            "ticks": ""
           }
          },
          "title": {
           "x": 0.05
          },
          "xaxis": {
           "automargin": true,
           "gridcolor": "white",
           "linecolor": "white",
           "ticks": "",
           "title": {
            "standoff": 15
           },
           "zerolinecolor": "white",
           "zerolinewidth": 2
          },
          "yaxis": {
           "automargin": true,
           "gridcolor": "white",
           "linecolor": "white",
           "ticks": "",
           "title": {
            "standoff": 15
           },
           "zerolinecolor": "white",
           "zerolinewidth": 2
          }
         }
        },
        "title": {
         "text": "CO₂-uitstoot per ton landbouwproductie en milieubeleid (EPI-score) per land (2022)"
        }
       }
      }
     },
     "metadata": {},
     "output_type": "display_data"
    }
   ],
   "source": [
    "import pandas as pd\n",
    "import plotly.graph_objects as go\n",
    "\n",
    "# Data inladen\n",
    "emissies = pd.read_csv(\"../data1/FAOSTAT_landbouw_emissies_2022.csv\")\n",
    "productie = pd.read_csv(\"../data1/FAOSTAT_landbouw_productie_2022.csv\")\n",
    "epi = pd.read_csv(\"../data1/epi2022results05302022.csv\")\n",
    "\n",
    "# Emissies per land (in kiloton)\n",
    "emissie_per_land = emissies.groupby(\"Area\")[\"Value\"].sum().reset_index()\n",
    "emissie_per_land.columns = [\"Country\", \"Emissions_kt\"]\n",
    "\n",
    "# Productie per land (in ton omzetten naar kiloton)\n",
    "productie_per_land = productie.groupby(\"Area\")[\"Value\"].sum().reset_index()\n",
    "productie_per_land.columns = [\"Country\", \"Production_ton\"]\n",
    "productie_per_land[\"Production_kt\"] = productie_per_land[\"Production_ton\"] / 1000\n",
    "\n",
    "# Combineren en berekenen uitstoot per ton\n",
    "combined = pd.merge(emissie_per_land, productie_per_land, on=\"Country\")\n",
    "combined[\"Emissions_per_ton\"] = combined[\"Emissions_kt\"] / combined[\"Production_kt\"]\n",
    "\n",
    "# EPI-score koppelen\n",
    "epi = epi.rename(columns={\"country\": \"Country\", \"EPI.new\": \"EPI_Score\"})\n",
    "final = pd.merge(combined, epi[[\"Country\", \"EPI_Score\"]], on=\"Country\")\n",
    "\n",
    "# 🔍 Filter landen met te weinig landbouwproductie (minder dan 100 kiloton)\n",
    "final = final[(final[\"Production_kt\"] > 5000) & (final[\"Emissions_kt\"] > 50)]\n",
    "\n",
    "\n",
    "# Percentielen voor kleurcontrasten\n",
    "p10 = final[\"Emissions_per_ton\"].quantile(0.10)\n",
    "p90 = final[\"Emissions_per_ton\"].quantile(0.90)\n",
    "\n",
    "# EPI als achtergrondkaart\n",
    "choropleth = go.Choropleth(\n",
    "    locations=final[\"Country\"],\n",
    "    locationmode=\"country names\",\n",
    "    z=final[\"EPI_Score\"],\n",
    "    colorscale=\"YlGn\",\n",
    "    zmin=0,\n",
    "    zmax=100,\n",
    "    showscale=True,\n",
    "    colorbar=dict(\n",
    "        title=\"EPI Score\",\n",
    "        x=1.02,\n",
    "        len=0.6\n",
    "    )\n",
    ")\n",
    "\n",
    "# Scatter: uitstoot per ton landbouwproductie\n",
    "scatter = go.Scattergeo(\n",
    "    locationmode='country names',\n",
    "    locations=final[\"Country\"],\n",
    "    text=final[\"Country\"],\n",
    "    marker=dict(\n",
    "        size=4,\n",
    "        color=final[\"Emissions_per_ton\"],\n",
    "        colorscale=[\"#ffffcc\", \"#ffcc66\", \"#ff9933\", \"#cc3300\", \"#660000\"],\n",
    "        cmin=p10,\n",
    "        cmax=p90,\n",
    "        colorbar=dict(\n",
    "            title=\"CO₂-uitstoot per ton landbouwproductie\",\n",
    "            tickangle=0,\n",
    "            x=0.5,\n",
    "            xanchor=\"center\",\n",
    "            y=-0.12,\n",
    "            len=1.0,\n",
    "            thickness=20,\n",
    "            tickvals=[\n",
    "                round(p10, 3),\n",
    "                round((p10 + p90) / 2, 3),\n",
    "                round(p90, 3)\n",
    "            ]\n",
    "        )\n",
    "    ),\n",
    "    name=\"Uitstoot per ton\"\n",
    ")\n",
    "\n",
    "# Layout\n",
    "fig = go.Figure(data=[choropleth, scatter])\n",
    "fig.update_layout(\n",
    "    title=\"CO₂-uitstoot per ton landbouwproductie en milieubeleid (EPI-score) per land (2022)\",\n",
    "    geo=dict(\n",
    "        showframe=False,\n",
    "        showcoastlines=True,\n",
    "        projection_type='equirectangular'\n",
    "    ),\n",
    "    height=550\n",
    ")\n",
    "\n",
    "fig.show()\n"
   ]
  }
 ],
 "metadata": {
  "kernelspec": {
   "display_name": "base",
   "language": "python",
   "name": "python3"
  },
  "language_info": {
   "codemirror_mode": {
    "name": "ipython",
    "version": 3
   },
   "file_extension": ".py",
   "mimetype": "text/x-python",
   "name": "python",
   "nbconvert_exporter": "python",
   "pygments_lexer": "ipython3",
   "version": "3.12.2"
  }
 },
 "nbformat": 4,
 "nbformat_minor": 5
}
